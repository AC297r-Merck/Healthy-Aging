{
 "cells": [
  {
   "cell_type": "code",
   "execution_count": null,
   "metadata": {
    "cell_id": "00000-ab350245-a810-464e-8400-2359aa3d870a",
    "deepnote_cell_type": "code",
    "deepnote_to_be_reexecuted": false,
    "execution_millis": 7,
    "execution_start": 1614608292744,
    "source_hash": "16a731b7",
    "tags": []
   },
   "outputs": [],
   "source": [
    "import sqlite3\n",
    "import csv\n",
    "import os\n",
    "import numpy as np\n",
    "import pandas as pd\n",
    "from sklearn.model_selection import train_test_split\n",
    "from sklearn.linear_model import LogisticRegression\n",
    "from sklearn import metrics\n",
    "import seaborn as sn\n",
    "import matplotlib.pyplot as plt\n",
    "\n"
   ]
  },
  {
   "cell_type": "code",
   "execution_count": null,
   "metadata": {},
   "outputs": [],
   "source": [
    "#Reading in blood test results\n",
    "blood_data = pd.read_csv ('clean_blood_test.csv')   \n",
    "blood_chem_df = pd.DataFrame(blood_data)\n",
    "blood_chem_df=blood_chem_df.dropna()"
   ]
  },
  {
   "cell_type": "code",
   "execution_count": null,
   "metadata": {
    "cell_id": "00002-4cc9790f-f171-40a8-a878-e1584b6ce8b4",
    "deepnote_cell_type": "code",
    "deepnote_to_be_reexecuted": false,
    "execution_millis": 127,
    "execution_start": 1614608292801,
    "source_hash": "436d5e93",
    "tags": []
   },
   "outputs": [
    {
     "data": {
      "application/vnd.deepnote.dataframe.v2+json": {
       "column_count": 36,
       "columns": [
        {
         "dtype": "int64",
         "name": "PATNO",
         "stats": {
          "histogram": [
           {
            "bin_end": 3114,
            "bin_start": 3000,
            "count": 29
           },
           {
            "bin_end": 3228,
            "bin_start": 3114,
            "count": 29
           },
           {
            "bin_end": 3342,
            "bin_start": 3228,
            "count": 21
           },
           {
            "bin_end": 3456,
            "bin_start": 3342,
            "count": 28
           },
           {
            "bin_end": 3570,
            "bin_start": 3456,
            "count": 32
           },
           {
            "bin_end": 3684,
            "bin_start": 3570,
            "count": 25
           },
           {
            "bin_end": 3798,
            "bin_start": 3684,
            "count": 13
           },
           {
            "bin_end": 3912,
            "bin_start": 3798,
            "count": 22
           },
           {
            "bin_end": 4026,
            "bin_start": 3912,
            "count": 18
           },
           {
            "bin_end": 4140,
            "bin_start": 4026,
            "count": 15
           }
          ],
          "max": 4140,
          "min": 3000,
          "nan_count": 0,
          "unique_count": 232
         }
        },
        {
         "dtype": "float64",
         "name": "YOB",
         "stats": {
          "histogram": [
           {
            "bin_end": 1932.3,
            "bin_start": 1927,
            "count": 11
           },
           {
            "bin_end": 1937.6,
            "bin_start": 1932.3,
            "count": 12
           },
           {
            "bin_end": 1942.9,
            "bin_start": 1937.6,
            "count": 34
           },
           {
            "bin_end": 1948.2,
            "bin_start": 1942.9,
            "count": 56
           },
           {
            "bin_end": 1953.5,
            "bin_start": 1948.2,
            "count": 34
           },
           {
            "bin_end": 1958.8,
            "bin_start": 1953.5,
            "count": 44
           },
           {
            "bin_end": 1964.1,
            "bin_start": 1958.8,
            "count": 14
           },
           {
            "bin_end": 1969.4,
            "bin_start": 1964.1,
            "count": 12
           },
           {
            "bin_end": 1974.7,
            "bin_start": 1969.4,
            "count": 8
           },
           {
            "bin_end": 1980,
            "bin_start": 1974.7,
            "count": 7
           }
          ],
          "max": 1980,
          "min": 1927,
          "nan_count": 0,
          "unique_count": 48
         }
        },
        {
         "dtype": "float64",
         "name": "AGE",
         "stats": {
          "histogram": [
           {
            "bin_end": 35.3,
            "bin_start": 30,
            "count": 7
           },
           {
            "bin_end": 40.6,
            "bin_start": 35.3,
            "count": 8
           },
           {
            "bin_end": 45.9,
            "bin_start": 40.6,
            "count": 12
           },
           {
            "bin_end": 51.2,
            "bin_start": 45.9,
            "count": 14
           },
           {
            "bin_end": 56.5,
            "bin_start": 51.2,
            "count": 44
           },
           {
            "bin_end": 61.8,
            "bin_start": 56.5,
            "count": 34
           },
           {
            "bin_end": 67.1,
            "bin_start": 61.8,
            "count": 56
           },
           {
            "bin_end": 72.4,
            "bin_start": 67.1,
            "count": 34
           },
           {
            "bin_end": 77.69999999999999,
            "bin_start": 72.4,
            "count": 12
           },
           {
            "bin_end": 83,
            "bin_start": 77.69999999999999,
            "count": 11
           }
          ],
          "max": 83,
          "min": 30,
          "nan_count": 0,
          "unique_count": 48
         }
        },
        {
         "dtype": "float64",
         "name": "Prothrombin Time",
         "stats": {
          "histogram": [
           {
            "bin_end": 12.45,
            "bin_start": 9.6,
            "count": 218
           },
           {
            "bin_end": 15.3,
            "bin_start": 12.45,
            "count": 5
           },
           {
            "bin_end": 18.15,
            "bin_start": 15.3,
            "count": 1
           },
           {
            "bin_end": 21,
            "bin_start": 18.15,
            "count": 1
           },
           {
            "bin_end": 23.85,
            "bin_start": 21,
            "count": 0
           },
           {
            "bin_end": 26.700000000000003,
            "bin_start": 23.85,
            "count": 0
           },
           {
            "bin_end": 29.549999999999997,
            "bin_start": 26.700000000000003,
            "count": 0
           },
           {
            "bin_end": 32.4,
            "bin_start": 29.549999999999997,
            "count": 0
           },
           {
            "bin_end": 35.25,
            "bin_start": 32.4,
            "count": 1
           },
           {
            "bin_end": 38.1,
            "bin_start": 35.25,
            "count": 1
           }
          ],
          "max": 38.1,
          "min": 9.6,
          "nan_count": 5,
          "unique_count": 33
         }
        },
        {
         "dtype": "float64",
         "name": "APTT-QT",
         "stats": {
          "histogram": [
           {
            "bin_end": 23.98,
            "bin_start": 18.8,
            "count": 102
           },
           {
            "bin_end": 29.16,
            "bin_start": 23.98,
            "count": 113
           },
           {
            "bin_end": 34.34,
            "bin_start": 29.16,
            "count": 10
           },
           {
            "bin_end": 39.519999999999996,
            "bin_start": 34.34,
            "count": 1
           },
           {
            "bin_end": 44.7,
            "bin_start": 39.519999999999996,
            "count": 0
           },
           {
            "bin_end": 49.879999999999995,
            "bin_start": 44.7,
            "count": 0
           },
           {
            "bin_end": 55.06,
            "bin_start": 49.879999999999995,
            "count": 0
           },
           {
            "bin_end": 60.239999999999995,
            "bin_start": 55.06,
            "count": 0
           },
           {
            "bin_end": 65.42,
            "bin_start": 60.239999999999995,
            "count": 0
           },
           {
            "bin_end": 70.6,
            "bin_start": 65.42,
            "count": 1
           }
          ],
          "max": 70.6,
          "min": 18.8,
          "nan_count": 5,
          "unique_count": 97
         }
        },
        {
         "dtype": "float64",
         "name": "Monocytes",
         "stats": {
          "histogram": [
           {
            "bin_end": 0.242,
            "bin_start": 0.15,
            "count": 28
           },
           {
            "bin_end": 0.33399999999999996,
            "bin_start": 0.242,
            "count": 56
           },
           {
            "bin_end": 0.42600000000000005,
            "bin_start": 0.33399999999999996,
            "count": 52
           },
           {
            "bin_end": 0.518,
            "bin_start": 0.42600000000000005,
            "count": 41
           },
           {
            "bin_end": 0.61,
            "bin_start": 0.518,
            "count": 24
           },
           {
            "bin_end": 0.7020000000000001,
            "bin_start": 0.61,
            "count": 11
           },
           {
            "bin_end": 0.794,
            "bin_start": 0.7020000000000001,
            "count": 7
           },
           {
            "bin_end": 0.886,
            "bin_start": 0.794,
            "count": 1
           },
           {
            "bin_end": 0.978,
            "bin_start": 0.886,
            "count": 2
           },
           {
            "bin_end": 1.07,
            "bin_start": 0.978,
            "count": 1
           }
          ],
          "max": 1.07,
          "min": 0.15,
          "nan_count": 9,
          "unique_count": 59
         }
        },
        {
         "dtype": "float64",
         "name": "Eosinophils",
         "stats": {
          "histogram": [
           {
            "bin_end": 0.087,
            "bin_start": 0.02,
            "count": 57
           },
           {
            "bin_end": 0.15399999999999997,
            "bin_start": 0.087,
            "count": 76
           },
           {
            "bin_end": 0.22099999999999995,
            "bin_start": 0.15399999999999997,
            "count": 44
           },
           {
            "bin_end": 0.288,
            "bin_start": 0.22099999999999995,
            "count": 22
           },
           {
            "bin_end": 0.355,
            "bin_start": 0.288,
            "count": 8
           },
           {
            "bin_end": 0.42199999999999993,
            "bin_start": 0.355,
            "count": 10
           },
           {
            "bin_end": 0.48899999999999993,
            "bin_start": 0.42199999999999993,
            "count": 5
           },
           {
            "bin_end": 0.5559999999999999,
            "bin_start": 0.48899999999999993,
            "count": 1
           },
           {
            "bin_end": 0.6229999999999999,
            "bin_start": 0.5559999999999999,
            "count": 0
           },
           {
            "bin_end": 0.69,
            "bin_start": 0.6229999999999999,
            "count": 1
           }
          ],
          "max": 0.69,
          "min": 0.02,
          "nan_count": 8,
          "unique_count": 41
         }
        },
        {
         "dtype": "float64",
         "name": "Basophils",
         "stats": {
          "histogram": [
           {
            "bin_end": 0.017,
            "bin_start": 0,
            "count": 19
           },
           {
            "bin_end": 0.034,
            "bin_start": 0.017,
            "count": 93
           },
           {
            "bin_end": 0.051000000000000004,
            "bin_start": 0.034,
            "count": 69
           },
           {
            "bin_end": 0.068,
            "bin_start": 0.051000000000000004,
            "count": 18
           },
           {
            "bin_end": 0.085,
            "bin_start": 0.068,
            "count": 10
           },
           {
            "bin_end": 0.10200000000000001,
            "bin_start": 0.085,
            "count": 8
           },
           {
            "bin_end": 0.11900000000000001,
            "bin_start": 0.10200000000000001,
            "count": 1
           },
           {
            "bin_end": 0.136,
            "bin_start": 0.11900000000000001,
            "count": 3
           },
           {
            "bin_end": 0.15300000000000002,
            "bin_start": 0.136,
            "count": 2
           },
           {
            "bin_end": 0.17,
            "bin_start": 0.15300000000000002,
            "count": 1
           }
          ],
          "max": 0.17,
          "min": 0,
          "nan_count": 8,
          "unique_count": 16
         }
        },
        {
         "dtype": "float64",
         "name": "Platelets",
         "stats": {
          "histogram": [
           {
            "bin_end": 98.2,
            "bin_start": 61,
            "count": 2
           },
           {
            "bin_end": 135.4,
            "bin_start": 98.2,
            "count": 6
           },
           {
            "bin_end": 172.60000000000002,
            "bin_start": 135.4,
            "count": 30
           },
           {
            "bin_end": 209.8,
            "bin_start": 172.60000000000002,
            "count": 43
           },
           {
            "bin_end": 247,
            "bin_start": 209.8,
            "count": 68
           },
           {
            "bin_end": 284.20000000000005,
            "bin_start": 247,
            "count": 37
           },
           {
            "bin_end": 321.40000000000003,
            "bin_start": 284.20000000000005,
            "count": 20
           },
           {
            "bin_end": 358.6,
            "bin_start": 321.40000000000003,
            "count": 12
           },
           {
            "bin_end": 395.8,
            "bin_start": 358.6,
            "count": 5
           },
           {
            "bin_end": 433,
            "bin_start": 395.8,
            "count": 1
           }
          ],
          "max": 433,
          "min": 61,
          "nan_count": 8,
          "unique_count": 144
         }
        },
        {
         "dtype": "float64",
         "name": "Neutrophils (%)",
         "stats": {
          "histogram": [
           {
            "bin_end": 35.519999999999996,
            "bin_start": 30.4,
            "count": 3
           },
           {
            "bin_end": 40.64,
            "bin_start": 35.519999999999996,
            "count": 2
           },
           {
            "bin_end": 45.76,
            "bin_start": 40.64,
            "count": 3
           },
           {
            "bin_end": 50.879999999999995,
            "bin_start": 45.76,
            "count": 18
           },
           {
            "bin_end": 55.99999999999999,
            "bin_start": 50.879999999999995,
            "count": 24
           },
           {
            "bin_end": 61.11999999999999,
            "bin_start": 55.99999999999999,
            "count": 49
           },
           {
            "bin_end": 66.24,
            "bin_start": 61.11999999999999,
            "count": 64
           },
           {
            "bin_end": 71.35999999999999,
            "bin_start": 66.24,
            "count": 41
           },
           {
            "bin_end": 76.47999999999999,
            "bin_start": 71.35999999999999,
            "count": 16
           },
           {
            "bin_end": 81.6,
            "bin_start": 76.47999999999999,
            "count": 4
           }
          ],
          "max": 81.6,
          "min": 30.4,
          "nan_count": 8,
          "unique_count": 156
         }
        },
        {
         "dtype": "float64",
         "name": "Lymphocytes (%)",
         "stats": {
          "histogram": [
           {
            "bin_end": 16.509999999999998,
            "bin_start": 11.6,
            "count": 8
           },
           {
            "bin_end": 21.42,
            "bin_start": 16.509999999999998,
            "count": 33
           },
           {
            "bin_end": 26.33,
            "bin_start": 21.42,
            "count": 49
           },
           {
            "bin_end": 31.240000000000002,
            "bin_start": 26.33,
            "count": 62
           },
           {
            "bin_end": 36.15,
            "bin_start": 31.240000000000002,
            "count": 39
           },
           {
            "bin_end": 41.06,
            "bin_start": 36.15,
            "count": 21
           },
           {
            "bin_end": 45.970000000000006,
            "bin_start": 41.06,
            "count": 6
           },
           {
            "bin_end": 50.88,
            "bin_start": 45.970000000000006,
            "count": 3
           },
           {
            "bin_end": 55.79,
            "bin_start": 50.88,
            "count": 0
           },
           {
            "bin_end": 60.7,
            "bin_start": 55.79,
            "count": 3
           }
          ],
          "max": 60.7,
          "min": 11.6,
          "nan_count": 8,
          "unique_count": 150
         }
        },
        {
         "dtype": "float64",
         "name": "Monocytes (%)",
         "stats": {
          "histogram": [
           {
            "bin_end": 3.51,
            "bin_start": 2.3,
            "count": 5
           },
           {
            "bin_end": 4.720000000000001,
            "bin_start": 3.51,
            "count": 29
           },
           {
            "bin_end": 5.930000000000001,
            "bin_start": 4.720000000000001,
            "count": 50
           },
           {
            "bin_end": 7.140000000000001,
            "bin_start": 5.930000000000001,
            "count": 54
           },
           {
            "bin_end": 8.350000000000001,
            "bin_start": 7.140000000000001,
            "count": 41
           },
           {
            "bin_end": 9.560000000000002,
            "bin_start": 8.350000000000001,
            "count": 24
           },
           {
            "bin_end": 10.77,
            "bin_start": 9.560000000000002,
            "count": 12
           },
           {
            "bin_end": 11.98,
            "bin_start": 10.77,
            "count": 4
           },
           {
            "bin_end": 13.190000000000001,
            "bin_start": 11.98,
            "count": 1
           },
           {
            "bin_end": 14.4,
            "bin_start": 13.190000000000001,
            "count": 3
           }
          ],
          "max": 14.4,
          "min": 2.3,
          "nan_count": 9,
          "unique_count": 75
         }
        },
        {
         "dtype": "float64",
         "name": "Eosinophils (%)",
         "stats": {
          "histogram": [
           {
            "bin_end": 1.31,
            "bin_start": 0.3,
            "count": 44
           },
           {
            "bin_end": 2.32,
            "bin_start": 1.31,
            "count": 70
           },
           {
            "bin_end": 3.33,
            "bin_start": 2.32,
            "count": 55
           },
           {
            "bin_end": 4.34,
            "bin_start": 3.33,
            "count": 27
           },
           {
            "bin_end": 5.35,
            "bin_start": 4.34,
            "count": 12
           },
           {
            "bin_end": 6.36,
            "bin_start": 5.35,
            "count": 9
           },
           {
            "bin_end": 7.37,
            "bin_start": 6.36,
            "count": 4
           },
           {
            "bin_end": 8.38,
            "bin_start": 7.37,
            "count": 2
           },
           {
            "bin_end": 9.39,
            "bin_start": 8.38,
            "count": 0
           },
           {
            "bin_end": 10.4,
            "bin_start": 9.39,
            "count": 1
           }
          ],
          "max": 10.4,
          "min": 0.3,
          "nan_count": 8,
          "unique_count": 63
         }
        },
        {
         "dtype": "float64",
         "name": "Basophils (%)",
         "stats": {
          "histogram": [
           {
            "bin_end": 0.29,
            "bin_start": 0,
            "count": 9
           },
           {
            "bin_end": 0.58,
            "bin_start": 0.29,
            "count": 80
           },
           {
            "bin_end": 0.8699999999999999,
            "bin_start": 0.58,
            "count": 79
           },
           {
            "bin_end": 1.16,
            "bin_start": 0.8699999999999999,
            "count": 33
           },
           {
            "bin_end": 1.45,
            "bin_start": 1.16,
            "count": 13
           },
           {
            "bin_end": 1.7399999999999998,
            "bin_start": 1.45,
            "count": 4
           },
           {
            "bin_end": 2.03,
            "bin_start": 1.7399999999999998,
            "count": 3
           },
           {
            "bin_end": 2.32,
            "bin_start": 2.03,
            "count": 0
           },
           {
            "bin_end": 2.61,
            "bin_start": 2.32,
            "count": 2
           },
           {
            "bin_end": 2.9,
            "bin_start": 2.61,
            "count": 1
           }
          ],
          "max": 2.9,
          "min": 0,
          "nan_count": 8,
          "unique_count": 22
         }
        },
        {
         "dtype": "float64",
         "name": "Hematocrit",
         "stats": {
          "histogram": [
           {
            "bin_end": 0.30400000000000005,
            "bin_start": 0.28,
            "count": 1
           },
           {
            "bin_end": 0.328,
            "bin_start": 0.30400000000000005,
            "count": 0
           },
           {
            "bin_end": 0.35200000000000004,
            "bin_start": 0.328,
            "count": 5
           },
           {
            "bin_end": 0.376,
            "bin_start": 0.35200000000000004,
            "count": 15
           },
           {
            "bin_end": 0.4,
            "bin_start": 0.376,
            "count": 28
           },
           {
            "bin_end": 0.42400000000000004,
            "bin_start": 0.4,
            "count": 67
           },
           {
            "bin_end": 0.44800000000000006,
            "bin_start": 0.42400000000000004,
            "count": 44
           },
           {
            "bin_end": 0.47200000000000003,
            "bin_start": 0.44800000000000006,
            "count": 40
           },
           {
            "bin_end": 0.496,
            "bin_start": 0.47200000000000003,
            "count": 11
           },
           {
            "bin_end": 0.52,
            "bin_start": 0.496,
            "count": 12
           }
          ],
          "max": 0.52,
          "min": 0.28,
          "nan_count": 9,
          "unique_count": 21
         }
        },
        {
         "dtype": "float64",
         "name": "RBC",
         "stats": {
          "histogram": [
           {
            "bin_end": 3.41,
            "bin_start": 3.1,
            "count": 1
           },
           {
            "bin_end": 3.72,
            "bin_start": 3.41,
            "count": 3
           },
           {
            "bin_end": 4.03,
            "bin_start": 3.72,
            "count": 14
           },
           {
            "bin_end": 4.34,
            "bin_start": 4.03,
            "count": 39
           },
           {
            "bin_end": 4.65,
            "bin_start": 4.34,
            "count": 60
           },
           {
            "bin_end": 4.96,
            "bin_start": 4.65,
            "count": 52
           },
           {
            "bin_end": 5.27,
            "bin_start": 4.96,
            "count": 37
           },
           {
            "bin_end": 5.58,
            "bin_start": 5.27,
            "count": 11
           },
           {
            "bin_end": 5.890000000000001,
            "bin_start": 5.58,
            "count": 3
           },
           {
            "bin_end": 6.2,
            "bin_start": 5.890000000000001,
            "count": 3
           }
          ],
          "max": 6.2,
          "min": 3.1,
          "nan_count": 9,
          "unique_count": 25
         }
        },
        {
         "dtype": "float64",
         "name": "Hemoglobin",
         "stats": {
          "histogram": [
           {
            "bin_end": 96.3,
            "bin_start": 87,
            "count": 1
           },
           {
            "bin_end": 105.6,
            "bin_start": 96.3,
            "count": 0
           },
           {
            "bin_end": 114.9,
            "bin_start": 105.6,
            "count": 3
           },
           {
            "bin_end": 124.2,
            "bin_start": 114.9,
            "count": 19
           },
           {
            "bin_end": 133.5,
            "bin_start": 124.2,
            "count": 30
           },
           {
            "bin_end": 142.8,
            "bin_start": 133.5,
            "count": 52
           },
           {
            "bin_end": 152.10000000000002,
            "bin_start": 142.8,
            "count": 69
           },
           {
            "bin_end": 161.4,
            "bin_start": 152.10000000000002,
            "count": 31
           },
           {
            "bin_end": 170.7,
            "bin_start": 161.4,
            "count": 15
           },
           {
            "bin_end": 180,
            "bin_start": 170.7,
            "count": 4
           }
          ],
          "max": 180,
          "min": 87,
          "nan_count": 8,
          "unique_count": 61
         }
        },
        {
         "dtype": "float64",
         "name": "WBC",
         "stats": {
          "histogram": [
           {
            "bin_end": 3.734,
            "bin_start": 2.58,
            "count": 9
           },
           {
            "bin_end": 4.888,
            "bin_start": 3.734,
            "count": 51
           },
           {
            "bin_end": 6.042,
            "bin_start": 4.888,
            "count": 66
           },
           {
            "bin_end": 7.196,
            "bin_start": 6.042,
            "count": 49
           },
           {
            "bin_end": 8.35,
            "bin_start": 7.196,
            "count": 29
           },
           {
            "bin_end": 9.504,
            "bin_start": 8.35,
            "count": 11
           },
           {
            "bin_end": 10.658,
            "bin_start": 9.504,
            "count": 4
           },
           {
            "bin_end": 11.812,
            "bin_start": 10.658,
            "count": 2
           },
           {
            "bin_end": 12.966,
            "bin_start": 11.812,
            "count": 1
           },
           {
            "bin_end": 14.12,
            "bin_start": 12.966,
            "count": 2
           }
          ],
          "max": 14.12,
          "min": 2.58,
          "nan_count": 8,
          "unique_count": 182
         }
        },
        {
         "dtype": "float64",
         "name": "RBC Morphology",
         "stats": {
          "histogram": [
           {
            "bin_end": -0.4,
            "bin_start": -0.5,
            "count": 0
           },
           {
            "bin_end": -0.3,
            "bin_start": -0.4,
            "count": 0
           },
           {
            "bin_end": -0.19999999999999996,
            "bin_start": -0.3,
            "count": 0
           },
           {
            "bin_end": -0.09999999999999998,
            "bin_start": -0.19999999999999996,
            "count": 0
           },
           {
            "bin_end": 0,
            "bin_start": -0.09999999999999998,
            "count": 0
           },
           {
            "bin_end": 0.10000000000000009,
            "bin_start": 0,
            "count": 224
           },
           {
            "bin_end": 0.20000000000000007,
            "bin_start": 0.10000000000000009,
            "count": 0
           },
           {
            "bin_end": 0.30000000000000004,
            "bin_start": 0.20000000000000007,
            "count": 0
           },
           {
            "bin_end": 0.4,
            "bin_start": 0.30000000000000004,
            "count": 0
           },
           {
            "bin_end": 0.5,
            "bin_start": 0.4,
            "count": 0
           }
          ],
          "max": 0,
          "min": 0,
          "nan_count": 8,
          "unique_count": 1
         }
        },
        {
         "dtype": "float64",
         "name": "Neutrophils",
         "stats": {
          "histogram": [
           {
            "bin_end": 1.854,
            "bin_start": 0.78,
            "count": 6
           },
           {
            "bin_end": 2.928,
            "bin_start": 1.854,
            "count": 54
           },
           {
            "bin_end": 4.002000000000001,
            "bin_start": 2.928,
            "count": 85
           },
           {
            "bin_end": 5.0760000000000005,
            "bin_start": 4.002000000000001,
            "count": 49
           },
           {
            "bin_end": 6.15,
            "bin_start": 5.0760000000000005,
            "count": 21
           },
           {
            "bin_end": 7.224000000000001,
            "bin_start": 6.15,
            "count": 6
           },
           {
            "bin_end": 8.298,
            "bin_start": 7.224000000000001,
            "count": 1
           },
           {
            "bin_end": 9.372,
            "bin_start": 8.298,
            "count": 1
           },
           {
            "bin_end": 10.446,
            "bin_start": 9.372,
            "count": 0
           },
           {
            "bin_end": 11.52,
            "bin_start": 10.446,
            "count": 1
           }
          ],
          "max": 11.52,
          "min": 0.78,
          "nan_count": 8,
          "unique_count": 166
         }
        },
        {
         "dtype": "float64",
         "name": "Lymphocytes",
         "stats": {
          "histogram": [
           {
            "bin_end": 1.404,
            "bin_start": 0.71,
            "count": 73
           },
           {
            "bin_end": 2.098,
            "bin_start": 1.404,
            "count": 108
           },
           {
            "bin_end": 2.7920000000000003,
            "bin_start": 2.098,
            "count": 31
           },
           {
            "bin_end": 3.486,
            "bin_start": 2.7920000000000003,
            "count": 7
           },
           {
            "bin_end": 4.18,
            "bin_start": 3.486,
            "count": 2
           },
           {
            "bin_end": 4.8740000000000006,
            "bin_start": 4.18,
            "count": 2
           },
           {
            "bin_end": 5.5680000000000005,
            "bin_start": 4.8740000000000006,
            "count": 0
           },
           {
            "bin_end": 6.2620000000000005,
            "bin_start": 5.5680000000000005,
            "count": 0
           },
           {
            "bin_end": 6.956,
            "bin_start": 6.2620000000000005,
            "count": 0
           },
           {
            "bin_end": 7.65,
            "bin_start": 6.956,
            "count": 1
           }
          ],
          "max": 7.65,
          "min": 0.71,
          "nan_count": 8,
          "unique_count": 135
         }
        },
        {
         "dtype": "float64",
         "name": "Total Bilirubin",
         "stats": {
          "histogram": [
           {
            "bin_end": 6.3,
            "bin_start": 0,
            "count": 54
           },
           {
            "bin_end": 12.6,
            "bin_start": 6.3,
            "count": 138
           },
           {
            "bin_end": 18.9,
            "bin_start": 12.6,
            "count": 19
           },
           {
            "bin_end": 25.2,
            "bin_start": 18.9,
            "count": 12
           },
           {
            "bin_end": 31.5,
            "bin_start": 25.2,
            "count": 4
           },
           {
            "bin_end": 37.8,
            "bin_start": 31.5,
            "count": 0
           },
           {
            "bin_end": 44.1,
            "bin_start": 37.8,
            "count": 0
           },
           {
            "bin_end": 50.4,
            "bin_start": 44.1,
            "count": 0
           },
           {
            "bin_end": 56.699999999999996,
            "bin_start": 50.4,
            "count": 0
           },
           {
            "bin_end": 63,
            "bin_start": 56.699999999999996,
            "count": 1
           }
          ],
          "max": 63,
          "min": 0,
          "nan_count": 4,
          "unique_count": 22
         }
        },
        {
         "dtype": "float64",
         "name": "Serum Glucose",
         "stats": {
          "histogram": [
           {
            "bin_end": 5.16,
            "bin_start": 3.6,
            "count": 77
           },
           {
            "bin_end": 6.720000000000001,
            "bin_start": 5.16,
            "count": 127
           },
           {
            "bin_end": 8.28,
            "bin_start": 6.720000000000001,
            "count": 14
           },
           {
            "bin_end": 9.84,
            "bin_start": 8.28,
            "count": 7
           },
           {
            "bin_end": 11.4,
            "bin_start": 9.84,
            "count": 1
           },
           {
            "bin_end": 12.959999999999999,
            "bin_start": 11.4,
            "count": 0
           },
           {
            "bin_end": 14.52,
            "bin_start": 12.959999999999999,
            "count": 1
           },
           {
            "bin_end": 16.080000000000002,
            "bin_start": 14.52,
            "count": 0
           },
           {
            "bin_end": 17.64,
            "bin_start": 16.080000000000002,
            "count": 0
           },
           {
            "bin_end": 19.2,
            "bin_start": 17.64,
            "count": 1
           }
          ],
          "max": 19.2,
          "min": 3.6,
          "nan_count": 4,
          "unique_count": 46
         }
        },
        {
         "dtype": "float64",
         "name": "Total Protein",
         "stats": {
          "histogram": [
           {
            "bin_end": 60.5,
            "bin_start": 58,
            "count": 3
           },
           {
            "bin_end": 63,
            "bin_start": 60.5,
            "count": 5
           },
           {
            "bin_end": 65.5,
            "bin_start": 63,
            "count": 22
           },
           {
            "bin_end": 68,
            "bin_start": 65.5,
            "count": 37
           },
           {
            "bin_end": 70.5,
            "bin_start": 68,
            "count": 64
           },
           {
            "bin_end": 73,
            "bin_start": 70.5,
            "count": 40
           },
           {
            "bin_end": 75.5,
            "bin_start": 73,
            "count": 37
           },
           {
            "bin_end": 78,
            "bin_start": 75.5,
            "count": 15
           },
           {
            "bin_end": 80.5,
            "bin_start": 78,
            "count": 5
           },
           {
            "bin_end": 83,
            "bin_start": 80.5,
            "count": 2
           }
          ],
          "max": 83,
          "min": 58,
          "nan_count": 2,
          "unique_count": 23
         }
        },
        {
         "dtype": "float64",
         "name": "Albumin-QT",
         "stats": {
          "histogram": [
           {
            "bin_end": 33.8,
            "bin_start": 32,
            "count": 1
           },
           {
            "bin_end": 35.6,
            "bin_start": 33.8,
            "count": 1
           },
           {
            "bin_end": 37.4,
            "bin_start": 35.6,
            "count": 6
           },
           {
            "bin_end": 39.2,
            "bin_start": 37.4,
            "count": 34
           },
           {
            "bin_end": 41,
            "bin_start": 39.2,
            "count": 23
           },
           {
            "bin_end": 42.8,
            "bin_start": 41,
            "count": 55
           },
           {
            "bin_end": 44.6,
            "bin_start": 42.8,
            "count": 55
           },
           {
            "bin_end": 46.4,
            "bin_start": 44.6,
            "count": 36
           },
           {
            "bin_end": 48.2,
            "bin_start": 46.4,
            "count": 13
           },
           {
            "bin_end": 50,
            "bin_start": 48.2,
            "count": 4
           }
          ],
          "max": 50,
          "min": 32,
          "nan_count": 4,
          "unique_count": 17
         }
        },
        {
         "dtype": "float64",
         "name": "Alkaline Phosphatase-QT",
         "stats": {
          "histogram": [
           {
            "bin_end": 51.8,
            "bin_start": 26,
            "count": 44
           },
           {
            "bin_end": 77.6,
            "bin_start": 51.8,
            "count": 124
           },
           {
            "bin_end": 103.4,
            "bin_start": 77.6,
            "count": 49
           },
           {
            "bin_end": 129.2,
            "bin_start": 103.4,
            "count": 8
           },
           {
            "bin_end": 155,
            "bin_start": 129.2,
            "count": 4
           },
           {
            "bin_end": 180.8,
            "bin_start": 155,
            "count": 0
           },
           {
            "bin_end": 206.6,
            "bin_start": 180.8,
            "count": 0
           },
           {
            "bin_end": 232.4,
            "bin_start": 206.6,
            "count": 0
           },
           {
            "bin_end": 258.20000000000005,
            "bin_start": 232.4,
            "count": 0
           },
           {
            "bin_end": 284,
            "bin_start": 258.20000000000005,
            "count": 1
           }
          ],
          "max": 284,
          "min": 26,
          "nan_count": 2,
          "unique_count": 74
         }
        },
        {
         "dtype": "float64",
         "name": "Serum Sodium",
         "stats": {
          "histogram": [
           {
            "bin_end": 129.8,
            "bin_start": 128,
            "count": 2
           },
           {
            "bin_end": 131.6,
            "bin_start": 129.8,
            "count": 3
           },
           {
            "bin_end": 133.4,
            "bin_start": 131.6,
            "count": 2
           },
           {
            "bin_end": 135.2,
            "bin_start": 133.4,
            "count": 12
           },
           {
            "bin_end": 137,
            "bin_start": 135.2,
            "count": 11
           },
           {
            "bin_end": 138.8,
            "bin_start": 137,
            "count": 58
           },
           {
            "bin_end": 140.6,
            "bin_start": 138.8,
            "count": 88
           },
           {
            "bin_end": 142.4,
            "bin_start": 140.6,
            "count": 39
           },
           {
            "bin_end": 144.2,
            "bin_start": 142.4,
            "count": 13
           },
           {
            "bin_end": 146,
            "bin_start": 144.2,
            "count": 2
           }
          ],
          "max": 146,
          "min": 128,
          "nan_count": 2,
          "unique_count": 18
         }
        },
        {
         "dtype": "float64",
         "name": "Serum Potassium",
         "stats": {
          "histogram": [
           {
            "bin_end": 3.52,
            "bin_start": 3.3,
            "count": 4
           },
           {
            "bin_end": 3.7399999999999998,
            "bin_start": 3.52,
            "count": 13
           },
           {
            "bin_end": 3.96,
            "bin_start": 3.7399999999999998,
            "count": 23
           },
           {
            "bin_end": 4.18,
            "bin_start": 3.96,
            "count": 44
           },
           {
            "bin_end": 4.4,
            "bin_start": 4.18,
            "count": 67
           },
           {
            "bin_end": 4.62,
            "bin_start": 4.4,
            "count": 51
           },
           {
            "bin_end": 4.84,
            "bin_start": 4.62,
            "count": 14
           },
           {
            "bin_end": 5.0600000000000005,
            "bin_start": 4.84,
            "count": 9
           },
           {
            "bin_end": 5.28,
            "bin_start": 5.0600000000000005,
            "count": 4
           },
           {
            "bin_end": 5.5,
            "bin_start": 5.28,
            "count": 1
           }
          ],
          "max": 5.5,
          "min": 3.3,
          "nan_count": 2,
          "unique_count": 21
         }
        },
        {
         "dtype": "float64",
         "name": "Serum Bicarbonate",
         "stats": {
          "histogram": [
           {
            "bin_end": 17.88,
            "bin_start": 16.7,
            "count": 1
           },
           {
            "bin_end": 19.06,
            "bin_start": 17.88,
            "count": 7
           },
           {
            "bin_end": 20.24,
            "bin_start": 19.06,
            "count": 16
           },
           {
            "bin_end": 21.42,
            "bin_start": 20.24,
            "count": 30
           },
           {
            "bin_end": 22.6,
            "bin_start": 21.42,
            "count": 32
           },
           {
            "bin_end": 23.78,
            "bin_start": 22.6,
            "count": 50
           },
           {
            "bin_end": 24.96,
            "bin_start": 23.78,
            "count": 40
           },
           {
            "bin_end": 26.14,
            "bin_start": 24.96,
            "count": 28
           },
           {
            "bin_end": 27.32,
            "bin_start": 26.14,
            "count": 14
           },
           {
            "bin_end": 28.5,
            "bin_start": 27.32,
            "count": 10
           }
          ],
          "max": 28.5,
          "min": 16.7,
          "nan_count": 4,
          "unique_count": 86
         }
        },
        {
         "dtype": "float64",
         "name": "Serum Chloride",
         "stats": {
          "histogram": [
           {
            "bin_end": 91.7,
            "bin_start": 90,
            "count": 2
           },
           {
            "bin_end": 93.4,
            "bin_start": 91.7,
            "count": 2
           },
           {
            "bin_end": 95.1,
            "bin_start": 93.4,
            "count": 3
           },
           {
            "bin_end": 96.8,
            "bin_start": 95.1,
            "count": 1
           },
           {
            "bin_end": 98.5,
            "bin_start": 96.8,
            "count": 23
           },
           {
            "bin_end": 100.2,
            "bin_start": 98.5,
            "count": 59
           },
           {
            "bin_end": 101.9,
            "bin_start": 100.2,
            "count": 27
           },
           {
            "bin_end": 103.6,
            "bin_start": 101.9,
            "count": 65
           },
           {
            "bin_end": 105.3,
            "bin_start": 103.6,
            "count": 34
           },
           {
            "bin_end": 107,
            "bin_start": 105.3,
            "count": 14
           }
          ],
          "max": 107,
          "min": 90,
          "nan_count": 2,
          "unique_count": 18
         }
        },
        {
         "dtype": "float64",
         "name": "Calcium (EDTA)",
         "stats": {
          "histogram": [
           {
            "bin_end": 2.016,
            "bin_start": 1.92,
            "count": 1
           },
           {
            "bin_end": 2.112,
            "bin_start": 2.016,
            "count": 0
           },
           {
            "bin_end": 2.208,
            "bin_start": 2.112,
            "count": 9
           },
           {
            "bin_end": 2.304,
            "bin_start": 2.208,
            "count": 57
           },
           {
            "bin_end": 2.4,
            "bin_start": 2.304,
            "count": 59
           },
           {
            "bin_end": 2.496,
            "bin_start": 2.4,
            "count": 73
           },
           {
            "bin_end": 2.592,
            "bin_start": 2.496,
            "count": 26
           },
           {
            "bin_end": 2.6879999999999997,
            "bin_start": 2.592,
            "count": 1
           },
           {
            "bin_end": 2.784,
            "bin_start": 2.6879999999999997,
            "count": 2
           },
           {
            "bin_end": 2.88,
            "bin_start": 2.784,
            "count": 2
           }
          ],
          "max": 2.88,
          "min": 1.92,
          "nan_count": 2,
          "unique_count": 33
         }
        },
        {
         "dtype": "float64",
         "name": "Creatinine (Rate Blanked)",
         "stats": {
          "histogram": [
           {
            "bin_end": 54.6,
            "bin_start": 44,
            "count": 9
           },
           {
            "bin_end": 65.2,
            "bin_start": 54.6,
            "count": 30
           },
           {
            "bin_end": 75.8,
            "bin_start": 65.2,
            "count": 48
           },
           {
            "bin_end": 86.4,
            "bin_start": 75.8,
            "count": 50
           },
           {
            "bin_end": 97,
            "bin_start": 86.4,
            "count": 37
           },
           {
            "bin_end": 107.6,
            "bin_start": 97,
            "count": 37
           },
           {
            "bin_end": 118.2,
            "bin_start": 107.6,
            "count": 8
           },
           {
            "bin_end": 128.8,
            "bin_start": 118.2,
            "count": 6
           },
           {
            "bin_end": 139.39999999999998,
            "bin_start": 128.8,
            "count": 1
           },
           {
            "bin_end": 150,
            "bin_start": 139.39999999999998,
            "count": 3
           }
          ],
          "max": 150,
          "min": 44,
          "nan_count": 3,
          "unique_count": 41
         }
        },
        {
         "dtype": "float64",
         "name": "ALT (SGPT)",
         "stats": {
          "histogram": [
           {
            "bin_end": 25.9,
            "bin_start": 8,
            "count": 168
           },
           {
            "bin_end": 43.8,
            "bin_start": 25.9,
            "count": 47
           },
           {
            "bin_end": 61.699999999999996,
            "bin_start": 43.8,
            "count": 8
           },
           {
            "bin_end": 79.6,
            "bin_start": 61.699999999999996,
            "count": 0
           },
           {
            "bin_end": 97.5,
            "bin_start": 79.6,
            "count": 4
           },
           {
            "bin_end": 115.39999999999999,
            "bin_start": 97.5,
            "count": 0
           },
           {
            "bin_end": 133.29999999999998,
            "bin_start": 115.39999999999999,
            "count": 0
           },
           {
            "bin_end": 151.2,
            "bin_start": 133.29999999999998,
            "count": 0
           },
           {
            "bin_end": 169.1,
            "bin_start": 151.2,
            "count": 0
           },
           {
            "bin_end": 187,
            "bin_start": 169.1,
            "count": 1
           }
          ],
          "max": 187,
          "min": 8,
          "nan_count": 4,
          "unique_count": 44
         }
        },
        {
         "dtype": "float64",
         "name": "AST (SGOT)",
         "stats": {
          "histogram": [
           {
            "bin_end": 20.5,
            "bin_start": 9,
            "count": 88
           },
           {
            "bin_end": 32,
            "bin_start": 20.5,
            "count": 119
           },
           {
            "bin_end": 43.5,
            "bin_start": 32,
            "count": 10
           },
           {
            "bin_end": 55,
            "bin_start": 43.5,
            "count": 5
           },
           {
            "bin_end": 66.5,
            "bin_start": 55,
            "count": 2
           },
           {
            "bin_end": 78,
            "bin_start": 66.5,
            "count": 0
           },
           {
            "bin_end": 89.5,
            "bin_start": 78,
            "count": 1
           },
           {
            "bin_end": 101,
            "bin_start": 89.5,
            "count": 0
           },
           {
            "bin_end": 112.5,
            "bin_start": 101,
            "count": 1
           },
           {
            "bin_end": 124,
            "bin_start": 112.5,
            "count": 1
           }
          ],
          "max": 124,
          "min": 9,
          "nan_count": 5,
          "unique_count": 34
         }
        },
        {
         "dtype": "float64",
         "name": "Urea Nitrogen",
         "stats": {
          "histogram": [
           {
            "bin_end": 3.8499999999999996,
            "bin_start": 2.9,
            "count": 18
           },
           {
            "bin_end": 4.8,
            "bin_start": 3.8499999999999996,
            "count": 36
           },
           {
            "bin_end": 5.75,
            "bin_start": 4.8,
            "count": 72
           },
           {
            "bin_end": 6.699999999999999,
            "bin_start": 5.75,
            "count": 33
           },
           {
            "bin_end": 7.65,
            "bin_start": 6.699999999999999,
            "count": 40
           },
           {
            "bin_end": 8.6,
            "bin_start": 7.65,
            "count": 7
           },
           {
            "bin_end": 9.549999999999999,
            "bin_start": 8.6,
            "count": 10
           },
           {
            "bin_end": 10.5,
            "bin_start": 9.549999999999999,
            "count": 9
           },
           {
            "bin_end": 11.45,
            "bin_start": 10.5,
            "count": 4
           },
           {
            "bin_end": 12.4,
            "bin_start": 11.45,
            "count": 1
           }
          ],
          "max": 12.4,
          "min": 2.9,
          "nan_count": 2,
          "unique_count": 45
         }
        },
        {
         "dtype": "float64",
         "name": "Serum Uric Acid",
         "stats": {
          "histogram": [
           {
            "bin_end": 152.2,
            "bin_start": 107,
            "count": 1
           },
           {
            "bin_end": 197.4,
            "bin_start": 152.2,
            "count": 7
           },
           {
            "bin_end": 242.60000000000002,
            "bin_start": 197.4,
            "count": 23
           },
           {
            "bin_end": 287.8,
            "bin_start": 242.60000000000002,
            "count": 40
           },
           {
            "bin_end": 333,
            "bin_start": 287.8,
            "count": 53
           },
           {
            "bin_end": 378.20000000000005,
            "bin_start": 333,
            "count": 57
           },
           {
            "bin_end": 423.40000000000003,
            "bin_start": 378.20000000000005,
            "count": 24
           },
           {
            "bin_end": 468.6,
            "bin_start": 423.40000000000003,
            "count": 9
           },
           {
            "bin_end": 513.8,
            "bin_start": 468.6,
            "count": 11
           },
           {
            "bin_end": 559,
            "bin_start": 513.8,
            "count": 5
           }
          ],
          "max": 559,
          "min": 107,
          "nan_count": 2,
          "unique_count": 86
         }
        },
        {
         "dtype": "int64",
         "name": "_deepnote_index_column"
        }
       ],
       "row_count": 232,
       "rows_bottom": [
        {
         "AGE": 64,
         "ALT (SGPT)": 22,
         "APTT-QT": 31.1,
         "AST (SGOT)": 26,
         "Albumin-QT": 39,
         "Alkaline Phosphatase-QT": 47,
         "Basophils": 0.04,
         "Basophils (%)": 0.8,
         "Calcium (EDTA)": 2.25,
         "Creatinine (Rate Blanked)": 126,
         "Eosinophils": 0.08,
         "Eosinophils (%)": 1.6,
         "Hematocrit": 0.37,
         "Hemoglobin": 130,
         "Lymphocytes": 0.85,
         "Lymphocytes (%)": 17.2,
         "Monocytes": "0.28",
         "Monocytes (%)": "5.7",
         "Neutrophils": 3.7,
         "Neutrophils (%)": 74.7,
         "PATNO": 4085,
         "Platelets": 213,
         "Prothrombin Time": 10.8,
         "RBC": "4.1",
         "RBC Morphology": 0,
         "Serum Bicarbonate": 20.1,
         "Serum Chloride": 103,
         "Serum Glucose": 6.4,
         "Serum Potassium": 4.5,
         "Serum Sodium": 140,
         "Serum Uric Acid": 354,
         "Total Bilirubin": 17,
         "Total Protein": 66,
         "Urea Nitrogen": 6.4,
         "WBC": 4.96,
         "YOB": 1946,
         "_deepnote_index_column": 218
        },
        {
         "AGE": 42,
         "ALT (SGPT)": 11,
         "APTT-QT": 22.2,
         "AST (SGOT)": 19,
         "Albumin-QT": 43,
         "Alkaline Phosphatase-QT": 58,
         "Basophils": 0.01,
         "Basophils (%)": 0.3,
         "Calcium (EDTA)": 2.2,
         "Creatinine (Rate Blanked)": 53,
         "Eosinophils": 0.02,
         "Eosinophils (%)": 0.5,
         "Hematocrit": 0.35,
         "Hemoglobin": 113,
         "Lymphocytes": 1.3,
         "Lymphocytes (%)": 31.3,
         "Monocytes": "0.27",
         "Monocytes (%)": "6.4",
         "Neutrophils": 2.54,
         "Neutrophils (%)": 61.4,
         "PATNO": 3950,
         "Platelets": 202,
         "Prothrombin Time": 10.1,
         "RBC": "4.3",
         "RBC Morphology": 0,
         "Serum Bicarbonate": 22.2,
         "Serum Chloride": 100,
         "Serum Glucose": 4.8,
         "Serum Potassium": 3.8,
         "Serum Sodium": 138,
         "Serum Uric Acid": 202,
         "Total Bilirubin": 7,
         "Total Protein": 68,
         "Urea Nitrogen": 5.4,
         "WBC": 4.13,
         "YOB": 1968,
         "_deepnote_index_column": 219
        },
        {
         "AGE": 44,
         "ALT (SGPT)": 19,
         "APTT-QT": 21.3,
         "AST (SGOT)": 18,
         "Albumin-QT": 39,
         "Alkaline Phosphatase-QT": 94,
         "Basophils": 0.01,
         "Basophils (%)": 0.4,
         "Calcium (EDTA)": 2.25,
         "Creatinine (Rate Blanked)": 62,
         "Eosinophils": 0.12,
         "Eosinophils (%)": 2.6,
         "Hematocrit": 0.39,
         "Hemoglobin": 134,
         "Lymphocytes": 0.71,
         "Lymphocytes (%)": 25.4,
         "Monocytes": "0.37",
         "Monocytes (%)": "6.3",
         "Neutrophils": 2.89,
         "Neutrophils (%)": 70.6,
         "PATNO": 3161,
         "Platelets": 213,
         "Prothrombin Time": 10,
         "RBC": "4.7",
         "RBC Morphology": 0,
         "Serum Bicarbonate": 23.1,
         "Serum Chloride": 104,
         "Serum Glucose": 4.9,
         "Serum Potassium": 4.1,
         "Serum Sodium": 139,
         "Serum Uric Acid": 297,
         "Total Bilirubin": 5,
         "Total Protein": 69,
         "Urea Nitrogen": 2.9,
         "WBC": 4.7,
         "YOB": 1966,
         "_deepnote_index_column": 220
        },
        {
         "AGE": 79,
         "ALT (SGPT)": 19,
         "APTT-QT": 22.8,
         "AST (SGOT)": 26,
         "Albumin-QT": 48,
         "Alkaline Phosphatase-QT": 49,
         "Basophils": 0.07,
         "Basophils (%)": 1.3,
         "Calcium (EDTA)": 2.32,
         "Creatinine (Rate Blanked)": 150,
         "Eosinophils": 0.17,
         "Eosinophils (%)": 2.5,
         "Hematocrit": 0.4,
         "Hemoglobin": 135,
         "Lymphocytes": 1.19,
         "Lymphocytes (%)": 24.3,
         "Monocytes": "0.45",
         "Monocytes (%)": "7.6",
         "Neutrophils": 3.11,
         "Neutrophils (%)": 63.5,
         "PATNO": 3160,
         "Platelets": 213,
         "Prothrombin Time": 11,
         "RBC": "4.4",
         "RBC Morphology": 0,
         "Serum Bicarbonate": 23.1,
         "Serum Chloride": 100,
         "Serum Glucose": 5.3,
         "Serum Potassium": 4.1,
         "Serum Sodium": 137,
         "Serum Uric Acid": 351,
         "Total Bilirubin": 9,
         "Total Protein": 71,
         "Urea Nitrogen": 10.7,
         "WBC": 7.01,
         "YOB": 1931,
         "_deepnote_index_column": 221
        },
        {
         "AGE": 69,
         "ALT (SGPT)": 12,
         "APTT-QT": 21.2,
         "AST (SGOT)": 22,
         "Albumin-QT": 42,
         "Alkaline Phosphatase-QT": 56,
         "Basophils": 0,
         "Basophils (%)": 1,
         "Calcium (EDTA)": 2.3,
         "Creatinine (Rate Blanked)": 88,
         "Eosinophils": 0.25,
         "Eosinophils (%)": 2,
         "Hematocrit": 0.45,
         "Hemoglobin": 146,
         "Lymphocytes": 7.65,
         "Lymphocytes (%)": 60,
         "Monocytes": "nan",
         "Monocytes (%)": "nan",
         "Neutrophils": 5.47,
         "Neutrophils (%)": 34,
         "PATNO": 3156,
         "Platelets": 86,
         "Prothrombin Time": 10.5,
         "RBC": "nan",
         "RBC Morphology": 0,
         "Serum Bicarbonate": 19.9,
         "Serum Chloride": 106,
         "Serum Glucose": 6.3,
         "Serum Potassium": 4.1,
         "Serum Sodium": 140,
         "Serum Uric Acid": 351,
         "Total Bilirubin": 26,
         "Total Protein": 63,
         "Urea Nitrogen": 5.4,
         "WBC": 12.54,
         "YOB": 1941,
         "_deepnote_index_column": 222
        },
        {
         "AGE": 58,
         "ALT (SGPT)": 21,
         "APTT-QT": 25,
         "AST (SGOT)": 27,
         "Albumin-QT": 46,
         "Alkaline Phosphatase-QT": 54,
         "Basophils": 0.04,
         "Basophils (%)": 1.3,
         "Calcium (EDTA)": 2.42,
         "Creatinine (Rate Blanked)": 80,
         "Eosinophils": 0.1,
         "Eosinophils (%)": 3.3,
         "Hematocrit": 0.41,
         "Hemoglobin": 135,
         "Lymphocytes": 0.8,
         "Lymphocytes (%)": 25.2,
         "Monocytes": "0.18",
         "Monocytes (%)": "5.8",
         "Neutrophils": 2.05,
         "Neutrophils (%)": 64.4,
         "PATNO": 3165,
         "Platelets": 165,
         "Prothrombin Time": 12.2,
         "RBC": "4.3",
         "RBC Morphology": 0,
         "Serum Bicarbonate": 23.4,
         "Serum Chloride": 100,
         "Serum Glucose": 4.8,
         "Serum Potassium": 4.3,
         "Serum Sodium": 138,
         "Serum Uric Acid": 220,
         "Total Bilirubin": 9,
         "Total Protein": 70,
         "Urea Nitrogen": 6.8,
         "WBC": 3.18,
         "YOB": 1952,
         "_deepnote_index_column": 223
        },
        {
         "AGE": 68,
         "ALT (SGPT)": 19,
         "APTT-QT": 23.2,
         "AST (SGOT)": 22,
         "Albumin-QT": 45,
         "Alkaline Phosphatase-QT": 58,
         "Basophils": 0.05,
         "Basophils (%)": 0.8,
         "Calcium (EDTA)": 2.3,
         "Creatinine (Rate Blanked)": 62,
         "Eosinophils": 0.04,
         "Eosinophils (%)": 0.7,
         "Hematocrit": 0.39,
         "Hemoglobin": 134,
         "Lymphocytes": 1.55,
         "Lymphocytes (%)": 25.6,
         "Monocytes": "0.23",
         "Monocytes (%)": "3.8",
         "Neutrophils": 4.21,
         "Neutrophils (%)": 69.2,
         "PATNO": 3188,
         "Platelets": 226,
         "Prothrombin Time": 9.9,
         "RBC": "4.3",
         "RBC Morphology": 0,
         "Serum Bicarbonate": 19.2,
         "Serum Chloride": 102,
         "Serum Glucose": 6.2,
         "Serum Potassium": 4.1,
         "Serum Sodium": 138,
         "Serum Uric Acid": 363,
         "Total Bilirubin": 9,
         "Total Protein": 77,
         "Urea Nitrogen": 5.4,
         "WBC": 6.08,
         "YOB": 1942,
         "_deepnote_index_column": 224
        },
        {
         "AGE": 57,
         "ALT (SGPT)": 10,
         "APTT-QT": 24,
         "AST (SGOT)": 14,
         "Albumin-QT": 38,
         "Alkaline Phosphatase-QT": 98,
         "Basophils": 0.03,
         "Basophils (%)": 0.6,
         "Calcium (EDTA)": 2.2,
         "Creatinine (Rate Blanked)": 88,
         "Eosinophils": 0.15,
         "Eosinophils (%)": 2.6,
         "Hematocrit": 0.42,
         "Hemoglobin": 136,
         "Lymphocytes": 1.26,
         "Lymphocytes (%)": 21.4,
         "Monocytes": "0.27",
         "Monocytes (%)": "4.6",
         "Neutrophils": 4.18,
         "Neutrophils (%)": 70.9,
         "PATNO": 3151,
         "Platelets": 202,
         "Prothrombin Time": 10.6,
         "RBC": "4.8",
         "RBC Morphology": 0,
         "Serum Bicarbonate": 22.3,
         "Serum Chloride": 104,
         "Serum Glucose": 5.3,
         "Serum Potassium": 4.3,
         "Serum Sodium": 139,
         "Serum Uric Acid": 363,
         "Total Bilirubin": 5,
         "Total Protein": 66,
         "Urea Nitrogen": 6.8,
         "WBC": 5.9,
         "YOB": 1953,
         "_deepnote_index_column": 225
        },
        {
         "AGE": 56,
         "ALT (SGPT)": 24,
         "APTT-QT": 22.5,
         "AST (SGOT)": 17,
         "Albumin-QT": 39,
         "Alkaline Phosphatase-QT": 132,
         "Basophils": 0.03,
         "Basophils (%)": 0.3,
         "Calcium (EDTA)": 2.4,
         "Creatinine (Rate Blanked)": 80,
         "Eosinophils": 0.17,
         "Eosinophils (%)": 1.5,
         "Hematocrit": 0.45,
         "Hemoglobin": 152,
         "Lymphocytes": 3.45,
         "Lymphocytes (%)": 31.2,
         "Monocytes": "1.07",
         "Monocytes (%)": "9.7",
         "Neutrophils": 6.32,
         "Neutrophils (%)": 57.3,
         "PATNO": 3169,
         "Platelets": 433,
         "Prothrombin Time": 10.4,
         "RBC": "4.8",
         "RBC Morphology": 0,
         "Serum Bicarbonate": 19.1,
         "Serum Chloride": 106,
         "Serum Glucose": 6.3,
         "Serum Potassium": 4.5,
         "Serum Sodium": 139,
         "Serum Uric Acid": 321,
         "Total Bilirubin": 7,
         "Total Protein": 68,
         "Urea Nitrogen": 5.4,
         "WBC": 11.03,
         "YOB": 1954,
         "_deepnote_index_column": 226
        },
        {
         "AGE": 60,
         "ALT (SGPT)": 24,
         "APTT-QT": 22.5,
         "AST (SGOT)": 29,
         "Albumin-QT": 43,
         "Alkaline Phosphatase-QT": 72,
         "Basophils": 0.01,
         "Basophils (%)": 0.4,
         "Calcium (EDTA)": 2.42,
         "Creatinine (Rate Blanked)": 97,
         "Eosinophils": 0.08,
         "Eosinophils (%)": 2.5,
         "Hematocrit": 0.44,
         "Hemoglobin": 145,
         "Lymphocytes": 1.26,
         "Lymphocytes (%)": 40.5,
         "Monocytes": "0.25",
         "Monocytes (%)": "7.5",
         "Neutrophils": 1.64,
         "Neutrophils (%)": 49.1,
         "PATNO": 3171,
         "Platelets": 214,
         "Prothrombin Time": 11.2,
         "RBC": "4.7",
         "RBC Morphology": 0,
         "Serum Bicarbonate": 23,
         "Serum Chloride": 98,
         "Serum Glucose": 5.9,
         "Serum Potassium": 4.2,
         "Serum Sodium": 135,
         "Serum Uric Acid": 410,
         "Total Bilirubin": 9,
         "Total Protein": 68,
         "Urea Nitrogen": 6.4,
         "WBC": 3.34,
         "YOB": 1950,
         "_deepnote_index_column": 227
        },
        {
         "AGE": 64,
         "ALT (SGPT)": 22,
         "APTT-QT": 22.8,
         "AST (SGOT)": 25,
         "Albumin-QT": 40,
         "Alkaline Phosphatase-QT": 97,
         "Basophils": 0.02,
         "Basophils (%)": 0.4,
         "Calcium (EDTA)": 2.42,
         "Creatinine (Rate Blanked)": 71,
         "Eosinophils": 0.13,
         "Eosinophils (%)": 1.7,
         "Hematocrit": 0.41,
         "Hemoglobin": 125,
         "Lymphocytes": 2.23,
         "Lymphocytes (%)": 25.4,
         "Monocytes": "0.5",
         "Monocytes (%)": "5.9",
         "Neutrophils": 5,
         "Neutrophils (%)": 64.7,
         "PATNO": 3157,
         "Platelets": 388,
         "Prothrombin Time": 10,
         "RBC": "4.5",
         "RBC Morphology": 0,
         "Serum Bicarbonate": 24.3,
         "Serum Chloride": 101,
         "Serum Glucose": 5.2,
         "Serum Potassium": 4.3,
         "Serum Sodium": 139,
         "Serum Uric Acid": 309,
         "Total Bilirubin": 0,
         "Total Protein": 70,
         "Urea Nitrogen": 8.2,
         "WBC": 7.27,
         "YOB": 1946,
         "_deepnote_index_column": 228
        },
        {
         "AGE": 63,
         "ALT (SGPT)": 23,
         "APTT-QT": 21.8,
         "AST (SGOT)": 26,
         "Albumin-QT": 45,
         "Alkaline Phosphatase-QT": 67,
         "Basophils": 0.05,
         "Basophils (%)": 1.2,
         "Calcium (EDTA)": 2.37,
         "Creatinine (Rate Blanked)": 88,
         "Eosinophils": 0.06,
         "Eosinophils (%)": 1.6,
         "Hematocrit": 0.45,
         "Hemoglobin": 146,
         "Lymphocytes": 1.99,
         "Lymphocytes (%)": 38.2,
         "Monocytes": "0.2",
         "Monocytes (%)": "5.2",
         "Neutrophils": 2.07,
         "Neutrophils (%)": 53.8,
         "PATNO": 3191,
         "Platelets": 229,
         "Prothrombin Time": 10.6,
         "RBC": "4.4",
         "RBC Morphology": 0,
         "Serum Bicarbonate": 26.1,
         "Serum Chloride": 101,
         "Serum Glucose": 4,
         "Serum Potassium": 3.9,
         "Serum Sodium": 143,
         "Serum Uric Acid": 250,
         "Total Bilirubin": 10,
         "Total Protein": 70,
         "Urea Nitrogen": 4.3,
         "WBC": 3.86,
         "YOB": 1947,
         "_deepnote_index_column": 229
        },
        {
         "AGE": 68,
         "ALT (SGPT)": 22,
         "APTT-QT": 25.1,
         "AST (SGOT)": 21,
         "Albumin-QT": 42,
         "Alkaline Phosphatase-QT": 78,
         "Basophils": 0.03,
         "Basophils (%)": 0.5,
         "Calcium (EDTA)": 2.27,
         "Creatinine (Rate Blanked)": 71,
         "Eosinophils": 0.07,
         "Eosinophils (%)": 1.1,
         "Hematocrit": 0.46,
         "Hemoglobin": 153,
         "Lymphocytes": 1.47,
         "Lymphocytes (%)": 24.5,
         "Monocytes": "0.41",
         "Monocytes (%)": "6.6",
         "Neutrophils": 4.11,
         "Neutrophils (%)": 67.2,
         "PATNO": 3172,
         "Platelets": 234,
         "Prothrombin Time": 10.8,
         "RBC": "5.1",
         "RBC Morphology": 0,
         "Serum Bicarbonate": 20.7,
         "Serum Chloride": 100,
         "Serum Glucose": 4.7,
         "Serum Potassium": 3.8,
         "Serum Sodium": 133,
         "Serum Uric Acid": 345,
         "Total Bilirubin": 10,
         "Total Protein": 68,
         "Urea Nitrogen": 4.6,
         "WBC": 6.12,
         "YOB": 1942,
         "_deepnote_index_column": 230
        },
        {
         "AGE": 64,
         "ALT (SGPT)": 26,
         "APTT-QT": 27.4,
         "AST (SGOT)": 26,
         "Albumin-QT": 44,
         "Alkaline Phosphatase-QT": 54,
         "Basophils": 0.06,
         "Basophils (%)": 1.3,
         "Calcium (EDTA)": 2.3,
         "Creatinine (Rate Blanked)": 88,
         "Eosinophils": 0.14,
         "Eosinophils (%)": 3.2,
         "Hematocrit": 0.46,
         "Hemoglobin": 159,
         "Lymphocytes": 1.07,
         "Lymphocytes (%)": 24.3,
         "Monocytes": "0.38",
         "Monocytes (%)": "8.8",
         "Neutrophils": 2.73,
         "Neutrophils (%)": 59.9,
         "PATNO": 4105,
         "Platelets": 170,
         "Prothrombin Time": 10.2,
         "RBC": "5.1",
         "RBC Morphology": 0,
         "Serum Bicarbonate": 24.3,
         "Serum Chloride": 100,
         "Serum Glucose": 4.9,
         "Serum Potassium": 4.5,
         "Serum Sodium": 138,
         "Serum Uric Acid": 452,
         "Total Bilirubin": 7,
         "Total Protein": 68,
         "Urea Nitrogen": 4.6,
         "WBC": 4.26,
         "YOB": 1946,
         "_deepnote_index_column": 231
        }
       ],
       "rows_top": [
        {
         "AGE": 56,
         "ALT (SGPT)": 22,
         "APTT-QT": 21,
         "AST (SGOT)": 25,
         "Albumin-QT": 43,
         "Alkaline Phosphatase-QT": 74,
         "Basophils": 0.02,
         "Basophils (%)": 0.4,
         "Calcium (EDTA)": 2.4,
         "Creatinine (Rate Blanked)": 71,
         "Eosinophils": 0.1,
         "Eosinophils (%)": 1.7,
         "Hematocrit": 0.4,
         "Hemoglobin": 138,
         "Lymphocytes": 1.69,
         "Lymphocytes (%)": 28.1,
         "Monocytes": 0.32,
         "Monocytes (%)": 5.3,
         "Neutrophils": 3.88,
         "Neutrophils (%)": 64.5,
         "PATNO": 3404,
         "Platelets": 210,
         "Prothrombin Time": 10.1,
         "RBC": 4.4,
         "RBC Morphology": 0,
         "Serum Bicarbonate": 21.8,
         "Serum Chloride": 99,
         "Serum Glucose": 4.8,
         "Serum Potassium": 4.1,
         "Serum Sodium": 138,
         "Serum Uric Acid": 178,
         "Total Bilirubin": 12,
         "Total Protein": 73,
         "Urea Nitrogen": 7.1,
         "WBC": 6.02,
         "YOB": 1954,
         "_deepnote_index_column": 0
        },
        {
         "AGE": 56,
         "ALT (SGPT)": 17,
         "APTT-QT": 24.8,
         "AST (SGOT)": 20,
         "Albumin-QT": 44,
         "Alkaline Phosphatase-QT": 68,
         "Basophils": 0.02,
         "Basophils (%)": 0.4,
         "Calcium (EDTA)": 2.37,
         "Creatinine (Rate Blanked)": 62,
         "Eosinophils": 0.05,
         "Eosinophils (%)": 0.9,
         "Hematocrit": 0.41,
         "Hemoglobin": 126,
         "Lymphocytes": 1.78,
         "Lymphocytes (%)": 28.5,
         "Monocytes": 0.55,
         "Monocytes (%)": 8.8,
         "Neutrophils": 3.83,
         "Neutrophils (%)": 61.4,
         "PATNO": 3401,
         "Platelets": 171,
         "Prothrombin Time": 10,
         "RBC": 4.5,
         "RBC Morphology": 0,
         "Serum Bicarbonate": 22.7,
         "Serum Chloride": 100,
         "Serum Glucose": 5.6,
         "Serum Potassium": 4.2,
         "Serum Sodium": 136,
         "Serum Uric Acid": 262,
         "Total Bilirubin": 12,
         "Total Protein": 71,
         "Urea Nitrogen": 5,
         "WBC": 6.24,
         "YOB": 1954,
         "_deepnote_index_column": 1
        },
        {
         "AGE": 63,
         "ALT (SGPT)": 14,
         "APTT-QT": 19.8,
         "AST (SGOT)": 19,
         "Albumin-QT": 44,
         "Alkaline Phosphatase-QT": 64,
         "Basophils": 0.06,
         "Basophils (%)": 0.9,
         "Calcium (EDTA)": 2.54,
         "Creatinine (Rate Blanked)": 71,
         "Eosinophils": 0.1,
         "Eosinophils (%)": 1.4,
         "Hematocrit": 0.4,
         "Hemoglobin": 132,
         "Lymphocytes": 4.29,
         "Lymphocytes (%)": 58.9,
         "Monocytes": 0.29,
         "Monocytes (%)": 3.9,
         "Neutrophils": 2.55,
         "Neutrophils (%)": 35,
         "PATNO": 3405,
         "Platelets": 262,
         "Prothrombin Time": 10,
         "RBC": 4.3,
         "RBC Morphology": 0,
         "Serum Bicarbonate": 21.2,
         "Serum Chloride": 104,
         "Serum Glucose": 5.6,
         "Serum Potassium": 3.9,
         "Serum Sodium": 140,
         "Serum Uric Acid": 339,
         "Total Bilirubin": 5,
         "Total Protein": 77,
         "Urea Nitrogen": 3.2,
         "WBC": 7.28,
         "YOB": 1947,
         "_deepnote_index_column": 2
        },
        {
         "AGE": 68,
         "ALT (SGPT)": 32,
         "APTT-QT": 21.9,
         "AST (SGOT)": 28,
         "Albumin-QT": 44,
         "Alkaline Phosphatase-QT": 86,
         "Basophils": 0.05,
         "Basophils (%)": 0.7,
         "Calcium (EDTA)": 2.27,
         "Creatinine (Rate Blanked)": 71,
         "Eosinophils": 0.39,
         "Eosinophils (%)": 4.9,
         "Hematocrit": 0.37,
         "Hemoglobin": 126,
         "Lymphocytes": 1.73,
         "Lymphocytes (%)": 21.4,
         "Monocytes": 0.64,
         "Monocytes (%)": 7.9,
         "Neutrophils": 5.26,
         "Neutrophils (%)": 65.1,
         "PATNO": 3100,
         "Platelets": 356,
         "Prothrombin Time": 10.3,
         "RBC": 4.2,
         "RBC Morphology": 0,
         "Serum Bicarbonate": 20,
         "Serum Chloride": 93,
         "Serum Glucose": 5.6,
         "Serum Potassium": 4.4,
         "Serum Sodium": 131,
         "Serum Uric Acid": 238,
         "Total Bilirubin": 9,
         "Total Protein": 67,
         "Urea Nitrogen": 4.3,
         "WBC": 8.07,
         "YOB": 1942,
         "_deepnote_index_column": 3
        },
        {
         "AGE": 47,
         "ALT (SGPT)": 31,
         "APTT-QT": 19.5,
         "AST (SGOT)": 26,
         "Albumin-QT": 41,
         "Alkaline Phosphatase-QT": 69,
         "Basophils": 0.03,
         "Basophils (%)": 0.4,
         "Calcium (EDTA)": 2.47,
         "Creatinine (Rate Blanked)": 71,
         "Eosinophils": 0.05,
         "Eosinophils (%)": 0.8,
         "Hematocrit": 0.39,
         "Hemoglobin": 132,
         "Lymphocytes": 2.58,
         "Lymphocytes (%)": 39.4,
         "Monocytes": 0.24,
         "Monocytes (%)": 3.7,
         "Neutrophils": 3.65,
         "Neutrophils (%)": 55.7,
         "PATNO": 3103,
         "Platelets": 268,
         "Prothrombin Time": 10.1,
         "RBC": 4.1,
         "RBC Morphology": 0,
         "Serum Bicarbonate": 24.9,
         "Serum Chloride": 100,
         "Serum Glucose": 7.4,
         "Serum Potassium": 4.2,
         "Serum Sodium": 137,
         "Serum Uric Acid": 232,
         "Total Bilirubin": 9,
         "Total Protein": 72,
         "Urea Nitrogen": 4.3,
         "WBC": 6.56,
         "YOB": 1963,
         "_deepnote_index_column": 4
        },
        {
         "AGE": 54,
         "ALT (SGPT)": 19,
         "APTT-QT": 23.5,
         "AST (SGOT)": 23,
         "Albumin-QT": 42,
         "Alkaline Phosphatase-QT": 78,
         "Basophils": 0.03,
         "Basophils (%)": 0.5,
         "Calcium (EDTA)": 2.32,
         "Creatinine (Rate Blanked)": 80,
         "Eosinophils": 0.06,
         "Eosinophils (%)": 0.8,
         "Hematocrit": 0.4,
         "Hemoglobin": 134,
         "Lymphocytes": 2.28,
         "Lymphocytes (%)": 32,
         "Monocytes": 0.4,
         "Monocytes (%)": 5.7,
         "Neutrophils": 4.34,
         "Neutrophils (%)": 61,
         "PATNO": 3276,
         "Platelets": 345,
         "Prothrombin Time": 11.3,
         "RBC": 4.3,
         "RBC Morphology": 0,
         "Serum Bicarbonate": 20.2,
         "Serum Chloride": 101,
         "Serum Glucose": 6.2,
         "Serum Potassium": 3.8,
         "Serum Sodium": 139,
         "Serum Uric Acid": 238,
         "Total Bilirubin": 7,
         "Total Protein": 70,
         "Urea Nitrogen": 5.4,
         "WBC": 7.12,
         "YOB": 1956,
         "_deepnote_index_column": 5
        },
        {
         "AGE": 53,
         "ALT (SGPT)": 13,
         "APTT-QT": 23,
         "AST (SGOT)": 14,
         "Albumin-QT": 38,
         "Alkaline Phosphatase-QT": 69,
         "Basophils": 0.09,
         "Basophils (%)": 1,
         "Calcium (EDTA)": 2.3,
         "Creatinine (Rate Blanked)": 97,
         "Eosinophils": 0.17,
         "Eosinophils (%)": 2,
         "Hematocrit": 0.41,
         "Hemoglobin": 132,
         "Lymphocytes": 2.63,
         "Lymphocytes (%)": 31.3,
         "Monocytes": 0.64,
         "Monocytes (%)": 7.6,
         "Neutrophils": 4.9,
         "Neutrophils (%)": 58.1,
         "PATNO": 3270,
         "Platelets": 237,
         "Prothrombin Time": 10.6,
         "RBC": 4.5,
         "RBC Morphology": 0,
         "Serum Bicarbonate": 18.4,
         "Serum Chloride": 101,
         "Serum Glucose": 9,
         "Serum Potassium": 4.2,
         "Serum Sodium": 135,
         "Serum Uric Acid": 428,
         "Total Bilirubin": 5,
         "Total Protein": 66,
         "Urea Nitrogen": 10.4,
         "WBC": 8.42,
         "YOB": 1957,
         "_deepnote_index_column": 6
        },
        {
         "AGE": 40,
         "ALT (SGPT)": 19,
         "APTT-QT": 22.7,
         "AST (SGOT)": 23,
         "Albumin-QT": 40,
         "Alkaline Phosphatase-QT": 59,
         "Basophils": 0.04,
         "Basophils (%)": 0.7,
         "Calcium (EDTA)": 2.25,
         "Creatinine (Rate Blanked)": 80,
         "Eosinophils": 0.09,
         "Eosinophils (%)": 1.7,
         "Hematocrit": 0.44,
         "Hemoglobin": 144,
         "Lymphocytes": 1.54,
         "Lymphocytes (%)": 29.9,
         "Monocytes": 0.45,
         "Monocytes (%)": 8.7,
         "Neutrophils": 3.06,
         "Neutrophils (%)": 59,
         "PATNO": 3411,
         "Platelets": 259,
         "Prothrombin Time": 11.2,
         "RBC": 4.9,
         "RBC Morphology": 0,
         "Serum Bicarbonate": 23.8,
         "Serum Chloride": 103,
         "Serum Glucose": 5.1,
         "Serum Potassium": 4.5,
         "Serum Sodium": 140,
         "Serum Uric Acid": 375,
         "Total Bilirubin": 9,
         "Total Protein": 68,
         "Urea Nitrogen": 4.6,
         "WBC": 5.18,
         "YOB": 1970,
         "_deepnote_index_column": 7
        },
        {
         "AGE": 51,
         "ALT (SGPT)": 38,
         "APTT-QT": 22.2,
         "AST (SGOT)": 34,
         "Albumin-QT": 45,
         "Alkaline Phosphatase-QT": 76,
         "Basophils": 0.06,
         "Basophils (%)": 0.7,
         "Calcium (EDTA)": 2.47,
         "Creatinine (Rate Blanked)": 88,
         "Eosinophils": 0.46,
         "Eosinophils (%)": 5.3,
         "Hematocrit": 0.46,
         "Hemoglobin": 158,
         "Lymphocytes": 2.24,
         "Lymphocytes (%)": 25.6,
         "Monocytes": 0.72,
         "Monocytes (%)": 8.2,
         "Neutrophils": 5.29,
         "Neutrophils (%)": 60.3,
         "PATNO": 3450,
         "Platelets": 364,
         "Prothrombin Time": 10.3,
         "RBC": 5.2,
         "RBC Morphology": 0,
         "Serum Bicarbonate": 23,
         "Serum Chloride": 106,
         "Serum Glucose": 6.9,
         "Serum Potassium": 4.6,
         "Serum Sodium": 145,
         "Serum Uric Acid": 428,
         "Total Bilirubin": 5,
         "Total Protein": 76,
         "Urea Nitrogen": 7.1,
         "WBC": 8.78,
         "YOB": 1959,
         "_deepnote_index_column": 8
        },
        {
         "AGE": 74,
         "ALT (SGPT)": 32,
         "APTT-QT": 23.6,
         "AST (SGOT)": 20,
         "Albumin-QT": 45,
         "Alkaline Phosphatase-QT": 50,
         "Basophils": 0.05,
         "Basophils (%)": 0.8,
         "Calcium (EDTA)": 2.42,
         "Creatinine (Rate Blanked)": 124,
         "Eosinophils": 0.08,
         "Eosinophils (%)": 1.3,
         "Hematocrit": 0.51,
         "Hemoglobin": 171,
         "Lymphocytes": 1.5,
         "Lymphocytes (%)": 23.1,
         "Monocytes": 0.31,
         "Monocytes (%)": 4.8,
         "Neutrophils": 4.52,
         "Neutrophils (%)": 70.1,
         "PATNO": 3410,
         "Platelets": 161,
         "Prothrombin Time": 11.4,
         "RBC": 6,
         "RBC Morphology": 0,
         "Serum Bicarbonate": 24.8,
         "Serum Chloride": 100,
         "Serum Glucose": 5.4,
         "Serum Potassium": 4.3,
         "Serum Sodium": 140,
         "Serum Uric Acid": 315,
         "Total Bilirubin": 15,
         "Total Protein": 72,
         "Urea Nitrogen": 7.1,
         "WBC": 6.46,
         "YOB": 1936,
         "_deepnote_index_column": 9
        },
        {
         "AGE": 31,
         "ALT (SGPT)": 13,
         "APTT-QT": 24.6,
         "AST (SGOT)": 22,
         "Albumin-QT": 41,
         "Alkaline Phosphatase-QT": 55,
         "Basophils": 0.04,
         "Basophils (%)": 0.5,
         "Calcium (EDTA)": 2.35,
         "Creatinine (Rate Blanked)": 62,
         "Eosinophils": 0.38,
         "Eosinophils (%)": 4.5,
         "Hematocrit": 0.39,
         "Hemoglobin": 132,
         "Lymphocytes": 2.87,
         "Lymphocytes (%)": 33.7,
         "Monocytes": 0.38,
         "Monocytes (%)": 4.4,
         "Neutrophils": 4.86,
         "Neutrophils (%)": 56.9,
         "PATNO": 3503,
         "Platelets": 221,
         "Prothrombin Time": 11.3,
         "RBC": 4.2,
         "RBC Morphology": 0,
         "Serum Bicarbonate": 27.7,
         "Serum Chloride": 99,
         "Serum Glucose": 4.8,
         "Serum Potassium": 4.4,
         "Serum Sodium": 137,
         "Serum Uric Acid": 321,
         "Total Bilirubin": 3,
         "Total Protein": 69,
         "Urea Nitrogen": 3.2,
         "WBC": 8.54,
         "YOB": 1979,
         "_deepnote_index_column": 10
        },
        {
         "AGE": 64,
         "ALT (SGPT)": 20,
         "APTT-QT": 23.8,
         "AST (SGOT)": 27,
         "Albumin-QT": 42,
         "Alkaline Phosphatase-QT": 77,
         "Basophils": 0.04,
         "Basophils (%)": 0.7,
         "Calcium (EDTA)": 2.32,
         "Creatinine (Rate Blanked)": 97,
         "Eosinophils": 0.2,
         "Eosinophils (%)": 3.9,
         "Hematocrit": 0.42,
         "Hemoglobin": 144,
         "Lymphocytes": 1.56,
         "Lymphocytes (%)": 30.3,
         "Monocytes": 0.48,
         "Monocytes (%)": 9.3,
         "Neutrophils": 2.89,
         "Neutrophils (%)": 55.8,
         "PATNO": 3551,
         "Platelets": 175,
         "Prothrombin Time": 11.1,
         "RBC": 4.3,
         "RBC Morphology": 0,
         "Serum Bicarbonate": 21.1,
         "Serum Chloride": 98,
         "Serum Glucose": 6.7,
         "Serum Potassium": 4.3,
         "Serum Sodium": 135,
         "Serum Uric Acid": 399,
         "Total Bilirubin": 10,
         "Total Protein": 74,
         "Urea Nitrogen": 5.4,
         "WBC": 5.18,
         "YOB": 1946,
         "_deepnote_index_column": 11
        },
        {
         "AGE": 64,
         "ALT (SGPT)": 14,
         "APTT-QT": 22.8,
         "AST (SGOT)": 20,
         "Albumin-QT": 40,
         "Alkaline Phosphatase-QT": 54,
         "Basophils": 0.06,
         "Basophils (%)": 1,
         "Calcium (EDTA)": 2.22,
         "Creatinine (Rate Blanked)": 62,
         "Eosinophils": 0.26,
         "Eosinophils (%)": 4.1,
         "Hematocrit": 0.38,
         "Hemoglobin": 126,
         "Lymphocytes": 1.82,
         "Lymphocytes (%)": 29.3,
         "Monocytes": 0.35,
         "Monocytes (%)": 5.6,
         "Neutrophils": 3.75,
         "Neutrophils (%)": 60.1,
         "PATNO": 3452,
         "Platelets": 222,
         "Prothrombin Time": 10.3,
         "RBC": 3.9,
         "RBC Morphology": 0,
         "Serum Bicarbonate": 23.4,
         "Serum Chloride": 103,
         "Serum Glucose": 4.7,
         "Serum Potassium": 4.3,
         "Serum Sodium": 139,
         "Serum Uric Acid": 238,
         "Total Bilirubin": 0,
         "Total Protein": 65,
         "Urea Nitrogen": 9.3,
         "WBC": 6.24,
         "YOB": 1946,
         "_deepnote_index_column": 12
        }
       ]
      },
      "text/html": [
       "<div>\n",
       "<style scoped>\n",
       "    .dataframe tbody tr th:only-of-type {\n",
       "        vertical-align: middle;\n",
       "    }\n",
       "\n",
       "    .dataframe tbody tr th {\n",
       "        vertical-align: top;\n",
       "    }\n",
       "\n",
       "    .dataframe thead th {\n",
       "        text-align: right;\n",
       "    }\n",
       "</style>\n",
       "<table border=\"1\" class=\"dataframe\">\n",
       "  <thead>\n",
       "    <tr style=\"text-align: right;\">\n",
       "      <th></th>\n",
       "      <th>PATNO</th>\n",
       "      <th>YOB</th>\n",
       "      <th>AGE</th>\n",
       "      <th>Prothrombin Time</th>\n",
       "      <th>APTT-QT</th>\n",
       "      <th>Monocytes</th>\n",
       "      <th>Eosinophils</th>\n",
       "      <th>Basophils</th>\n",
       "      <th>Platelets</th>\n",
       "      <th>Neutrophils (%)</th>\n",
       "      <th>...</th>\n",
       "      <th>Serum Sodium</th>\n",
       "      <th>Serum Potassium</th>\n",
       "      <th>Serum Bicarbonate</th>\n",
       "      <th>Serum Chloride</th>\n",
       "      <th>Calcium (EDTA)</th>\n",
       "      <th>Creatinine (Rate Blanked)</th>\n",
       "      <th>ALT (SGPT)</th>\n",
       "      <th>AST (SGOT)</th>\n",
       "      <th>Urea Nitrogen</th>\n",
       "      <th>Serum Uric Acid</th>\n",
       "    </tr>\n",
       "  </thead>\n",
       "  <tbody>\n",
       "    <tr>\n",
       "      <th>0</th>\n",
       "      <td>3404</td>\n",
       "      <td>1954.0</td>\n",
       "      <td>56.0</td>\n",
       "      <td>10.1</td>\n",
       "      <td>21.0</td>\n",
       "      <td>0.32</td>\n",
       "      <td>0.10</td>\n",
       "      <td>0.02</td>\n",
       "      <td>210.0</td>\n",
       "      <td>64.5</td>\n",
       "      <td>...</td>\n",
       "      <td>138.0</td>\n",
       "      <td>4.1</td>\n",
       "      <td>21.8</td>\n",
       "      <td>99.0</td>\n",
       "      <td>2.40</td>\n",
       "      <td>71.0</td>\n",
       "      <td>22.0</td>\n",
       "      <td>25.0</td>\n",
       "      <td>7.1</td>\n",
       "      <td>178.0</td>\n",
       "    </tr>\n",
       "    <tr>\n",
       "      <th>1</th>\n",
       "      <td>3401</td>\n",
       "      <td>1954.0</td>\n",
       "      <td>56.0</td>\n",
       "      <td>10.0</td>\n",
       "      <td>24.8</td>\n",
       "      <td>0.55</td>\n",
       "      <td>0.05</td>\n",
       "      <td>0.02</td>\n",
       "      <td>171.0</td>\n",
       "      <td>61.4</td>\n",
       "      <td>...</td>\n",
       "      <td>136.0</td>\n",
       "      <td>4.2</td>\n",
       "      <td>22.7</td>\n",
       "      <td>100.0</td>\n",
       "      <td>2.37</td>\n",
       "      <td>62.0</td>\n",
       "      <td>17.0</td>\n",
       "      <td>20.0</td>\n",
       "      <td>5.0</td>\n",
       "      <td>262.0</td>\n",
       "    </tr>\n",
       "    <tr>\n",
       "      <th>2</th>\n",
       "      <td>3405</td>\n",
       "      <td>1947.0</td>\n",
       "      <td>63.0</td>\n",
       "      <td>10.0</td>\n",
       "      <td>19.8</td>\n",
       "      <td>0.29</td>\n",
       "      <td>0.10</td>\n",
       "      <td>0.06</td>\n",
       "      <td>262.0</td>\n",
       "      <td>35.0</td>\n",
       "      <td>...</td>\n",
       "      <td>140.0</td>\n",
       "      <td>3.9</td>\n",
       "      <td>21.2</td>\n",
       "      <td>104.0</td>\n",
       "      <td>2.54</td>\n",
       "      <td>71.0</td>\n",
       "      <td>14.0</td>\n",
       "      <td>19.0</td>\n",
       "      <td>3.2</td>\n",
       "      <td>339.0</td>\n",
       "    </tr>\n",
       "    <tr>\n",
       "      <th>3</th>\n",
       "      <td>3100</td>\n",
       "      <td>1942.0</td>\n",
       "      <td>68.0</td>\n",
       "      <td>10.3</td>\n",
       "      <td>21.9</td>\n",
       "      <td>0.64</td>\n",
       "      <td>0.39</td>\n",
       "      <td>0.05</td>\n",
       "      <td>356.0</td>\n",
       "      <td>65.1</td>\n",
       "      <td>...</td>\n",
       "      <td>131.0</td>\n",
       "      <td>4.4</td>\n",
       "      <td>20.0</td>\n",
       "      <td>93.0</td>\n",
       "      <td>2.27</td>\n",
       "      <td>71.0</td>\n",
       "      <td>32.0</td>\n",
       "      <td>28.0</td>\n",
       "      <td>4.3</td>\n",
       "      <td>238.0</td>\n",
       "    </tr>\n",
       "    <tr>\n",
       "      <th>4</th>\n",
       "      <td>3103</td>\n",
       "      <td>1963.0</td>\n",
       "      <td>47.0</td>\n",
       "      <td>10.1</td>\n",
       "      <td>19.5</td>\n",
       "      <td>0.24</td>\n",
       "      <td>0.05</td>\n",
       "      <td>0.03</td>\n",
       "      <td>268.0</td>\n",
       "      <td>55.7</td>\n",
       "      <td>...</td>\n",
       "      <td>137.0</td>\n",
       "      <td>4.2</td>\n",
       "      <td>24.9</td>\n",
       "      <td>100.0</td>\n",
       "      <td>2.47</td>\n",
       "      <td>71.0</td>\n",
       "      <td>31.0</td>\n",
       "      <td>26.0</td>\n",
       "      <td>4.3</td>\n",
       "      <td>232.0</td>\n",
       "    </tr>\n",
       "    <tr>\n",
       "      <th>...</th>\n",
       "      <td>...</td>\n",
       "      <td>...</td>\n",
       "      <td>...</td>\n",
       "      <td>...</td>\n",
       "      <td>...</td>\n",
       "      <td>...</td>\n",
       "      <td>...</td>\n",
       "      <td>...</td>\n",
       "      <td>...</td>\n",
       "      <td>...</td>\n",
       "      <td>...</td>\n",
       "      <td>...</td>\n",
       "      <td>...</td>\n",
       "      <td>...</td>\n",
       "      <td>...</td>\n",
       "      <td>...</td>\n",
       "      <td>...</td>\n",
       "      <td>...</td>\n",
       "      <td>...</td>\n",
       "      <td>...</td>\n",
       "      <td>...</td>\n",
       "    </tr>\n",
       "    <tr>\n",
       "      <th>227</th>\n",
       "      <td>3171</td>\n",
       "      <td>1950.0</td>\n",
       "      <td>60.0</td>\n",
       "      <td>11.2</td>\n",
       "      <td>22.5</td>\n",
       "      <td>0.25</td>\n",
       "      <td>0.08</td>\n",
       "      <td>0.01</td>\n",
       "      <td>214.0</td>\n",
       "      <td>49.1</td>\n",
       "      <td>...</td>\n",
       "      <td>135.0</td>\n",
       "      <td>4.2</td>\n",
       "      <td>23.0</td>\n",
       "      <td>98.0</td>\n",
       "      <td>2.42</td>\n",
       "      <td>97.0</td>\n",
       "      <td>24.0</td>\n",
       "      <td>29.0</td>\n",
       "      <td>6.4</td>\n",
       "      <td>410.0</td>\n",
       "    </tr>\n",
       "    <tr>\n",
       "      <th>228</th>\n",
       "      <td>3157</td>\n",
       "      <td>1946.0</td>\n",
       "      <td>64.0</td>\n",
       "      <td>10.0</td>\n",
       "      <td>22.8</td>\n",
       "      <td>0.50</td>\n",
       "      <td>0.13</td>\n",
       "      <td>0.02</td>\n",
       "      <td>388.0</td>\n",
       "      <td>64.7</td>\n",
       "      <td>...</td>\n",
       "      <td>139.0</td>\n",
       "      <td>4.3</td>\n",
       "      <td>24.3</td>\n",
       "      <td>101.0</td>\n",
       "      <td>2.42</td>\n",
       "      <td>71.0</td>\n",
       "      <td>22.0</td>\n",
       "      <td>25.0</td>\n",
       "      <td>8.2</td>\n",
       "      <td>309.0</td>\n",
       "    </tr>\n",
       "    <tr>\n",
       "      <th>229</th>\n",
       "      <td>3191</td>\n",
       "      <td>1947.0</td>\n",
       "      <td>63.0</td>\n",
       "      <td>10.6</td>\n",
       "      <td>21.8</td>\n",
       "      <td>0.20</td>\n",
       "      <td>0.06</td>\n",
       "      <td>0.05</td>\n",
       "      <td>229.0</td>\n",
       "      <td>53.8</td>\n",
       "      <td>...</td>\n",
       "      <td>143.0</td>\n",
       "      <td>3.9</td>\n",
       "      <td>26.1</td>\n",
       "      <td>101.0</td>\n",
       "      <td>2.37</td>\n",
       "      <td>88.0</td>\n",
       "      <td>23.0</td>\n",
       "      <td>26.0</td>\n",
       "      <td>4.3</td>\n",
       "      <td>250.0</td>\n",
       "    </tr>\n",
       "    <tr>\n",
       "      <th>230</th>\n",
       "      <td>3172</td>\n",
       "      <td>1942.0</td>\n",
       "      <td>68.0</td>\n",
       "      <td>10.8</td>\n",
       "      <td>25.1</td>\n",
       "      <td>0.41</td>\n",
       "      <td>0.07</td>\n",
       "      <td>0.03</td>\n",
       "      <td>234.0</td>\n",
       "      <td>67.2</td>\n",
       "      <td>...</td>\n",
       "      <td>133.0</td>\n",
       "      <td>3.8</td>\n",
       "      <td>20.7</td>\n",
       "      <td>100.0</td>\n",
       "      <td>2.27</td>\n",
       "      <td>71.0</td>\n",
       "      <td>22.0</td>\n",
       "      <td>21.0</td>\n",
       "      <td>4.6</td>\n",
       "      <td>345.0</td>\n",
       "    </tr>\n",
       "    <tr>\n",
       "      <th>231</th>\n",
       "      <td>4105</td>\n",
       "      <td>1946.0</td>\n",
       "      <td>64.0</td>\n",
       "      <td>10.2</td>\n",
       "      <td>27.4</td>\n",
       "      <td>0.38</td>\n",
       "      <td>0.14</td>\n",
       "      <td>0.06</td>\n",
       "      <td>170.0</td>\n",
       "      <td>59.9</td>\n",
       "      <td>...</td>\n",
       "      <td>138.0</td>\n",
       "      <td>4.5</td>\n",
       "      <td>24.3</td>\n",
       "      <td>100.0</td>\n",
       "      <td>2.30</td>\n",
       "      <td>88.0</td>\n",
       "      <td>26.0</td>\n",
       "      <td>26.0</td>\n",
       "      <td>4.6</td>\n",
       "      <td>452.0</td>\n",
       "    </tr>\n",
       "  </tbody>\n",
       "</table>\n",
       "<p>232 rows × 36 columns</p>\n",
       "</div>"
      ],
      "text/plain": [
       "     PATNO     YOB   AGE  Prothrombin Time  APTT-QT  Monocytes  Eosinophils  \\\n",
       "0     3404  1954.0  56.0              10.1     21.0       0.32         0.10   \n",
       "1     3401  1954.0  56.0              10.0     24.8       0.55         0.05   \n",
       "2     3405  1947.0  63.0              10.0     19.8       0.29         0.10   \n",
       "3     3100  1942.0  68.0              10.3     21.9       0.64         0.39   \n",
       "4     3103  1963.0  47.0              10.1     19.5       0.24         0.05   \n",
       "..     ...     ...   ...               ...      ...        ...          ...   \n",
       "227   3171  1950.0  60.0              11.2     22.5       0.25         0.08   \n",
       "228   3157  1946.0  64.0              10.0     22.8       0.50         0.13   \n",
       "229   3191  1947.0  63.0              10.6     21.8       0.20         0.06   \n",
       "230   3172  1942.0  68.0              10.8     25.1       0.41         0.07   \n",
       "231   4105  1946.0  64.0              10.2     27.4       0.38         0.14   \n",
       "\n",
       "     Basophils  Platelets  Neutrophils (%)  ...  Serum Sodium  \\\n",
       "0         0.02      210.0             64.5  ...         138.0   \n",
       "1         0.02      171.0             61.4  ...         136.0   \n",
       "2         0.06      262.0             35.0  ...         140.0   \n",
       "3         0.05      356.0             65.1  ...         131.0   \n",
       "4         0.03      268.0             55.7  ...         137.0   \n",
       "..         ...        ...              ...  ...           ...   \n",
       "227       0.01      214.0             49.1  ...         135.0   \n",
       "228       0.02      388.0             64.7  ...         139.0   \n",
       "229       0.05      229.0             53.8  ...         143.0   \n",
       "230       0.03      234.0             67.2  ...         133.0   \n",
       "231       0.06      170.0             59.9  ...         138.0   \n",
       "\n",
       "     Serum Potassium  Serum Bicarbonate  Serum Chloride  Calcium (EDTA)  \\\n",
       "0                4.1               21.8            99.0            2.40   \n",
       "1                4.2               22.7           100.0            2.37   \n",
       "2                3.9               21.2           104.0            2.54   \n",
       "3                4.4               20.0            93.0            2.27   \n",
       "4                4.2               24.9           100.0            2.47   \n",
       "..               ...                ...             ...             ...   \n",
       "227              4.2               23.0            98.0            2.42   \n",
       "228              4.3               24.3           101.0            2.42   \n",
       "229              3.9               26.1           101.0            2.37   \n",
       "230              3.8               20.7           100.0            2.27   \n",
       "231              4.5               24.3           100.0            2.30   \n",
       "\n",
       "     Creatinine (Rate Blanked)  ALT (SGPT)  AST (SGOT)  Urea Nitrogen  \\\n",
       "0                         71.0        22.0        25.0            7.1   \n",
       "1                         62.0        17.0        20.0            5.0   \n",
       "2                         71.0        14.0        19.0            3.2   \n",
       "3                         71.0        32.0        28.0            4.3   \n",
       "4                         71.0        31.0        26.0            4.3   \n",
       "..                         ...         ...         ...            ...   \n",
       "227                       97.0        24.0        29.0            6.4   \n",
       "228                       71.0        22.0        25.0            8.2   \n",
       "229                       88.0        23.0        26.0            4.3   \n",
       "230                       71.0        22.0        21.0            4.6   \n",
       "231                       88.0        26.0        26.0            4.6   \n",
       "\n",
       "     Serum Uric Acid  \n",
       "0              178.0  \n",
       "1              262.0  \n",
       "2              339.0  \n",
       "3              238.0  \n",
       "4              232.0  \n",
       "..               ...  \n",
       "227            410.0  \n",
       "228            309.0  \n",
       "229            250.0  \n",
       "230            345.0  \n",
       "231            452.0  \n",
       "\n",
       "[232 rows x 36 columns]"
      ]
     },
     "execution_count": 3,
     "metadata": {},
     "output_type": "execute_result"
    }
   ],
   "source": [
    "blood_data"
   ]
  },
  {
   "cell_type": "code",
   "execution_count": null,
   "metadata": {
    "cell_id": "00003-28ec9fdc-71f3-417f-8fec-ccc7770d77c0",
    "deepnote_cell_type": "code",
    "deepnote_to_be_reexecuted": false,
    "execution_millis": 551,
    "execution_start": 1614608292904,
    "source_hash": "86a5512e",
    "tags": []
   },
   "outputs": [
    {
     "data": {
      "image/png": "[encoded data removed]",
      "text/plain": [
       "<Figure size 432x288 with 1 Axes>"
      ]
     },
     "metadata": {
      "needs_background": "light"
     },
     "output_type": "display_data"
    }
   ],
   "source": [
    "#Plotting distribution of HC ages\n",
    "ax=blood_data['AGE'].hist(bins=8,edgecolor='black')\n",
    "ax.set_xlabel(\"Age\")\n",
    "ax.set_ylabel(\"Frequency\")\n",
    "ax.set_title(\"Distribution of HC ages\")\n",
    "ax.grid(False)"
   ]
  },
  {
   "cell_type": "markdown",
   "metadata": {
    "cell_id": "00003-d9ba42f1-7c88-4007-83e2-1ae6c6573b6d",
    "deepnote_cell_type": "code",
    "deepnote_to_be_reexecuted": false,
    "execution_millis": 4,
    "execution_start": 1614608293448,
    "source_hash": "f347cc64",
    "tags": []
   },
   "source": [
    "### Correlation "
   ]
  },
  {
   "cell_type": "code",
   "execution_count": null,
   "metadata": {
    "cell_id": "00004-a8d06b28-ebd8-464f-92a7-4ba8b6a242be",
    "deepnote_cell_type": "code",
    "deepnote_to_be_reexecuted": false,
    "execution_millis": 10,
    "execution_start": 1614608293458,
    "source_hash": "1d55749",
    "tags": []
   },
   "outputs": [
    {
     "data": {
      "text/plain": [
       "AGE                          1.000000\n",
       "YOB                         -1.000000\n",
       "Urea Nitrogen                0.298034\n",
       "Lymphocytes (%)             -0.255166\n",
       "Neutrophils (%)              0.197271\n",
       "Monocytes                    0.180632\n",
       "Creatinine (Rate Blanked)    0.180316\n",
       "Alkaline Phosphatase-QT      0.178899\n",
       "Lymphocytes                 -0.161696\n",
       "Total Protein               -0.159974\n",
       "Monocytes (%)                0.158007\n",
       "Serum Uric Acid              0.128502\n",
       "Basophils                    0.123712\n",
       "Albumin-QT                  -0.122841\n",
       "Neutrophils                  0.113783\n",
       "Platelets                   -0.099442\n",
       "AST (SGOT)                   0.095477\n",
       "Serum Glucose                0.089607\n",
       "Basophils (%)                0.082415\n",
       "Serum Potassium              0.078685\n",
       "PATNO                        0.074955\n",
       "WBC                          0.053332\n",
       "Serum Chloride              -0.048654\n",
       "ALT (SGPT)                   0.046626\n",
       "Total Bilirubin              0.040457\n",
       "Serum Sodium                 0.030841\n",
       "Prothrombin Time             0.030318\n",
       "Hematocrit                   0.025877\n",
       "Eosinophils (%)             -0.023411\n",
       "Hemoglobin                   0.022398\n",
       "APTT-QT                      0.021057\n",
       "Eosinophils                 -0.013548\n",
       "RBC                         -0.012664\n",
       "Calcium (EDTA)               0.010038\n",
       "Serum Bicarbonate            0.009060\n",
       "Name: AGE, dtype: float64"
      ]
     },
     "execution_count": 6,
     "metadata": {},
     "output_type": "execute_result"
    }
   ],
   "source": [
    "p_cor=blood_chem_df.corr(method ='pearson') \n",
    "S=p_cor['AGE'].dropna()\n",
    "#Order of correlations by magnitude\n",
    "order = S.abs().sort_values(ascending = False)\n",
    "S[order.index]\n"
   ]
  },
  {
   "cell_type": "markdown",
   "metadata": {},
   "source": [
    "### Logistic Regression"
   ]
  },
  {
   "cell_type": "code",
   "execution_count": null,
   "metadata": {
    "cell_id": "00006-305ab41f-1036-4248-8cac-e98e6a85e5e4",
    "deepnote_cell_type": "code",
    "deepnote_to_be_reexecuted": false,
    "execution_millis": 6,
    "execution_start": 1614608293465,
    "source_hash": "2a5c84bf",
    "tags": []
   },
   "outputs": [
    {
     "data": {
      "text/plain": [
       "Index(['Urea Nitrogen', 'Lymphocytes (%)', 'Neutrophils (%)', 'Monocytes',\n",
       "       'Creatinine (Rate Blanked)', 'Alkaline Phosphatase-QT', 'Lymphocytes',\n",
       "       'Total Protein'],\n",
       "      dtype='object')"
      ]
     },
     "execution_count": 7,
     "metadata": {},
     "output_type": "execute_result"
    }
   ],
   "source": [
    "#Top 8 most highly correlated w. age (drop year and age)\n",
    "order.index[2:10]"
   ]
  },
  {
   "cell_type": "code",
   "execution_count": null,
   "metadata": {
    "cell_id": "00005-df0d0d2b-dc1a-4ba0-a948-fb9c3ab31d62",
    "deepnote_cell_type": "code",
    "deepnote_to_be_reexecuted": false,
    "execution_millis": 1,
    "execution_start": 1614608293519,
    "source_hash": "ae44d72c",
    "tags": []
   },
   "outputs": [],
   "source": [
    "#X and y values\n",
    "X = blood_chem_df[order.index[2:10]]\n",
    "y = blood_chem_df['AGE']"
   ]
  },
  {
   "cell_type": "code",
   "execution_count": null,
   "metadata": {
    "cell_id": "00006-0b1c6227-cf90-4b9a-a025-6d709953be17",
    "deepnote_cell_type": "code",
    "deepnote_to_be_reexecuted": false,
    "execution_millis": 11,
    "execution_start": 1614608293615,
    "source_hash": "b2696ff6",
    "tags": []
   },
   "outputs": [
    {
     "data": {
      "application/vnd.deepnote.dataframe.v2+json": {
       "column_count": 8,
       "columns": [
        {
         "dtype": "float64",
         "name": "Urea Nitrogen",
         "stats": {
          "histogram": [
           {
            "bin_end": 3.8499999999999996,
            "bin_start": 2.9,
            "count": 18
           },
           {
            "bin_end": 4.8,
            "bin_start": 3.8499999999999996,
            "count": 34
           },
           {
            "bin_end": 5.75,
            "bin_start": 4.8,
            "count": 67
           },
           {
            "bin_end": 6.699999999999999,
            "bin_start": 5.75,
            "count": 30
           },
           {
            "bin_end": 7.65,
            "bin_start": 6.699999999999999,
            "count": 39
           },
           {
            "bin_end": 8.6,
            "bin_start": 7.65,
            "count": 6
           },
           {
            "bin_end": 9.549999999999999,
            "bin_start": 8.6,
            "count": 9
           },
           {
            "bin_end": 10.5,
            "bin_start": 9.549999999999999,
            "count": 9
           },
           {
            "bin_end": 11.45,
            "bin_start": 10.5,
            "count": 2
           },
           {
            "bin_end": 12.4,
            "bin_start": 11.45,
            "count": 1
           }
          ],
          "max": 12.4,
          "min": 2.9,
          "nan_count": 0,
          "unique_count": 43
         }
        },
        {
         "dtype": "float64",
         "name": "Lymphocytes (%)",
         "stats": {
          "histogram": [
           {
            "bin_end": 16.509999999999998,
            "bin_start": 11.6,
            "count": 8
           },
           {
            "bin_end": 21.42,
            "bin_start": 16.509999999999998,
            "count": 30
           },
           {
            "bin_end": 26.33,
            "bin_start": 21.42,
            "count": 48
           },
           {
            "bin_end": 31.240000000000002,
            "bin_start": 26.33,
            "count": 60
           },
           {
            "bin_end": 36.15,
            "bin_start": 31.240000000000002,
            "count": 38
           },
           {
            "bin_end": 41.06,
            "bin_start": 36.15,
            "count": 20
           },
           {
            "bin_end": 45.970000000000006,
            "bin_start": 41.06,
            "count": 6
           },
           {
            "bin_end": 50.88,
            "bin_start": 45.970000000000006,
            "count": 3
           },
           {
            "bin_end": 55.79,
            "bin_start": 50.88,
            "count": 0
           },
           {
            "bin_end": 60.7,
            "bin_start": 55.79,
            "count": 2
           }
          ],
          "max": 60.7,
          "min": 11.6,
          "nan_count": 0,
          "unique_count": 146
         }
        },
        {
         "dtype": "float64",
         "name": "Neutrophils (%)",
         "stats": {
          "histogram": [
           {
            "bin_end": 35.519999999999996,
            "bin_start": 30.4,
            "count": 2
           },
           {
            "bin_end": 40.64,
            "bin_start": 35.519999999999996,
            "count": 2
           },
           {
            "bin_end": 45.76,
            "bin_start": 40.64,
            "count": 3
           },
           {
            "bin_end": 50.879999999999995,
            "bin_start": 45.76,
            "count": 17
           },
           {
            "bin_end": 55.99999999999999,
            "bin_start": 50.879999999999995,
            "count": 24
           },
           {
            "bin_end": 61.11999999999999,
            "bin_start": 55.99999999999999,
            "count": 47
           },
           {
            "bin_end": 66.24,
            "bin_start": 61.11999999999999,
            "count": 62
           },
           {
            "bin_end": 71.35999999999999,
            "bin_start": 66.24,
            "count": 40
           },
           {
            "bin_end": 76.47999999999999,
            "bin_start": 71.35999999999999,
            "count": 14
           },
           {
            "bin_end": 81.6,
            "bin_start": 76.47999999999999,
            "count": 4
           }
          ],
          "max": 81.6,
          "min": 30.4,
          "nan_count": 0,
          "unique_count": 149
         }
        },
        {
         "dtype": "float64",
         "name": "Monocytes",
         "stats": {
          "histogram": [
           {
            "bin_end": 0.242,
            "bin_start": 0.15,
            "count": 26
           },
           {
            "bin_end": 0.33399999999999996,
            "bin_start": 0.242,
            "count": 54
           },
           {
            "bin_end": 0.42600000000000005,
            "bin_start": 0.33399999999999996,
            "count": 51
           },
           {
            "bin_end": 0.518,
            "bin_start": 0.42600000000000005,
            "count": 39
           },
           {
            "bin_end": 0.61,
            "bin_start": 0.518,
            "count": 24
           },
           {
            "bin_end": 0.7020000000000001,
            "bin_start": 0.61,
            "count": 11
           },
           {
            "bin_end": 0.794,
            "bin_start": 0.7020000000000001,
            "count": 7
           },
           {
            "bin_end": 0.886,
            "bin_start": 0.794,
            "count": 1
           },
           {
            "bin_end": 0.978,
            "bin_start": 0.886,
            "count": 1
           },
           {
            "bin_end": 1.07,
            "bin_start": 0.978,
            "count": 1
           }
          ],
          "max": 1.07,
          "min": 0.15,
          "nan_count": 0,
          "unique_count": 58
         }
        },
        {
         "dtype": "float64",
         "name": "Creatinine (Rate Blanked)",
         "stats": {
          "histogram": [
           {
            "bin_end": 54.6,
            "bin_start": 44,
            "count": 8
           },
           {
            "bin_end": 65.2,
            "bin_start": 54.6,
            "count": 28
           },
           {
            "bin_end": 75.8,
            "bin_start": 65.2,
            "count": 45
           },
           {
            "bin_end": 86.4,
            "bin_start": 75.8,
            "count": 49
           },
           {
            "bin_end": 97,
            "bin_start": 86.4,
            "count": 35
           },
           {
            "bin_end": 107.6,
            "bin_start": 97,
            "count": 34
           },
           {
            "bin_end": 118.2,
            "bin_start": 107.6,
            "count": 8
           },
           {
            "bin_end": 128.8,
            "bin_start": 118.2,
            "count": 5
           },
           {
            "bin_end": 139.39999999999998,
            "bin_start": 128.8,
            "count": 1
           },
           {
            "bin_end": 150,
            "bin_start": 139.39999999999998,
            "count": 2
           }
          ],
          "max": 150,
          "min": 44,
          "nan_count": 0,
          "unique_count": 39
         }
        },
        {
         "dtype": "float64",
         "name": "Alkaline Phosphatase-QT",
         "stats": {
          "histogram": [
           {
            "bin_end": 37.8,
            "bin_start": 26,
            "count": 5
           },
           {
            "bin_end": 49.6,
            "bin_start": 37.8,
            "count": 31
           },
           {
            "bin_end": 61.400000000000006,
            "bin_start": 49.6,
            "count": 46
           },
           {
            "bin_end": 73.2,
            "bin_start": 61.400000000000006,
            "count": 61
           },
           {
            "bin_end": 85,
            "bin_start": 73.2,
            "count": 35
           },
           {
            "bin_end": 96.80000000000001,
            "bin_start": 85,
            "count": 20
           },
           {
            "bin_end": 108.60000000000001,
            "bin_start": 96.80000000000001,
            "count": 7
           },
           {
            "bin_end": 120.4,
            "bin_start": 108.60000000000001,
            "count": 3
           },
           {
            "bin_end": 132.2,
            "bin_start": 120.4,
            "count": 4
           },
           {
            "bin_end": 144,
            "bin_start": 132.2,
            "count": 3
           }
          ],
          "max": 144,
          "min": 26,
          "nan_count": 0,
          "unique_count": 72
         }
        },
        {
         "dtype": "float64",
         "name": "Lymphocytes",
         "stats": {
          "histogram": [
           {
            "bin_end": 1.119,
            "bin_start": 0.71,
            "count": 28
           },
           {
            "bin_end": 1.528,
            "bin_start": 1.119,
            "count": 67
           },
           {
            "bin_end": 1.9369999999999998,
            "bin_start": 1.528,
            "count": 68
           },
           {
            "bin_end": 2.346,
            "bin_start": 1.9369999999999998,
            "count": 29
           },
           {
            "bin_end": 2.755,
            "bin_start": 2.346,
            "count": 10
           },
           {
            "bin_end": 3.1639999999999997,
            "bin_start": 2.755,
            "count": 7
           },
           {
            "bin_end": 3.573,
            "bin_start": 3.1639999999999997,
            "count": 3
           },
           {
            "bin_end": 3.9819999999999998,
            "bin_start": 3.573,
            "count": 1
           },
           {
            "bin_end": 4.391,
            "bin_start": 3.9819999999999998,
            "count": 1
           },
           {
            "bin_end": 4.8,
            "bin_start": 4.391,
            "count": 1
           }
          ],
          "max": 4.8,
          "min": 0.71,
          "nan_count": 0,
          "unique_count": 131
         }
        },
        {
         "dtype": "float64",
         "name": "Total Protein",
         "stats": {
          "histogram": [
           {
            "bin_end": 60.5,
            "bin_start": 58,
            "count": 2
           },
           {
            "bin_end": 63,
            "bin_start": 60.5,
            "count": 5
           },
           {
            "bin_end": 65.5,
            "bin_start": 63,
            "count": 21
           },
           {
            "bin_end": 68,
            "bin_start": 65.5,
            "count": 36
           },
           {
            "bin_end": 70.5,
            "bin_start": 68,
            "count": 59
           },
           {
            "bin_end": 73,
            "bin_start": 70.5,
            "count": 36
           },
           {
            "bin_end": 75.5,
            "bin_start": 73,
            "count": 34
           },
           {
            "bin_end": 78,
            "bin_start": 75.5,
            "count": 15
           },
           {
            "bin_end": 80.5,
            "bin_start": 78,
            "count": 5
           },
           {
            "bin_end": 83,
            "bin_start": 80.5,
            "count": 2
           }
          ],
          "max": 83,
          "min": 58,
          "nan_count": 0,
          "unique_count": 23
         }
        },
        {
         "dtype": "int64",
         "name": "_deepnote_index_column"
        }
       ],
       "row_count": 215,
       "rows_bottom": [
        {
         "Alkaline Phosphatase-QT": 69,
         "Creatinine (Rate Blanked)": 80,
         "Lymphocytes": 2.09,
         "Lymphocytes (%)": 34.4,
         "Monocytes": 0.36,
         "Neutrophils (%)": 54.9,
         "Total Protein": 74,
         "Urea Nitrogen": 5,
         "_deepnote_index_column": 163
        },
        {
         "Alkaline Phosphatase-QT": 144,
         "Creatinine (Rate Blanked)": 71,
         "Lymphocytes": 0.93,
         "Lymphocytes (%)": 24.7,
         "Monocytes": 0.29,
         "Neutrophils (%)": 65.5,
         "Total Protein": 67,
         "Urea Nitrogen": 5,
         "_deepnote_index_column": 164
        },
        {
         "Alkaline Phosphatase-QT": 83,
         "Creatinine (Rate Blanked)": 88,
         "Lymphocytes": 1.38,
         "Lymphocytes (%)": 28.6,
         "Monocytes": 0.51,
         "Neutrophils (%)": 57.5,
         "Total Protein": 71,
         "Urea Nitrogen": 5,
         "_deepnote_index_column": 165
        },
        {
         "Alkaline Phosphatase-QT": 47,
         "Creatinine (Rate Blanked)": 88,
         "Lymphocytes": 1.77,
         "Lymphocytes (%)": 28.7,
         "Monocytes": 0.35,
         "Neutrophils (%)": 59.6,
         "Total Protein": 74,
         "Urea Nitrogen": 6.1,
         "_deepnote_index_column": 166
        },
        {
         "Alkaline Phosphatase-QT": 49,
         "Creatinine (Rate Blanked)": 97,
         "Lymphocytes": 1.21,
         "Lymphocytes (%)": 27.6,
         "Monocytes": 0.3,
         "Neutrophils (%)": 61.9,
         "Total Protein": 62,
         "Urea Nitrogen": 8.6,
         "_deepnote_index_column": 167
        },
        {
         "Alkaline Phosphatase-QT": 50,
         "Creatinine (Rate Blanked)": 74,
         "Lymphocytes": 1.69,
         "Lymphocytes (%)": 26.2,
         "Monocytes": 0.4,
         "Neutrophils (%)": 64.9,
         "Total Protein": 69,
         "Urea Nitrogen": 8.3,
         "_deepnote_index_column": 168
        },
        {
         "Alkaline Phosphatase-QT": 69,
         "Creatinine (Rate Blanked)": 75,
         "Lymphocytes": 2.45,
         "Lymphocytes (%)": 39.7,
         "Monocytes": 0.36,
         "Neutrophils (%)": 52.7,
         "Total Protein": 74,
         "Urea Nitrogen": 3.8,
         "_deepnote_index_column": 169
        },
        {
         "Alkaline Phosphatase-QT": 96,
         "Creatinine (Rate Blanked)": 115,
         "Lymphocytes": 1.73,
         "Lymphocytes (%)": 35.3,
         "Monocytes": 0.17,
         "Neutrophils (%)": 60.1,
         "Total Protein": 77,
         "Urea Nitrogen": 6.1,
         "_deepnote_index_column": 171
        },
        {
         "Alkaline Phosphatase-QT": 62,
         "Creatinine (Rate Blanked)": 106,
         "Lymphocytes": 1.48,
         "Lymphocytes (%)": 21.1,
         "Monocytes": 0.71,
         "Neutrophils (%)": 67.2,
         "Total Protein": 71,
         "Urea Nitrogen": 7.1,
         "_deepnote_index_column": 172
        },
        {
         "Alkaline Phosphatase-QT": 87,
         "Creatinine (Rate Blanked)": 106,
         "Lymphocytes": 1.1,
         "Lymphocytes (%)": 27.7,
         "Monocytes": 0.43,
         "Neutrophils (%)": 59.1,
         "Total Protein": 70,
         "Urea Nitrogen": 5.7,
         "_deepnote_index_column": 173
        },
        {
         "Alkaline Phosphatase-QT": 54,
         "Creatinine (Rate Blanked)": 71,
         "Lymphocytes": 1.02,
         "Lymphocytes (%)": 25.4,
         "Monocytes": 0.3,
         "Neutrophils (%)": 62.7,
         "Total Protein": 67,
         "Urea Nitrogen": 6.4,
         "_deepnote_index_column": 174
        },
        {
         "Alkaline Phosphatase-QT": 74,
         "Creatinine (Rate Blanked)": 80,
         "Lymphocytes": 1.45,
         "Lymphocytes (%)": 25.5,
         "Monocytes": 0.43,
         "Neutrophils (%)": 64.4,
         "Total Protein": 72,
         "Urea Nitrogen": 10.7,
         "_deepnote_index_column": 175
        },
        {
         "Alkaline Phosphatase-QT": 67,
         "Creatinine (Rate Blanked)": 80,
         "Lymphocytes": 1.68,
         "Lymphocytes (%)": 28.8,
         "Monocytes": 0.35,
         "Neutrophils (%)": 62.3,
         "Total Protein": 74,
         "Urea Nitrogen": 5.7,
         "_deepnote_index_column": 176
        },
        {
         "Alkaline Phosphatase-QT": 35,
         "Creatinine (Rate Blanked)": 80,
         "Lymphocytes": 1.12,
         "Lymphocytes (%)": 23.2,
         "Monocytes": 0.38,
         "Neutrophils (%)": 63.4,
         "Total Protein": 68,
         "Urea Nitrogen": 6.1,
         "_deepnote_index_column": 179
        },
        {
         "Alkaline Phosphatase-QT": 88,
         "Creatinine (Rate Blanked)": 97,
         "Lymphocytes": 1.39,
         "Lymphocytes (%)": 18.1,
         "Monocytes": 0.66,
         "Neutrophils (%)": 71.5,
         "Total Protein": 68,
         "Urea Nitrogen": 3.6,
         "_deepnote_index_column": 180
        },
        {
         "Alkaline Phosphatase-QT": 74,
         "Creatinine (Rate Blanked)": 80,
         "Lymphocytes": 1.42,
         "Lymphocytes (%)": 27.7,
         "Monocytes": 0.35,
         "Neutrophils (%)": 61.9,
         "Total Protein": 69,
         "Urea Nitrogen": 8.6,
         "_deepnote_index_column": 181
        },
        {
         "Alkaline Phosphatase-QT": 101,
         "Creatinine (Rate Blanked)": 88,
         "Lymphocytes": 2.42,
         "Lymphocytes (%)": 30.7,
         "Monocytes": 0.6,
         "Neutrophils (%)": 59.7,
         "Total Protein": 64,
         "Urea Nitrogen": 4.6,
         "_deepnote_index_column": 182
        },
        {
         "Alkaline Phosphatase-QT": 83,
         "Creatinine (Rate Blanked)": 88,
         "Lymphocytes": 1.5,
         "Lymphocytes (%)": 31.8,
         "Monocytes": 0.19,
         "Neutrophils (%)": 61,
         "Total Protein": 71,
         "Urea Nitrogen": 6.1,
         "_deepnote_index_column": 183
        },
        {
         "Alkaline Phosphatase-QT": 62,
         "Creatinine (Rate Blanked)": 90,
         "Lymphocytes": 1.76,
         "Lymphocytes (%)": 24.3,
         "Monocytes": 0.51,
         "Neutrophils (%)": 67.3,
         "Total Protein": 66,
         "Urea Nitrogen": 6.9,
         "_deepnote_index_column": 184
        },
        {
         "Alkaline Phosphatase-QT": 86,
         "Creatinine (Rate Blanked)": 106,
         "Lymphocytes": 1.12,
         "Lymphocytes (%)": 20.7,
         "Monocytes": 0.35,
         "Neutrophils (%)": 68.8,
         "Total Protein": 69,
         "Urea Nitrogen": 6.4,
         "_deepnote_index_column": 185
        },
        {
         "Alkaline Phosphatase-QT": 65,
         "Creatinine (Rate Blanked)": 88,
         "Lymphocytes": 0.79,
         "Lymphocytes (%)": 25.4,
         "Monocytes": 0.2,
         "Neutrophils (%)": 66.1,
         "Total Protein": 64,
         "Urea Nitrogen": 7.5,
         "_deepnote_index_column": 186
        },
        {
         "Alkaline Phosphatase-QT": 86,
         "Creatinine (Rate Blanked)": 115,
         "Lymphocytes": 1.82,
         "Lymphocytes (%)": 19,
         "Monocytes": 0.57,
         "Neutrophils (%)": 72.7,
         "Total Protein": 75,
         "Urea Nitrogen": 5.4,
         "_deepnote_index_column": 187
        },
        {
         "Alkaline Phosphatase-QT": 50,
         "Creatinine (Rate Blanked)": 88,
         "Lymphocytes": 1.04,
         "Lymphocytes (%)": 25.5,
         "Monocytes": 0.3,
         "Neutrophils (%)": 65.1,
         "Total Protein": 63,
         "Urea Nitrogen": 8.9,
         "_deepnote_index_column": 188
        },
        {
         "Alkaline Phosphatase-QT": 90,
         "Creatinine (Rate Blanked)": 88,
         "Lymphocytes": 1.6,
         "Lymphocytes (%)": 26.5,
         "Monocytes": 0.31,
         "Neutrophils (%)": 65.9,
         "Total Protein": 65,
         "Urea Nitrogen": 7.1,
         "_deepnote_index_column": 189
        },
        {
         "Alkaline Phosphatase-QT": 83,
         "Creatinine (Rate Blanked)": 106,
         "Lymphocytes": 1.97,
         "Lymphocytes (%)": 17.8,
         "Monocytes": 0.53,
         "Neutrophils (%)": 75,
         "Total Protein": 74,
         "Urea Nitrogen": 10,
         "_deepnote_index_column": 191
        },
        {
         "Alkaline Phosphatase-QT": 97,
         "Creatinine (Rate Blanked)": 106,
         "Lymphocytes": 1.31,
         "Lymphocytes (%)": 22.1,
         "Monocytes": 0.34,
         "Neutrophils (%)": 70.5,
         "Total Protein": 73,
         "Urea Nitrogen": 5.7,
         "_deepnote_index_column": 192
        },
        {
         "Alkaline Phosphatase-QT": 68,
         "Creatinine (Rate Blanked)": 62,
         "Lymphocytes": 1.09,
         "Lymphocytes (%)": 26.1,
         "Monocytes": 0.34,
         "Neutrophils (%)": 60.9,
         "Total Protein": 63,
         "Urea Nitrogen": 5.4,
         "_deepnote_index_column": 194
        },
        {
         "Alkaline Phosphatase-QT": 118,
         "Creatinine (Rate Blanked)": 80,
         "Lymphocytes": 1.19,
         "Lymphocytes (%)": 18.6,
         "Monocytes": 0.35,
         "Neutrophils (%)": 69.8,
         "Total Protein": 67,
         "Urea Nitrogen": 10,
         "_deepnote_index_column": 195
        },
        {
         "Alkaline Phosphatase-QT": 69,
         "Creatinine (Rate Blanked)": 97,
         "Lymphocytes": 1.14,
         "Lymphocytes (%)": 17.8,
         "Monocytes": 0.53,
         "Neutrophils (%)": 71.3,
         "Total Protein": 72,
         "Urea Nitrogen": 5.7,
         "_deepnote_index_column": 196
        },
        {
         "Alkaline Phosphatase-QT": 77,
         "Creatinine (Rate Blanked)": 80,
         "Lymphocytes": 1.41,
         "Lymphocytes (%)": 28.9,
         "Monocytes": 0.28,
         "Neutrophils (%)": 62.9,
         "Total Protein": 70,
         "Urea Nitrogen": 5.4,
         "_deepnote_index_column": 197
        },
        {
         "Alkaline Phosphatase-QT": 76,
         "Creatinine (Rate Blanked)": 106,
         "Lymphocytes": 2.4,
         "Lymphocytes (%)": 27.1,
         "Monocytes": 0.75,
         "Neutrophils (%)": 61.8,
         "Total Protein": 64,
         "Urea Nitrogen": 6.8,
         "_deepnote_index_column": 198
        },
        {
         "Alkaline Phosphatase-QT": 52,
         "Creatinine (Rate Blanked)": 80,
         "Lymphocytes": 1.48,
         "Lymphocytes (%)": 30.2,
         "Monocytes": 0.31,
         "Neutrophils (%)": 60.8,
         "Total Protein": 68,
         "Urea Nitrogen": 6.4,
         "_deepnote_index_column": 199
        },
        {
         "Alkaline Phosphatase-QT": 63,
         "Creatinine (Rate Blanked)": 97,
         "Lymphocytes": 1.58,
         "Lymphocytes (%)": 25.5,
         "Monocytes": 0.44,
         "Neutrophils (%)": 63.3,
         "Total Protein": 73,
         "Urea Nitrogen": 6.8,
         "_deepnote_index_column": 200
        },
        {
         "Alkaline Phosphatase-QT": 83,
         "Creatinine (Rate Blanked)": 83,
         "Lymphocytes": 2.09,
         "Lymphocytes (%)": 29.7,
         "Monocytes": 0.35,
         "Neutrophils (%)": 61.6,
         "Total Protein": 74,
         "Urea Nitrogen": 4.4,
         "_deepnote_index_column": 201
        },
        {
         "Alkaline Phosphatase-QT": 142,
         "Creatinine (Rate Blanked)": 71,
         "Lymphocytes": 2.39,
         "Lymphocytes (%)": 27.3,
         "Monocytes": 0.53,
         "Neutrophils (%)": 62.9,
         "Total Protein": 74,
         "Urea Nitrogen": 3.9,
         "_deepnote_index_column": 202
        },
        {
         "Alkaline Phosphatase-QT": 39,
         "Creatinine (Rate Blanked)": 106,
         "Lymphocytes": 1.17,
         "Lymphocytes (%)": 29.6,
         "Monocytes": 0.35,
         "Neutrophils (%)": 59,
         "Total Protein": 62,
         "Urea Nitrogen": 9.3,
         "_deepnote_index_column": 203
        },
        {
         "Alkaline Phosphatase-QT": 68,
         "Creatinine (Rate Blanked)": 71,
         "Lymphocytes": 1.57,
         "Lymphocytes (%)": 27.5,
         "Monocytes": 0.51,
         "Neutrophils (%)": 61.4,
         "Total Protein": 66,
         "Urea Nitrogen": 6.1,
         "_deepnote_index_column": 204
        },
        {
         "Alkaline Phosphatase-QT": 62,
         "Creatinine (Rate Blanked)": 88,
         "Lymphocytes": 0.73,
         "Lymphocytes (%)": 15.2,
         "Monocytes": 0.39,
         "Neutrophils (%)": 75.3,
         "Total Protein": 70,
         "Urea Nitrogen": 3.9,
         "_deepnote_index_column": 205
        },
        {
         "Alkaline Phosphatase-QT": 93,
         "Creatinine (Rate Blanked)": 71,
         "Lymphocytes": 2.1,
         "Lymphocytes (%)": 25.3,
         "Monocytes": 0.47,
         "Neutrophils (%)": 65.8,
         "Total Protein": 72,
         "Urea Nitrogen": 5,
         "_deepnote_index_column": 206
        },
        {
         "Alkaline Phosphatase-QT": 67,
         "Creatinine (Rate Blanked)": 88,
         "Lymphocytes": 1.53,
         "Lymphocytes (%)": 21.6,
         "Monocytes": 0.76,
         "Neutrophils (%)": 63.7,
         "Total Protein": 73,
         "Urea Nitrogen": 10,
         "_deepnote_index_column": 207
        },
        {
         "Alkaline Phosphatase-QT": 60,
         "Creatinine (Rate Blanked)": 97,
         "Lymphocytes": 1.68,
         "Lymphocytes (%)": 23.3,
         "Monocytes": 0.53,
         "Neutrophils (%)": 66.6,
         "Total Protein": 69,
         "Urea Nitrogen": 6.4,
         "_deepnote_index_column": 208
        },
        {
         "Alkaline Phosphatase-QT": 57,
         "Creatinine (Rate Blanked)": 80,
         "Lymphocytes": 1.75,
         "Lymphocytes (%)": 37.4,
         "Monocytes": 0.22,
         "Neutrophils (%)": 56.1,
         "Total Protein": 64,
         "Urea Nitrogen": 10.4,
         "_deepnote_index_column": 209
        },
        {
         "Alkaline Phosphatase-QT": 113,
         "Creatinine (Rate Blanked)": 65,
         "Lymphocytes": 1.05,
         "Lymphocytes (%)": 17.5,
         "Monocytes": 0.46,
         "Neutrophils (%)": 72.8,
         "Total Protein": 68,
         "Urea Nitrogen": 4.4,
         "_deepnote_index_column": 210
        },
        {
         "Alkaline Phosphatase-QT": 47,
         "Creatinine (Rate Blanked)": 88,
         "Lymphocytes": 1.09,
         "Lymphocytes (%)": 14.6,
         "Monocytes": 0.44,
         "Neutrophils (%)": 75.3,
         "Total Protein": 66,
         "Urea Nitrogen": 7.1,
         "_deepnote_index_column": 211
        },
        {
         "Alkaline Phosphatase-QT": 75,
         "Creatinine (Rate Blanked)": 71,
         "Lymphocytes": 1.48,
         "Lymphocytes (%)": 38,
         "Monocytes": 0.28,
         "Neutrophils (%)": 53.1,
         "Total Protein": 68,
         "Urea Nitrogen": 9.6,
         "_deepnote_index_column": 212
        },
        {
         "Alkaline Phosphatase-QT": 50,
         "Creatinine (Rate Blanked)": 44,
         "Lymphocytes": 1,
         "Lymphocytes (%)": 24,
         "Monocytes": 0.42,
         "Neutrophils (%)": 62.7,
         "Total Protein": 65,
         "Urea Nitrogen": 3.6,
         "_deepnote_index_column": 213
        },
        {
         "Alkaline Phosphatase-QT": 60,
         "Creatinine (Rate Blanked)": 61,
         "Lymphocytes": 1.69,
         "Lymphocytes (%)": 36.3,
         "Monocytes": 0.34,
         "Neutrophils (%)": 51.2,
         "Total Protein": 66,
         "Urea Nitrogen": 2.9,
         "_deepnote_index_column": 214
        },
        {
         "Alkaline Phosphatase-QT": 62,
         "Creatinine (Rate Blanked)": 86,
         "Lymphocytes": 1.31,
         "Lymphocytes (%)": 32.4,
         "Monocytes": 0.42,
         "Neutrophils (%)": 54,
         "Total Protein": 68,
         "Urea Nitrogen": 4.5,
         "_deepnote_index_column": 215
        },
        {
         "Alkaline Phosphatase-QT": 43,
         "Creatinine (Rate Blanked)": 88,
         "Lymphocytes": 1.28,
         "Lymphocytes (%)": 43.6,
         "Monocytes": 0.25,
         "Neutrophils (%)": 43.3,
         "Total Protein": 58,
         "Urea Nitrogen": 4.3,
         "_deepnote_index_column": 216
        },
        {
         "Alkaline Phosphatase-QT": 64,
         "Creatinine (Rate Blanked)": 80,
         "Lymphocytes": 1.76,
         "Lymphocytes (%)": 29.7,
         "Monocytes": 0.46,
         "Neutrophils (%)": 58.3,
         "Total Protein": 68,
         "Urea Nitrogen": 6.8,
         "_deepnote_index_column": 217
        },
        {
         "Alkaline Phosphatase-QT": 47,
         "Creatinine (Rate Blanked)": 126,
         "Lymphocytes": 0.85,
         "Lymphocytes (%)": 17.2,
         "Monocytes": 0.28,
         "Neutrophils (%)": 74.7,
         "Total Protein": 66,
         "Urea Nitrogen": 6.4,
         "_deepnote_index_column": 218
        },
        {
         "Alkaline Phosphatase-QT": 58,
         "Creatinine (Rate Blanked)": 53,
         "Lymphocytes": 1.3,
         "Lymphocytes (%)": 31.3,
         "Monocytes": 0.27,
         "Neutrophils (%)": 61.4,
         "Total Protein": 68,
         "Urea Nitrogen": 5.4,
         "_deepnote_index_column": 219
        },
        {
         "Alkaline Phosphatase-QT": 94,
         "Creatinine (Rate Blanked)": 62,
         "Lymphocytes": 0.71,
         "Lymphocytes (%)": 25.4,
         "Monocytes": 0.37,
         "Neutrophils (%)": 70.6,
         "Total Protein": 69,
         "Urea Nitrogen": 2.9,
         "_deepnote_index_column": 220
        },
        {
         "Alkaline Phosphatase-QT": 49,
         "Creatinine (Rate Blanked)": 150,
         "Lymphocytes": 1.19,
         "Lymphocytes (%)": 24.3,
         "Monocytes": 0.45,
         "Neutrophils (%)": 63.5,
         "Total Protein": 71,
         "Urea Nitrogen": 10.7,
         "_deepnote_index_column": 221
        },
        {
         "Alkaline Phosphatase-QT": 54,
         "Creatinine (Rate Blanked)": 80,
         "Lymphocytes": 0.8,
         "Lymphocytes (%)": 25.2,
         "Monocytes": 0.18,
         "Neutrophils (%)": 64.4,
         "Total Protein": 70,
         "Urea Nitrogen": 6.8,
         "_deepnote_index_column": 223
        },
        {
         "Alkaline Phosphatase-QT": 58,
         "Creatinine (Rate Blanked)": 62,
         "Lymphocytes": 1.55,
         "Lymphocytes (%)": 25.6,
         "Monocytes": 0.23,
         "Neutrophils (%)": 69.2,
         "Total Protein": 77,
         "Urea Nitrogen": 5.4,
         "_deepnote_index_column": 224
        },
        {
         "Alkaline Phosphatase-QT": 98,
         "Creatinine (Rate Blanked)": 88,
         "Lymphocytes": 1.26,
         "Lymphocytes (%)": 21.4,
         "Monocytes": 0.27,
         "Neutrophils (%)": 70.9,
         "Total Protein": 66,
         "Urea Nitrogen": 6.8,
         "_deepnote_index_column": 225
        },
        {
         "Alkaline Phosphatase-QT": 132,
         "Creatinine (Rate Blanked)": 80,
         "Lymphocytes": 3.45,
         "Lymphocytes (%)": 31.2,
         "Monocytes": 1.07,
         "Neutrophils (%)": 57.3,
         "Total Protein": 68,
         "Urea Nitrogen": 5.4,
         "_deepnote_index_column": 226
        },
        {
         "Alkaline Phosphatase-QT": 72,
         "Creatinine (Rate Blanked)": 97,
         "Lymphocytes": 1.26,
         "Lymphocytes (%)": 40.5,
         "Monocytes": 0.25,
         "Neutrophils (%)": 49.1,
         "Total Protein": 68,
         "Urea Nitrogen": 6.4,
         "_deepnote_index_column": 227
        },
        {
         "Alkaline Phosphatase-QT": 97,
         "Creatinine (Rate Blanked)": 71,
         "Lymphocytes": 2.23,
         "Lymphocytes (%)": 25.4,
         "Monocytes": 0.5,
         "Neutrophils (%)": 64.7,
         "Total Protein": 70,
         "Urea Nitrogen": 8.2,
         "_deepnote_index_column": 228
        },
        {
         "Alkaline Phosphatase-QT": 67,
         "Creatinine (Rate Blanked)": 88,
         "Lymphocytes": 1.99,
         "Lymphocytes (%)": 38.2,
         "Monocytes": 0.2,
         "Neutrophils (%)": 53.8,
         "Total Protein": 70,
         "Urea Nitrogen": 4.3,
         "_deepnote_index_column": 229
        },
        {
         "Alkaline Phosphatase-QT": 78,
         "Creatinine (Rate Blanked)": 71,
         "Lymphocytes": 1.47,
         "Lymphocytes (%)": 24.5,
         "Monocytes": 0.41,
         "Neutrophils (%)": 67.2,
         "Total Protein": 68,
         "Urea Nitrogen": 4.6,
         "_deepnote_index_column": 230
        },
        {
         "Alkaline Phosphatase-QT": 54,
         "Creatinine (Rate Blanked)": 88,
         "Lymphocytes": 1.07,
         "Lymphocytes (%)": 24.3,
         "Monocytes": 0.38,
         "Neutrophils (%)": 59.9,
         "Total Protein": 68,
         "Urea Nitrogen": 4.6,
         "_deepnote_index_column": 231
        }
       ],
       "rows_top": [
        {
         "Alkaline Phosphatase-QT": 74,
         "Creatinine (Rate Blanked)": 71,
         "Lymphocytes": 1.69,
         "Lymphocytes (%)": 28.1,
         "Monocytes": 0.32,
         "Neutrophils (%)": 64.5,
         "Total Protein": 73,
         "Urea Nitrogen": 7.1,
         "_deepnote_index_column": 0
        },
        {
         "Alkaline Phosphatase-QT": 68,
         "Creatinine (Rate Blanked)": 62,
         "Lymphocytes": 1.78,
         "Lymphocytes (%)": 28.5,
         "Monocytes": 0.55,
         "Neutrophils (%)": 61.4,
         "Total Protein": 71,
         "Urea Nitrogen": 5,
         "_deepnote_index_column": 1
        },
        {
         "Alkaline Phosphatase-QT": 64,
         "Creatinine (Rate Blanked)": 71,
         "Lymphocytes": 4.29,
         "Lymphocytes (%)": 58.9,
         "Monocytes": 0.29,
         "Neutrophils (%)": 35,
         "Total Protein": 77,
         "Urea Nitrogen": 3.2,
         "_deepnote_index_column": 2
        },
        {
         "Alkaline Phosphatase-QT": 86,
         "Creatinine (Rate Blanked)": 71,
         "Lymphocytes": 1.73,
         "Lymphocytes (%)": 21.4,
         "Monocytes": 0.64,
         "Neutrophils (%)": 65.1,
         "Total Protein": 67,
         "Urea Nitrogen": 4.3,
         "_deepnote_index_column": 3
        },
        {
         "Alkaline Phosphatase-QT": 69,
         "Creatinine (Rate Blanked)": 71,
         "Lymphocytes": 2.58,
         "Lymphocytes (%)": 39.4,
         "Monocytes": 0.24,
         "Neutrophils (%)": 55.7,
         "Total Protein": 72,
         "Urea Nitrogen": 4.3,
         "_deepnote_index_column": 4
        },
        {
         "Alkaline Phosphatase-QT": 78,
         "Creatinine (Rate Blanked)": 80,
         "Lymphocytes": 2.28,
         "Lymphocytes (%)": 32,
         "Monocytes": 0.4,
         "Neutrophils (%)": 61,
         "Total Protein": 70,
         "Urea Nitrogen": 5.4,
         "_deepnote_index_column": 5
        },
        {
         "Alkaline Phosphatase-QT": 69,
         "Creatinine (Rate Blanked)": 97,
         "Lymphocytes": 2.63,
         "Lymphocytes (%)": 31.3,
         "Monocytes": 0.64,
         "Neutrophils (%)": 58.1,
         "Total Protein": 66,
         "Urea Nitrogen": 10.4,
         "_deepnote_index_column": 6
        },
        {
         "Alkaline Phosphatase-QT": 59,
         "Creatinine (Rate Blanked)": 80,
         "Lymphocytes": 1.54,
         "Lymphocytes (%)": 29.9,
         "Monocytes": 0.45,
         "Neutrophils (%)": 59,
         "Total Protein": 68,
         "Urea Nitrogen": 4.6,
         "_deepnote_index_column": 7
        },
        {
         "Alkaline Phosphatase-QT": 76,
         "Creatinine (Rate Blanked)": 88,
         "Lymphocytes": 2.24,
         "Lymphocytes (%)": 25.6,
         "Monocytes": 0.72,
         "Neutrophils (%)": 60.3,
         "Total Protein": 76,
         "Urea Nitrogen": 7.1,
         "_deepnote_index_column": 8
        },
        {
         "Alkaline Phosphatase-QT": 50,
         "Creatinine (Rate Blanked)": 124,
         "Lymphocytes": 1.5,
         "Lymphocytes (%)": 23.1,
         "Monocytes": 0.31,
         "Neutrophils (%)": 70.1,
         "Total Protein": 72,
         "Urea Nitrogen": 7.1,
         "_deepnote_index_column": 9
        },
        {
         "Alkaline Phosphatase-QT": 55,
         "Creatinine (Rate Blanked)": 62,
         "Lymphocytes": 2.87,
         "Lymphocytes (%)": 33.7,
         "Monocytes": 0.38,
         "Neutrophils (%)": 56.9,
         "Total Protein": 69,
         "Urea Nitrogen": 3.2,
         "_deepnote_index_column": 10
        },
        {
         "Alkaline Phosphatase-QT": 77,
         "Creatinine (Rate Blanked)": 97,
         "Lymphocytes": 1.56,
         "Lymphocytes (%)": 30.3,
         "Monocytes": 0.48,
         "Neutrophils (%)": 55.8,
         "Total Protein": 74,
         "Urea Nitrogen": 5.4,
         "_deepnote_index_column": 11
        },
        {
         "Alkaline Phosphatase-QT": 54,
         "Creatinine (Rate Blanked)": 62,
         "Lymphocytes": 1.82,
         "Lymphocytes (%)": 29.3,
         "Monocytes": 0.35,
         "Neutrophils (%)": 60.1,
         "Total Protein": 65,
         "Urea Nitrogen": 9.3,
         "_deepnote_index_column": 12
        },
        {
         "Alkaline Phosphatase-QT": 64,
         "Creatinine (Rate Blanked)": 62,
         "Lymphocytes": 1.38,
         "Lymphocytes (%)": 26.7,
         "Monocytes": 0.32,
         "Neutrophils (%)": 62.8,
         "Total Protein": 70,
         "Urea Nitrogen": 5,
         "_deepnote_index_column": 13
        },
        {
         "Alkaline Phosphatase-QT": 73,
         "Creatinine (Rate Blanked)": 80,
         "Lymphocytes": 1.29,
         "Lymphocytes (%)": 15.5,
         "Monocytes": 0.82,
         "Neutrophils (%)": 73.3,
         "Total Protein": 69,
         "Urea Nitrogen": 6.4,
         "_deepnote_index_column": 14
        },
        {
         "Alkaline Phosphatase-QT": 74,
         "Creatinine (Rate Blanked)": 71,
         "Lymphocytes": 1.28,
         "Lymphocytes (%)": 24.3,
         "Monocytes": 0.24,
         "Neutrophils (%)": 68.3,
         "Total Protein": 77,
         "Urea Nitrogen": 5,
         "_deepnote_index_column": 15
        },
        {
         "Alkaline Phosphatase-QT": 61,
         "Creatinine (Rate Blanked)": 80,
         "Lymphocytes": 1.42,
         "Lymphocytes (%)": 28.1,
         "Monocytes": 0.43,
         "Neutrophils (%)": 59.1,
         "Total Protein": 77,
         "Urea Nitrogen": 4.3,
         "_deepnote_index_column": 16
        },
        {
         "Alkaline Phosphatase-QT": 61,
         "Creatinine (Rate Blanked)": 62,
         "Lymphocytes": 2.14,
         "Lymphocytes (%)": 29.8,
         "Monocytes": 0.38,
         "Neutrophils (%)": 62.7,
         "Total Protein": 72,
         "Urea Nitrogen": 6.1,
         "_deepnote_index_column": 17
        },
        {
         "Alkaline Phosphatase-QT": 28,
         "Creatinine (Rate Blanked)": 62,
         "Lymphocytes": 1.26,
         "Lymphocytes (%)": 31.4,
         "Monocytes": 0.33,
         "Neutrophils (%)": 57.5,
         "Total Protein": 66,
         "Urea Nitrogen": 5,
         "_deepnote_index_column": 18
        },
        {
         "Alkaline Phosphatase-QT": 66,
         "Creatinine (Rate Blanked)": 80,
         "Lymphocytes": 1.72,
         "Lymphocytes (%)": 36.1,
         "Monocytes": 0.18,
         "Neutrophils (%)": 58,
         "Total Protein": 76,
         "Urea Nitrogen": 4.6,
         "_deepnote_index_column": 19
        },
        {
         "Alkaline Phosphatase-QT": 88,
         "Creatinine (Rate Blanked)": 80,
         "Lymphocytes": 0.88,
         "Lymphocytes (%)": 13.4,
         "Monocytes": 0.26,
         "Neutrophils (%)": 69.7,
         "Total Protein": 75,
         "Urea Nitrogen": 4.3,
         "_deepnote_index_column": 20
        },
        {
         "Alkaline Phosphatase-QT": 74,
         "Creatinine (Rate Blanked)": 71,
         "Lymphocytes": 1.16,
         "Lymphocytes (%)": 19.5,
         "Monocytes": 0.55,
         "Neutrophils (%)": 66.9,
         "Total Protein": 70,
         "Urea Nitrogen": 6.8,
         "_deepnote_index_column": 21
        },
        {
         "Alkaline Phosphatase-QT": 67,
         "Creatinine (Rate Blanked)": 97,
         "Lymphocytes": 0.77,
         "Lymphocytes (%)": 16.9,
         "Monocytes": 0.21,
         "Neutrophils (%)": 75,
         "Total Protein": 76,
         "Urea Nitrogen": 7.1,
         "_deepnote_index_column": 22
        },
        {
         "Alkaline Phosphatase-QT": 79,
         "Creatinine (Rate Blanked)": 88,
         "Lymphocytes": 1.1,
         "Lymphocytes (%)": 18.4,
         "Monocytes": 0.45,
         "Neutrophils (%)": 71.3,
         "Total Protein": 72,
         "Urea Nitrogen": 5,
         "_deepnote_index_column": 24
        },
        {
         "Alkaline Phosphatase-QT": 71,
         "Creatinine (Rate Blanked)": 53,
         "Lymphocytes": 1.41,
         "Lymphocytes (%)": 26.7,
         "Monocytes": 0.26,
         "Neutrophils (%)": 61.8,
         "Total Protein": 65,
         "Urea Nitrogen": 5,
         "_deepnote_index_column": 26
        },
        {
         "Alkaline Phosphatase-QT": 125,
         "Creatinine (Rate Blanked)": 71,
         "Lymphocytes": 1.87,
         "Lymphocytes (%)": 37,
         "Monocytes": 0.23,
         "Neutrophils (%)": 56.3,
         "Total Protein": 67,
         "Urea Nitrogen": 4.3,
         "_deepnote_index_column": 27
        },
        {
         "Alkaline Phosphatase-QT": 38,
         "Creatinine (Rate Blanked)": 80,
         "Lymphocytes": 1.5,
         "Lymphocytes (%)": 37.4,
         "Monocytes": 0.21,
         "Neutrophils (%)": 53.9,
         "Total Protein": 69,
         "Urea Nitrogen": 4.6,
         "_deepnote_index_column": 28
        },
        {
         "Alkaline Phosphatase-QT": 56,
         "Creatinine (Rate Blanked)": 88,
         "Lymphocytes": 2.78,
         "Lymphocytes (%)": 40.6,
         "Monocytes": 0.59,
         "Neutrophils (%)": 47.2,
         "Total Protein": 60,
         "Urea Nitrogen": 5.7,
         "_deepnote_index_column": 29
        },
        {
         "Alkaline Phosphatase-QT": 58,
         "Creatinine (Rate Blanked)": 71,
         "Lymphocytes": 1.64,
         "Lymphocytes (%)": 29.9,
         "Monocytes": 0.44,
         "Neutrophils (%)": 58.2,
         "Total Protein": 67,
         "Urea Nitrogen": 5,
         "_deepnote_index_column": 30
        },
        {
         "Alkaline Phosphatase-QT": 69,
         "Creatinine (Rate Blanked)": 80,
         "Lymphocytes": 1.69,
         "Lymphocytes (%)": 19.6,
         "Monocytes": 0.56,
         "Neutrophils (%)": 69.4,
         "Total Protein": 67,
         "Urea Nitrogen": 5.4,
         "_deepnote_index_column": 32
        },
        {
         "Alkaline Phosphatase-QT": 60,
         "Creatinine (Rate Blanked)": 71,
         "Lymphocytes": 2.32,
         "Lymphocytes (%)": 28.8,
         "Monocytes": 0.48,
         "Neutrophils (%)": 62.8,
         "Total Protein": 66,
         "Urea Nitrogen": 5,
         "_deepnote_index_column": 33
        },
        {
         "Alkaline Phosphatase-QT": 68,
         "Creatinine (Rate Blanked)": 71,
         "Lymphocytes": 1.54,
         "Lymphocytes (%)": 33.7,
         "Monocytes": 0.4,
         "Neutrophils (%)": 54.9,
         "Total Protein": 64,
         "Urea Nitrogen": 5.7,
         "_deepnote_index_column": 34
        },
        {
         "Alkaline Phosphatase-QT": 84,
         "Creatinine (Rate Blanked)": 71,
         "Lymphocytes": 1.48,
         "Lymphocytes (%)": 22.5,
         "Monocytes": 0.3,
         "Neutrophils (%)": 69.6,
         "Total Protein": 66,
         "Urea Nitrogen": 7.5,
         "_deepnote_index_column": 35
        },
        {
         "Alkaline Phosphatase-QT": 58,
         "Creatinine (Rate Blanked)": 71,
         "Lymphocytes": 3.54,
         "Lymphocytes (%)": 49.8,
         "Monocytes": 0.32,
         "Neutrophils (%)": 43.9,
         "Total Protein": 75,
         "Urea Nitrogen": 3.2,
         "_deepnote_index_column": 36
        },
        {
         "Alkaline Phosphatase-QT": 78,
         "Creatinine (Rate Blanked)": 106,
         "Lymphocytes": 3.98,
         "Lymphocytes (%)": 50.8,
         "Monocytes": 0.55,
         "Neutrophils (%)": 38.9,
         "Total Protein": 70,
         "Urea Nitrogen": 5.4,
         "_deepnote_index_column": 38
        },
        {
         "Alkaline Phosphatase-QT": 54,
         "Creatinine (Rate Blanked)": 88,
         "Lymphocytes": 0.88,
         "Lymphocytes (%)": 28.6,
         "Monocytes": 0.26,
         "Neutrophils (%)": 60.9,
         "Total Protein": 74,
         "Urea Nitrogen": 5.7,
         "_deepnote_index_column": 39
        },
        {
         "Alkaline Phosphatase-QT": 57,
         "Creatinine (Rate Blanked)": 80,
         "Lymphocytes": 1.56,
         "Lymphocytes (%)": 60.7,
         "Monocytes": 0.15,
         "Neutrophils (%)": 30.4,
         "Total Protein": 71,
         "Urea Nitrogen": 3.2,
         "_deepnote_index_column": 40
        },
        {
         "Alkaline Phosphatase-QT": 112,
         "Creatinine (Rate Blanked)": 62,
         "Lymphocytes": 1.54,
         "Lymphocytes (%)": 28.1,
         "Monocytes": 0.39,
         "Neutrophils (%)": 63.3,
         "Total Protein": 69,
         "Urea Nitrogen": 4.3,
         "_deepnote_index_column": 41
        },
        {
         "Alkaline Phosphatase-QT": 78,
         "Creatinine (Rate Blanked)": 62,
         "Lymphocytes": 1.62,
         "Lymphocytes (%)": 27.4,
         "Monocytes": 0.4,
         "Neutrophils (%)": 61.6,
         "Total Protein": 67,
         "Urea Nitrogen": 6.4,
         "_deepnote_index_column": 43
        },
        {
         "Alkaline Phosphatase-QT": 82,
         "Creatinine (Rate Blanked)": 71,
         "Lymphocytes": 1.42,
         "Lymphocytes (%)": 24.1,
         "Monocytes": 0.38,
         "Neutrophils (%)": 65.5,
         "Total Protein": 62,
         "Urea Nitrogen": 5.7,
         "_deepnote_index_column": 44
        },
        {
         "Alkaline Phosphatase-QT": 45,
         "Creatinine (Rate Blanked)": 80,
         "Lymphocytes": 2.91,
         "Lymphocytes (%)": 35.8,
         "Monocytes": 0.42,
         "Neutrophils (%)": 57.2,
         "Total Protein": 74,
         "Urea Nitrogen": 5.7,
         "_deepnote_index_column": 45
        },
        {
         "Alkaline Phosphatase-QT": 73,
         "Creatinine (Rate Blanked)": 106,
         "Lymphocytes": 1.98,
         "Lymphocytes (%)": 29.9,
         "Monocytes": 0.43,
         "Neutrophils (%)": 62.1,
         "Total Protein": 70,
         "Urea Nitrogen": 6.4,
         "_deepnote_index_column": 46
        },
        {
         "Alkaline Phosphatase-QT": 75,
         "Creatinine (Rate Blanked)": 97,
         "Lymphocytes": 0.96,
         "Lymphocytes (%)": 18.6,
         "Monocytes": 0.31,
         "Neutrophils (%)": 73.1,
         "Total Protein": 72,
         "Urea Nitrogen": 6.4,
         "_deepnote_index_column": 47
        },
        {
         "Alkaline Phosphatase-QT": 70,
         "Creatinine (Rate Blanked)": 80,
         "Lymphocytes": 1.26,
         "Lymphocytes (%)": 23.4,
         "Monocytes": 0.21,
         "Neutrophils (%)": 68.8,
         "Total Protein": 71,
         "Urea Nitrogen": 7.1,
         "_deepnote_index_column": 48
        },
        {
         "Alkaline Phosphatase-QT": 96,
         "Creatinine (Rate Blanked)": 71,
         "Lymphocytes": 1.87,
         "Lymphocytes (%)": 33.7,
         "Monocytes": 0.32,
         "Neutrophils (%)": 57.8,
         "Total Protein": 61,
         "Urea Nitrogen": 2.9,
         "_deepnote_index_column": 49
        },
        {
         "Alkaline Phosphatase-QT": 72,
         "Creatinine (Rate Blanked)": 80,
         "Lymphocytes": 1.13,
         "Lymphocytes (%)": 27.2,
         "Monocytes": 0.19,
         "Neutrophils (%)": 65.8,
         "Total Protein": 72,
         "Urea Nitrogen": 6.4,
         "_deepnote_index_column": 51
        },
        {
         "Alkaline Phosphatase-QT": 35,
         "Creatinine (Rate Blanked)": 133,
         "Lymphocytes": 1.25,
         "Lymphocytes (%)": 23.4,
         "Monocytes": 0.78,
         "Neutrophils (%)": 57.3,
         "Total Protein": 66,
         "Urea Nitrogen": 8.9,
         "_deepnote_index_column": 52
        },
        {
         "Alkaline Phosphatase-QT": 49,
         "Creatinine (Rate Blanked)": 62,
         "Lymphocytes": 1.26,
         "Lymphocytes (%)": 38,
         "Monocytes": 0.22,
         "Neutrophils (%)": 52.3,
         "Total Protein": 63,
         "Urea Nitrogen": 7.1,
         "_deepnote_index_column": 53
        },
        {
         "Alkaline Phosphatase-QT": 48,
         "Creatinine (Rate Blanked)": 80,
         "Lymphocytes": 1.66,
         "Lymphocytes (%)": 32.8,
         "Monocytes": 0.55,
         "Neutrophils (%)": 51.9,
         "Total Protein": 67,
         "Urea Nitrogen": 7.5,
         "_deepnote_index_column": 54
        },
        {
         "Alkaline Phosphatase-QT": 63,
         "Creatinine (Rate Blanked)": 88,
         "Lymphocytes": 1.06,
         "Lymphocytes (%)": 24.7,
         "Monocytes": 0.34,
         "Neutrophils (%)": 64.5,
         "Total Protein": 64,
         "Urea Nitrogen": 6.8,
         "_deepnote_index_column": 55
        },
        {
         "Alkaline Phosphatase-QT": 62,
         "Creatinine (Rate Blanked)": 115,
         "Lymphocytes": 1.62,
         "Lymphocytes (%)": 29.2,
         "Monocytes": 0.4,
         "Neutrophils (%)": 62.2,
         "Total Protein": 73,
         "Urea Nitrogen": 9.3,
         "_deepnote_index_column": 56
        },
        {
         "Alkaline Phosphatase-QT": 51,
         "Creatinine (Rate Blanked)": 58,
         "Lymphocytes": 1.5,
         "Lymphocytes (%)": 20.3,
         "Monocytes": 0.3,
         "Neutrophils (%)": 74.7,
         "Total Protein": 67,
         "Urea Nitrogen": 4.9,
         "_deepnote_index_column": 57
        },
        {
         "Alkaline Phosphatase-QT": 44,
         "Creatinine (Rate Blanked)": 82,
         "Lymphocytes": 1.51,
         "Lymphocytes (%)": 42.6,
         "Monocytes": 0.24,
         "Neutrophils (%)": 46.6,
         "Total Protein": 73,
         "Urea Nitrogen": 5.6,
         "_deepnote_index_column": 58
        },
        {
         "Alkaline Phosphatase-QT": 64,
         "Creatinine (Rate Blanked)": 87,
         "Lymphocytes": 2.09,
         "Lymphocytes (%)": 27.2,
         "Monocytes": 0.65,
         "Neutrophils (%)": 63,
         "Total Protein": 72,
         "Urea Nitrogen": 5.5,
         "_deepnote_index_column": 59
        },
        {
         "Alkaline Phosphatase-QT": 42,
         "Creatinine (Rate Blanked)": 81,
         "Lymphocytes": 1.42,
         "Lymphocytes (%)": 27.9,
         "Monocytes": 0.45,
         "Neutrophils (%)": 61.8,
         "Total Protein": 70,
         "Urea Nitrogen": 6.4,
         "_deepnote_index_column": 60
        },
        {
         "Alkaline Phosphatase-QT": 87,
         "Creatinine (Rate Blanked)": 62,
         "Lymphocytes": 2.33,
         "Lymphocytes (%)": 28.8,
         "Monocytes": 0.45,
         "Neutrophils (%)": 62.5,
         "Total Protein": 79,
         "Urea Nitrogen": 3.6,
         "_deepnote_index_column": 61
        },
        {
         "Alkaline Phosphatase-QT": 65,
         "Creatinine (Rate Blanked)": 71,
         "Lymphocytes": 1.74,
         "Lymphocytes (%)": 34.9,
         "Monocytes": 0.3,
         "Neutrophils (%)": 56.3,
         "Total Protein": 76,
         "Urea Nitrogen": 4.6,
         "_deepnote_index_column": 62
        },
        {
         "Alkaline Phosphatase-QT": 139,
         "Creatinine (Rate Blanked)": 53,
         "Lymphocytes": 1.74,
         "Lymphocytes (%)": 23.3,
         "Monocytes": 0.47,
         "Neutrophils (%)": 67.9,
         "Total Protein": 63,
         "Urea Nitrogen": 4.3,
         "_deepnote_index_column": 63
        },
        {
         "Alkaline Phosphatase-QT": 65,
         "Creatinine (Rate Blanked)": 71,
         "Lymphocytes": 1.03,
         "Lymphocytes (%)": 21.3,
         "Monocytes": 0.26,
         "Neutrophils (%)": 70.7,
         "Total Protein": 67,
         "Urea Nitrogen": 4.6,
         "_deepnote_index_column": 64
        },
        {
         "Alkaline Phosphatase-QT": 73,
         "Creatinine (Rate Blanked)": 115,
         "Lymphocytes": 2.18,
         "Lymphocytes (%)": 41.4,
         "Monocytes": 0.35,
         "Neutrophils (%)": 48.5,
         "Total Protein": 76,
         "Urea Nitrogen": 6.8,
         "_deepnote_index_column": 66
        },
        {
         "Alkaline Phosphatase-QT": 88,
         "Creatinine (Rate Blanked)": 106,
         "Lymphocytes": 1.86,
         "Lymphocytes (%)": 26.6,
         "Monocytes": 0.52,
         "Neutrophils (%)": 63,
         "Total Protein": 71,
         "Urea Nitrogen": 7.1,
         "_deepnote_index_column": 67
        },
        {
         "Alkaline Phosphatase-QT": 65,
         "Creatinine (Rate Blanked)": 71,
         "Lymphocytes": 2.69,
         "Lymphocytes (%)": 45,
         "Monocytes": 0.24,
         "Neutrophils (%)": 50,
         "Total Protein": 72,
         "Urea Nitrogen": 5.7,
         "_deepnote_index_column": 68
        }
       ]
      },
      "text/html": [
       "<div>\n",
       "<style scoped>\n",
       "    .dataframe tbody tr th:only-of-type {\n",
       "        vertical-align: middle;\n",
       "    }\n",
       "\n",
       "    .dataframe tbody tr th {\n",
       "        vertical-align: top;\n",
       "    }\n",
       "\n",
       "    .dataframe thead th {\n",
       "        text-align: right;\n",
       "    }\n",
       "</style>\n",
       "<table border=\"1\" class=\"dataframe\">\n",
       "  <thead>\n",
       "    <tr style=\"text-align: right;\">\n",
       "      <th></th>\n",
       "      <th>Urea Nitrogen</th>\n",
       "      <th>Lymphocytes (%)</th>\n",
       "      <th>Neutrophils (%)</th>\n",
       "      <th>Monocytes</th>\n",
       "      <th>Creatinine (Rate Blanked)</th>\n",
       "      <th>Alkaline Phosphatase-QT</th>\n",
       "      <th>Lymphocytes</th>\n",
       "      <th>Total Protein</th>\n",
       "    </tr>\n",
       "  </thead>\n",
       "  <tbody>\n",
       "    <tr>\n",
       "      <th>0</th>\n",
       "      <td>7.1</td>\n",
       "      <td>28.1</td>\n",
       "      <td>64.5</td>\n",
       "      <td>0.32</td>\n",
       "      <td>71.0</td>\n",
       "      <td>74.0</td>\n",
       "      <td>1.69</td>\n",
       "      <td>73.0</td>\n",
       "    </tr>\n",
       "    <tr>\n",
       "      <th>1</th>\n",
       "      <td>5.0</td>\n",
       "      <td>28.5</td>\n",
       "      <td>61.4</td>\n",
       "      <td>0.55</td>\n",
       "      <td>62.0</td>\n",
       "      <td>68.0</td>\n",
       "      <td>1.78</td>\n",
       "      <td>71.0</td>\n",
       "    </tr>\n",
       "    <tr>\n",
       "      <th>2</th>\n",
       "      <td>3.2</td>\n",
       "      <td>58.9</td>\n",
       "      <td>35.0</td>\n",
       "      <td>0.29</td>\n",
       "      <td>71.0</td>\n",
       "      <td>64.0</td>\n",
       "      <td>4.29</td>\n",
       "      <td>77.0</td>\n",
       "    </tr>\n",
       "    <tr>\n",
       "      <th>3</th>\n",
       "      <td>4.3</td>\n",
       "      <td>21.4</td>\n",
       "      <td>65.1</td>\n",
       "      <td>0.64</td>\n",
       "      <td>71.0</td>\n",
       "      <td>86.0</td>\n",
       "      <td>1.73</td>\n",
       "      <td>67.0</td>\n",
       "    </tr>\n",
       "    <tr>\n",
       "      <th>4</th>\n",
       "      <td>4.3</td>\n",
       "      <td>39.4</td>\n",
       "      <td>55.7</td>\n",
       "      <td>0.24</td>\n",
       "      <td>71.0</td>\n",
       "      <td>69.0</td>\n",
       "      <td>2.58</td>\n",
       "      <td>72.0</td>\n",
       "    </tr>\n",
       "    <tr>\n",
       "      <th>...</th>\n",
       "      <td>...</td>\n",
       "      <td>...</td>\n",
       "      <td>...</td>\n",
       "      <td>...</td>\n",
       "      <td>...</td>\n",
       "      <td>...</td>\n",
       "      <td>...</td>\n",
       "      <td>...</td>\n",
       "    </tr>\n",
       "    <tr>\n",
       "      <th>227</th>\n",
       "      <td>6.4</td>\n",
       "      <td>40.5</td>\n",
       "      <td>49.1</td>\n",
       "      <td>0.25</td>\n",
       "      <td>97.0</td>\n",
       "      <td>72.0</td>\n",
       "      <td>1.26</td>\n",
       "      <td>68.0</td>\n",
       "    </tr>\n",
       "    <tr>\n",
       "      <th>228</th>\n",
       "      <td>8.2</td>\n",
       "      <td>25.4</td>\n",
       "      <td>64.7</td>\n",
       "      <td>0.50</td>\n",
       "      <td>71.0</td>\n",
       "      <td>97.0</td>\n",
       "      <td>2.23</td>\n",
       "      <td>70.0</td>\n",
       "    </tr>\n",
       "    <tr>\n",
       "      <th>229</th>\n",
       "      <td>4.3</td>\n",
       "      <td>38.2</td>\n",
       "      <td>53.8</td>\n",
       "      <td>0.20</td>\n",
       "      <td>88.0</td>\n",
       "      <td>67.0</td>\n",
       "      <td>1.99</td>\n",
       "      <td>70.0</td>\n",
       "    </tr>\n",
       "    <tr>\n",
       "      <th>230</th>\n",
       "      <td>4.6</td>\n",
       "      <td>24.5</td>\n",
       "      <td>67.2</td>\n",
       "      <td>0.41</td>\n",
       "      <td>71.0</td>\n",
       "      <td>78.0</td>\n",
       "      <td>1.47</td>\n",
       "      <td>68.0</td>\n",
       "    </tr>\n",
       "    <tr>\n",
       "      <th>231</th>\n",
       "      <td>4.6</td>\n",
       "      <td>24.3</td>\n",
       "      <td>59.9</td>\n",
       "      <td>0.38</td>\n",
       "      <td>88.0</td>\n",
       "      <td>54.0</td>\n",
       "      <td>1.07</td>\n",
       "      <td>68.0</td>\n",
       "    </tr>\n",
       "  </tbody>\n",
       "</table>\n",
       "<p>215 rows × 8 columns</p>\n",
       "</div>"
      ],
      "text/plain": [
       "     Urea Nitrogen  Lymphocytes (%)  Neutrophils (%)  Monocytes  \\\n",
       "0              7.1             28.1             64.5       0.32   \n",
       "1              5.0             28.5             61.4       0.55   \n",
       "2              3.2             58.9             35.0       0.29   \n",
       "3              4.3             21.4             65.1       0.64   \n",
       "4              4.3             39.4             55.7       0.24   \n",
       "..             ...              ...              ...        ...   \n",
       "227            6.4             40.5             49.1       0.25   \n",
       "228            8.2             25.4             64.7       0.50   \n",
       "229            4.3             38.2             53.8       0.20   \n",
       "230            4.6             24.5             67.2       0.41   \n",
       "231            4.6             24.3             59.9       0.38   \n",
       "\n",
       "     Creatinine (Rate Blanked)  Alkaline Phosphatase-QT  Lymphocytes  \\\n",
       "0                         71.0                     74.0         1.69   \n",
       "1                         62.0                     68.0         1.78   \n",
       "2                         71.0                     64.0         4.29   \n",
       "3                         71.0                     86.0         1.73   \n",
       "4                         71.0                     69.0         2.58   \n",
       "..                         ...                      ...          ...   \n",
       "227                       97.0                     72.0         1.26   \n",
       "228                       71.0                     97.0         2.23   \n",
       "229                       88.0                     67.0         1.99   \n",
       "230                       71.0                     78.0         1.47   \n",
       "231                       88.0                     54.0         1.07   \n",
       "\n",
       "     Total Protein  \n",
       "0             73.0  \n",
       "1             71.0  \n",
       "2             77.0  \n",
       "3             67.0  \n",
       "4             72.0  \n",
       "..             ...  \n",
       "227           68.0  \n",
       "228           70.0  \n",
       "229           70.0  \n",
       "230           68.0  \n",
       "231           68.0  \n",
       "\n",
       "[215 rows x 8 columns]"
      ]
     },
     "execution_count": 9,
     "metadata": {},
     "output_type": "execute_result"
    }
   ],
   "source": [
    "X"
   ]
  },
  {
   "cell_type": "code",
   "execution_count": null,
   "metadata": {
    "cell_id": "00006-0a8b651a-fca4-4657-a059-d55d0b512dc2",
    "deepnote_cell_type": "code",
    "deepnote_to_be_reexecuted": false,
    "execution_millis": 1262,
    "execution_start": 1614608293616,
    "source_hash": "e606d310",
    "tags": []
   },
   "outputs": [],
   "source": [
    "#Test-train split\n",
    "X_train,X_test,y_train,y_test = train_test_split(X,y,test_size=0.25,random_state=0)\n",
    "\n"
   ]
  },
  {
   "cell_type": "code",
   "execution_count": null,
   "metadata": {
    "cell_id": "00007-0272354d-8b21-412c-9e48-4241bc5c3bc6",
    "deepnote_cell_type": "code",
    "deepnote_to_be_reexecuted": false,
    "execution_millis": 59,
    "execution_start": 1614609026826,
    "source_hash": "f528e0cb",
    "tags": []
   },
   "outputs": [
    {
     "name": "stderr",
     "output_type": "stream",
     "text": [
      "/shared-libs/python3.7/py/lib/python3.7/site-packages/sklearn/linear_model/_logistic.py:765: ConvergenceWarning: lbfgs failed to converge (status=1):\n",
      "STOP: TOTAL NO. of ITERATIONS REACHED LIMIT.\n",
      "\n",
      "Increase the number of iterations (max_iter) or scale the data as shown in:\n",
      "    https://scikit-learn.org/stable/modules/preprocessing.html\n",
      "Please also refer to the documentation for alternative solver options:\n",
      "    https://scikit-learn.org/stable/modules/linear_model.html#logistic-regression\n",
      "  extra_warning_msg=_LOGISTIC_SOLVER_CONVERGENCE_MSG)\n"
     ]
    }
   ],
   "source": [
    "# Fitting w. bias term\n",
    "logistic_regression= LogisticRegression(fit_intercept=True)\n",
    "logistic_regression.fit(X_train,y_train)\n",
    "#Predicting on test set\n",
    "y_pred=logistic_regression.predict(X_test)\n",
    "y_pred_train=logistic_regression.predict(X_train)"
   ]
  },
  {
   "cell_type": "code",
   "execution_count": null,
   "metadata": {
    "cell_id": "00007-aba7d8e8-afa0-4c3e-a968-42e0f83d7bce",
    "deepnote_cell_type": "code",
    "deepnote_to_be_reexecuted": false,
    "execution_millis": 4058,
    "execution_start": 1614608773453,
    "source_hash": "6303a57a",
    "tags": []
   },
   "outputs": [
    {
     "name": "stdout",
     "output_type": "stream",
     "text": [
      "Accuracy:  0.037037037037037035\n"
     ]
    },
    {
     "data": {
      "image/png": "[encoded data removed]",
      "text/plain": [
       "<Figure size 432x288 with 2 Axes>"
      ]
     },
     "metadata": {
      "needs_background": "light"
     },
     "output_type": "display_data"
    }
   ],
   "source": [
    "#Printing confusion matrix and accuracy\n",
    "confusion_matrix = pd.crosstab(y_test, y_pred, rownames=['Actual'], colnames=['Predicted'])\n",
    "sn.heatmap(confusion_matrix, annot=True)\n",
    "\n",
    "print('Accuracy: ',metrics.accuracy_score(y_test, y_pred))\n",
    "plt.show()"
   ]
  },
  {
   "cell_type": "code",
   "execution_count": null,
   "metadata": {
    "cell_id": "00012-8a0c8ddb-39fc-4408-a74b-8c35bc52ed54",
    "deepnote_cell_type": "code",
    "deepnote_to_be_reexecuted": false,
    "execution_millis": 126,
    "execution_start": 1614609032738,
    "source_hash": "e682f012",
    "tags": []
   },
   "outputs": [
    {
     "data": {
      "text/plain": [
       "Text(0, 0.5, 'Predicted age')"
      ]
     },
     "execution_count": 23,
     "metadata": {},
     "output_type": "execute_result"
    },
    {
     "data": {
      "image/png": "[encoded data removed]",
      "text/plain": [
       "<Figure size 432x288 with 1 Axes>"
      ]
     },
     "metadata": {
      "needs_background": "light"
     },
     "output_type": "display_data"
    }
   ],
   "source": [
    "#Plotting predicted ages vs. actual for test set\n",
    "plt.plot(y_test,y_pred,'.',label='y vs. y pred')\n",
    "plt.xlabel('Age')\n",
    "plt.ylabel('Predicted age')\n",
    "\n"
   ]
  },
  {
   "cell_type": "code",
   "execution_count": null,
   "metadata": {
    "cell_id": "00013-d402a2e4-50ce-4f64-8d85-4658619c51ef",
    "deepnote_cell_type": "code",
    "deepnote_to_be_reexecuted": false,
    "execution_millis": 74,
    "execution_start": 1614609037041,
    "source_hash": "1565d09d",
    "tags": []
   },
   "outputs": [
    {
     "data": {
      "text/plain": [
       "Text(0, 0.5, 'Predicted age')"
      ]
     },
     "execution_count": 24,
     "metadata": {},
     "output_type": "execute_result"
    },
    {
     "data": {
      "image/png": "[encoded data removed]",
      "text/plain": [
       "<Figure size 432x288 with 1 Axes>"
      ]
     },
     "metadata": {
      "needs_background": "light"
     },
     "output_type": "display_data"
    }
   ],
   "source": [
    "#Plotting predicted ages vs. actual for train set\n",
    "plt.plot(y_train,y_pred_train,'.',label='y vs. y pred')\n",
    "plt.xlabel('Age')\n",
    "plt.ylabel('Predicted age')"
   ]
  },
  {
   "cell_type": "markdown",
   "metadata": {},
   "source": [
    "### Non-linear relationships"
   ]
  },
  {
   "cell_type": "code",
   "execution_count": null,
   "metadata": {
    "cell_id": "00021-dcac229e-d629-4cca-a558-0c63cf17d0bc",
    "deepnote_cell_type": "code",
    "deepnote_to_be_reexecuted": false,
    "execution_millis": 753,
    "execution_start": 1614611248093,
    "source_hash": "b6ef9d57",
    "tags": []
   },
   "outputs": [
    {
     "data": {
      "image/png": "[encoded data removed]",
      "text/plain": [
       "<Figure size 1080x720 with 8 Axes>"
      ]
     },
     "metadata": {
      "needs_background": "light"
     },
     "output_type": "display_data"
    }
   ],
   "source": [
    "\n",
    "fig =plt.figure(figsize=(15,10))\n",
    "fig.subplots_adjust(hspace=0.4, wspace=0.4)\n",
    "for i in range(2,10):\n",
    "    ax = fig.add_subplot(2, 4, (i-1))\n",
    "    k = blood_chem_df[order.index[i]]\n",
    "    ax.plot(y,k,'.',label=str(order.index[i]))\n",
    "    ax.set_xlabel('Age')\n",
    "    ax.set_ylabel(str(order.index[i]))\n",
    "\n",
    "\n",
    "\n",
    "\n"
   ]
  },
  {
   "cell_type": "markdown",
   "metadata": {
    "created_in_deepnote_cell": true,
    "deepnote_cell_type": "markdown",
    "tags": []
   },
   "source": [
    "<a style='text-decoration:none;line-height:16px;display:flex;color:#5B5B62;padding:10px;justify-content:end;' href='https://deepnote.com?utm_source=created-in-deepnote-cell&projectId=b924cd70-4ac3-479b-ad45-f79f559155a8' target=\"_blank\">\n",
    "<img style='display:inline;max-height:16px;margin:0px;margin-right:7.5px;' src='data:image/svg+xml;base64,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' > </img>\n",
    "Created in <span style='font-weight:600;margin-left:4px;'>Deepnote</span></a>"
   ]
  }
 ],
 "metadata": {
  "deepnote": {},
  "deepnote_execution_queue": [],
  "deepnote_notebook_id": "3618c9cd-f415-495d-b46e-f2c490e7d6ed",
  "kernelspec": {
   "display_name": "Python 3",
   "language": "python",
   "name": "python3"
  },
  "language_info": {
   "codemirror_mode": {
    "name": "ipython",
    "version": 3
   },
   "file_extension": ".py",
   "mimetype": "text/x-python",
   "name": "python",
   "nbconvert_exporter": "python",
   "pygments_lexer": "ipython3",
   "version": "3.8.3"
  }
 },
 "nbformat": 4,
 "nbformat_minor": 2
}
