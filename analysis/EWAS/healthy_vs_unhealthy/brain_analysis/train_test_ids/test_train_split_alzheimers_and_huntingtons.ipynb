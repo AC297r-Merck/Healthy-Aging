{
 "cells": [
  {
   "cell_type": "markdown",
   "metadata": {},
   "source": [
    "# Test/train split Alzheimer's and Huntington's\n",
    "\n",
    "- This notebook produced the test-train split IDs for the Alzheimer's and Huntington's brain tissue samples\n",
    "- The IDs are saved in the same directory as this notebook"
   ]
  },
  {
   "cell_type": "code",
   "execution_count": 1,
   "metadata": {},
   "outputs": [],
   "source": [
    "import _pickle as cPickle\n",
    "import pandas as pd\n",
    "import numpy as np\n",
    "from sklearn.model_selection import train_test_split"
   ]
  },
  {
   "cell_type": "code",
   "execution_count": 2,
   "metadata": {},
   "outputs": [],
   "source": [
    "#Read in data\n",
    "huntingtons_df=pd.read_csv('../huntingtons/hunt_brain_top_55.csv',index_col=0)  \n",
    "alzheimers_df=pd.read_csv('../alzheimers/alz_brain_top_55.csv',index_col=0)  \n",
    "#Drop ages outside range 20-100\n",
    "huntingtons_df=huntingtons_df.loc[huntingtons_df['AGE'] >= 20]\n",
    "huntingtons_df=huntingtons_df.loc[huntingtons_df['AGE'] <= 110]\n",
    "alzheimers_df=alzheimers_df.loc[alzheimers_df['AGE'] >= 20]\n",
    "alzheimers_df=alzheimers_df.loc[alzheimers_df['AGE'] <= 110]"
   ]
  },
  {
   "cell_type": "markdown",
   "metadata": {},
   "source": [
    "### 75/25 train-test split for Huntington's"
   ]
  },
  {
   "cell_type": "code",
   "execution_count": 3,
   "metadata": {},
   "outputs": [],
   "source": [
    "X_hunt = huntingtons_df.iloc[:, 1:]\n",
    "y_hunt = huntingtons_df[['AGE']]\n",
    "X_work_hunt, X_held_out_hunt, Y_work_hunt, Y_held_out_hunt = train_test_split(X_hunt, y_hunt, test_size=0.25, random_state = 4, shuffle=True)"
   ]
  },
  {
   "cell_type": "markdown",
   "metadata": {},
   "source": [
    "### Saving split IDs"
   ]
  },
  {
   "cell_type": "code",
   "execution_count": 4,
   "metadata": {},
   "outputs": [],
   "source": [
    "with open('brain_hunt_working_ids', 'wb') as fp:\n",
    "        cPickle.dump(list(X_work_hunt.index), fp)\n",
    "with open('brain_hunt_held_out_ids', 'wb') as fp:\n",
    "        cPickle.dump(list(X_held_out_hunt.index), fp)"
   ]
  },
  {
   "cell_type": "markdown",
   "metadata": {},
   "source": [
    "### 75/25 train-test split for Alzheimer's"
   ]
  },
  {
   "cell_type": "code",
   "execution_count": 5,
   "metadata": {},
   "outputs": [],
   "source": [
    "X_alz = alzheimers_df.iloc[:, 1:]\n",
    "y_alz = alzheimers_df[['AGE']]\n",
    "X_work_alz, X_held_out_alz, Y_work_alz, Y_held_out_alz = train_test_split(X_alz, y_alz, test_size=0.25, random_state = 4, shuffle=True)"
   ]
  },
  {
   "cell_type": "markdown",
   "metadata": {},
   "source": [
    "### Saving split IDs"
   ]
  },
  {
   "cell_type": "code",
   "execution_count": 6,
   "metadata": {},
   "outputs": [],
   "source": [
    "with open('brain_alz_working_ids', 'wb') as fp:\n",
    "        cPickle.dump(list(X_work_alz.index), fp)\n",
    "with open('brain_alz_held_out_ids', 'wb') as fp:\n",
    "        cPickle.dump(list(X_held_out_alz.index), fp)"
   ]
  }
 ],
 "metadata": {
  "kernelspec": {
   "display_name": "Python 3",
   "language": "python",
   "name": "python3"
  },
  "language_info": {
   "codemirror_mode": {
    "name": "ipython",
    "version": 3
   },
   "file_extension": ".py",
   "mimetype": "text/x-python",
   "name": "python",
   "nbconvert_exporter": "python",
   "pygments_lexer": "ipython3",
   "version": "3.8.3"
  }
 },
 "nbformat": 4,
 "nbformat_minor": 4
}
