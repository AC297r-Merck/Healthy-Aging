{
 "cells": [
  {
   "cell_type": "markdown",
   "metadata": {},
   "source": [
    "# Loading brain tissue data\n",
    "\n",
    "- This is a script to load in brain tissue data for Alzheimer's and Huntington's patients from the EWAS disease_methylation.txt file and using the metadata file sample_disease.txt.\n",
    "- Both of the files should be place in the directory above this script\n",
    "- All subsets of the data will also be placed in the same diretory as this script\n",
    "\n",
    "### This script produces:\n",
    "\n",
    "alzheimers/alz_brain_unhealthy_all.csv: csv with the unhealthy data for Alzheimer's patients, brain tissue and all CpG sites\n",
    "\n",
    "huntingtons/hunt_brain_unhealthy_all.csv: csv with the unhealthy data for Huntington's patients, brain tissue and all CpG sites\n",
    "\n"
   ]
  },
  {
   "cell_type": "code",
   "execution_count": 1,
   "metadata": {},
   "outputs": [],
   "source": [
    "import pandas as pd\n",
    "import numpy as np\n",
    "import matplotlib.pyplot as plt\n",
    "import io\n",
    "import seaborn as sns\n",
    "import _pickle as cPickle\n",
    "import csv"
   ]
  },
  {
   "cell_type": "markdown",
   "metadata": {},
   "source": [
    "### Getting IDs, diseases and tissues"
   ]
  },
  {
   "cell_type": "code",
   "execution_count": 2,
   "metadata": {},
   "outputs": [
    {
     "data": {
      "text/html": [
       "<div>\n",
       "<style scoped>\n",
       "    .dataframe tbody tr th:only-of-type {\n",
       "        vertical-align: middle;\n",
       "    }\n",
       "\n",
       "    .dataframe tbody tr th {\n",
       "        vertical-align: top;\n",
       "    }\n",
       "\n",
       "    .dataframe thead th {\n",
       "        text-align: right;\n",
       "    }\n",
       "</style>\n",
       "<table border=\"1\" class=\"dataframe\">\n",
       "  <thead>\n",
       "    <tr style=\"text-align: right;\">\n",
       "      <th>sample_id</th>\n",
       "      <th>disease</th>\n",
       "      <th>tissue</th>\n",
       "    </tr>\n",
       "  </thead>\n",
       "  <tbody>\n",
       "    <tr>\n",
       "      <th>GSM1068826</th>\n",
       "      <td>Alzheimer's disease</td>\n",
       "      <td>brain - cerebellum</td>\n",
       "    </tr>\n",
       "    <tr>\n",
       "      <th>GSM1068827</th>\n",
       "      <td>Alzheimer's disease</td>\n",
       "      <td>brain - cerebellum</td>\n",
       "    </tr>\n",
       "    <tr>\n",
       "      <th>GSM1068829</th>\n",
       "      <td>Alzheimer's disease</td>\n",
       "      <td>brain - cerebellum</td>\n",
       "    </tr>\n",
       "    <tr>\n",
       "      <th>GSM1068832</th>\n",
       "      <td>Alzheimer's disease</td>\n",
       "      <td>brain - cerebellum</td>\n",
       "    </tr>\n",
       "    <tr>\n",
       "      <th>GSM1068833</th>\n",
       "      <td>Alzheimer's disease</td>\n",
       "      <td>brain - cerebellum</td>\n",
       "    </tr>\n",
       "    <tr>\n",
       "      <th>...</th>\n",
       "      <td>...</td>\n",
       "      <td>...</td>\n",
       "    </tr>\n",
       "    <tr>\n",
       "      <th>GSM2190544.1</th>\n",
       "      <td>Ulcerative colitis</td>\n",
       "      <td>whole blood</td>\n",
       "    </tr>\n",
       "    <tr>\n",
       "      <th>GSM1871195</th>\n",
       "      <td>Ulcerative colitis</td>\n",
       "      <td>whole blood</td>\n",
       "    </tr>\n",
       "    <tr>\n",
       "      <th>GSM990041.1</th>\n",
       "      <td>Ulcerative colitis</td>\n",
       "      <td>whole blood</td>\n",
       "    </tr>\n",
       "    <tr>\n",
       "      <th>GSM1506396</th>\n",
       "      <td>Ulcerative colitis</td>\n",
       "      <td>whole blood</td>\n",
       "    </tr>\n",
       "    <tr>\n",
       "      <th>GSM1886655</th>\n",
       "      <td>Ulcerative colitis</td>\n",
       "      <td>whole blood</td>\n",
       "    </tr>\n",
       "  </tbody>\n",
       "</table>\n",
       "<p>14501 rows × 2 columns</p>\n",
       "</div>"
      ],
      "text/plain": [
       "sample_id                 disease              tissue\n",
       "GSM1068826    Alzheimer's disease  brain - cerebellum\n",
       "GSM1068827    Alzheimer's disease  brain - cerebellum\n",
       "GSM1068829    Alzheimer's disease  brain - cerebellum\n",
       "GSM1068832    Alzheimer's disease  brain - cerebellum\n",
       "GSM1068833    Alzheimer's disease  brain - cerebellum\n",
       "...                           ...                 ...\n",
       "GSM2190544.1   Ulcerative colitis         whole blood\n",
       "GSM1871195     Ulcerative colitis         whole blood\n",
       "GSM990041.1    Ulcerative colitis         whole blood\n",
       "GSM1506396     Ulcerative colitis         whole blood\n",
       "GSM1886655     Ulcerative colitis         whole blood\n",
       "\n",
       "[14501 rows x 2 columns]"
      ]
     },
     "execution_count": 2,
     "metadata": {},
     "output_type": "execute_result"
    }
   ],
   "source": [
    "#Set path to full disease dataset\n",
    "\n",
    "data_location = '../disease_methylation.txt'\n",
    "df = pd.read_csv(data_location, sep='\\t',nrows=2,index_col=0)\n",
    "unhealthy_meta=df.T\n",
    "unhealthy_meta"
   ]
  },
  {
   "cell_type": "code",
   "execution_count": 3,
   "metadata": {},
   "outputs": [],
   "source": [
    "#Getting just unhealthy IDs\n",
    "unhealthy_ids=[]\n",
    "#Open metadata file\n",
    "with open(r'../sample_disease.txt') as f:\n",
    "    for row in f:\n",
    "        row=row.split()\n",
    "        #If sample doesn't come from the control group append ID to unhealthy_ids list\n",
    "        if str(row[-3][1:-1])!='control':\n",
    "            unhealthy_ids.append(row[0][1:-1])\n"
   ]
  },
  {
   "cell_type": "code",
   "execution_count": 4,
   "metadata": {},
   "outputs": [],
   "source": [
    "#Remove 'sample_id' from list\n",
    "unhealthy_ids=unhealthy_ids[1:]"
   ]
  },
  {
   "cell_type": "markdown",
   "metadata": {},
   "source": [
    "### Getting the brain sample IDs"
   ]
  },
  {
   "cell_type": "code",
   "execution_count": 5,
   "metadata": {},
   "outputs": [],
   "source": [
    "#IDs for samples from Alzheimer's and Huntington's cohorts and any brain tissue\n",
    "id_alzheimers_brain=[]\n",
    "id_huntingtons_brain=[]\n",
    "\n",
    "for i in unhealthy_ids:\n",
    "    if unhealthy_meta.loc[i]['disease']==\"Alzheimer's disease\" and str(unhealthy_meta.loc[i]['tissue'])[0:5]==\"brain\":\n",
    "        id_alzheimers_brain.append(i)\n",
    "        \n",
    "    if unhealthy_meta.loc[i]['disease']==\"Huntington's disease\" and str(unhealthy_meta.loc[i]['tissue'])[0:5]==\"brain\":\n",
    "        id_huntingtons_brain.append(i)\n",
    "        "
   ]
  },
  {
   "cell_type": "markdown",
   "metadata": {},
   "source": [
    "### Reading in ages"
   ]
  },
  {
   "cell_type": "code",
   "execution_count": 6,
   "metadata": {},
   "outputs": [
    {
     "data": {
      "text/html": [
       "<div>\n",
       "<style scoped>\n",
       "    .dataframe tbody tr th:only-of-type {\n",
       "        vertical-align: middle;\n",
       "    }\n",
       "\n",
       "    .dataframe tbody tr th {\n",
       "        vertical-align: top;\n",
       "    }\n",
       "\n",
       "    .dataframe thead th {\n",
       "        text-align: right;\n",
       "    }\n",
       "</style>\n",
       "<table border=\"1\" class=\"dataframe\">\n",
       "  <thead>\n",
       "    <tr style=\"text-align: right;\">\n",
       "      <th></th>\n",
       "      <th>age</th>\n",
       "    </tr>\n",
       "    <tr>\n",
       "      <th>id</th>\n",
       "      <th></th>\n",
       "    </tr>\n",
       "  </thead>\n",
       "  <tbody>\n",
       "    <tr>\n",
       "      <th>GSM1068826</th>\n",
       "      <td>88</td>\n",
       "    </tr>\n",
       "    <tr>\n",
       "      <th>GSM1068827</th>\n",
       "      <td>92</td>\n",
       "    </tr>\n",
       "    <tr>\n",
       "      <th>GSM1068829</th>\n",
       "      <td>93</td>\n",
       "    </tr>\n",
       "    <tr>\n",
       "      <th>GSM1068832</th>\n",
       "      <td>96</td>\n",
       "    </tr>\n",
       "    <tr>\n",
       "      <th>GSM1068833</th>\n",
       "      <td>86</td>\n",
       "    </tr>\n",
       "    <tr>\n",
       "      <th>...</th>\n",
       "      <td>...</td>\n",
       "    </tr>\n",
       "    <tr>\n",
       "      <th>GSM2190544.1</th>\n",
       "      <td>0</td>\n",
       "    </tr>\n",
       "    <tr>\n",
       "      <th>GSM1871195</th>\n",
       "      <td>74.4</td>\n",
       "    </tr>\n",
       "    <tr>\n",
       "      <th>GSM990041.1</th>\n",
       "      <td>69</td>\n",
       "    </tr>\n",
       "    <tr>\n",
       "      <th>GSM1506396</th>\n",
       "      <td>34</td>\n",
       "    </tr>\n",
       "    <tr>\n",
       "      <th>GSM1886655</th>\n",
       "      <td>15</td>\n",
       "    </tr>\n",
       "  </tbody>\n",
       "</table>\n",
       "<p>14501 rows × 1 columns</p>\n",
       "</div>"
      ],
      "text/plain": [
       "               age\n",
       "id                \n",
       "GSM1068826      88\n",
       "GSM1068827      92\n",
       "GSM1068829      93\n",
       "GSM1068832      96\n",
       "GSM1068833      86\n",
       "...            ...\n",
       "GSM2190544.1     0\n",
       "GSM1871195    74.4\n",
       "GSM990041.1     69\n",
       "GSM1506396      34\n",
       "GSM1886655      15\n",
       "\n",
       "[14501 rows x 1 columns]"
      ]
     },
     "execution_count": 6,
     "metadata": {},
     "output_type": "execute_result"
    }
   ],
   "source": [
    "#Producing a pandas df of the age in the unhealthy cohort\n",
    "meta = []\n",
    "\n",
    "with open(r'../sample_disease.txt') as f:\n",
    "    for row in f:\n",
    "        meta.append(row[0:50])\n",
    "    \n",
    "meta_2=[]\n",
    "for i in meta:\n",
    "    meta_2.append(i.split())\n",
    "    \n",
    "ages=[]\n",
    "df_id_ages=[]\n",
    "df_age=[]\n",
    "for i in range(1,len(meta_2)):\n",
    "    p=meta_2[i]\n",
    "    v=[]\n",
    "    v.append(p[0][1:-1])\n",
    "    v.append(p[2])\n",
    "    df_id_ages.append(p[0][1:-1])\n",
    "    df_age.append(p[2])\n",
    "    ages.append(v)\n",
    "    \n",
    "df_ages = pd.DataFrame({'id': df_id_ages,\n",
    "                   'age': df_age,})\n",
    "\n",
    "df_ages=df_ages.set_index('id')\n",
    "df_ages"
   ]
  },
  {
   "cell_type": "markdown",
   "metadata": {},
   "source": [
    "### Reading in all Alzheimer's brain data"
   ]
  },
  {
   "cell_type": "code",
   "execution_count": null,
   "metadata": {},
   "outputs": [],
   "source": [
    "col=['sample_id']+id_alzheimers_brain\n",
    "alz_brain_all = pd.read_csv('../disease_methylation.txt', delimiter = '\\t', usecols=col, low_memory=False)"
   ]
  },
  {
   "cell_type": "code",
   "execution_count": null,
   "metadata": {},
   "outputs": [],
   "source": [
    "### Adding ages from metadata"
   ]
  },
  {
   "cell_type": "code",
   "execution_count": null,
   "metadata": {},
   "outputs": [],
   "source": [
    "alz_brain_all=alz_brain_all.set_index('sample_id')\n",
    "alz_brain_all=alz_brain_all.T\n",
    "# Adding age column\n",
    "alz_brain_all['AGE']=np.zeros(len(id_alzheimers_brain))\n",
    "cols = list(alz_brain_all.columns.values)\n",
    "# Reordering columns\n",
    "cols=cols[0:-1]\n",
    "alz_brain_all = alz_brain_all[['AGE']+cols]\n",
    "alz_brain_all\n"
   ]
  },
  {
   "cell_type": "code",
   "execution_count": null,
   "metadata": {},
   "outputs": [],
   "source": [
    "# For each ID add age to datafram - if no age given, drop sample\n",
    "for i in id_alzheimers_brain:\n",
    "    try:\n",
    "        try:\n",
    "            alz_brain_all.loc[i]['AGE']=float(df_ages.loc[i]['age'])\n",
    "        except ValueError:\n",
    "            alz_brain_all=alz_brain_all.drop([i])\n",
    "    except KeyError:\n",
    "        alz_brain_all=alz_brain_all.drop([i])\n"
   ]
  },
  {
   "cell_type": "code",
   "execution_count": null,
   "metadata": {},
   "outputs": [],
   "source": [
    "#Saving to alz_brain_unhealthy_all.csv\n",
    "alz_brain_all.to_csv('alzheimers/alz_brain_unhealthy_all.csv', encoding='utf-8', index=True)"
   ]
  },
  {
   "cell_type": "markdown",
   "metadata": {},
   "source": [
    "### Reading in all Huntington's brain data"
   ]
  },
  {
   "cell_type": "code",
   "execution_count": null,
   "metadata": {},
   "outputs": [],
   "source": [
    "col_hunt=['sample_id']+id_huntingtons_brain\n",
    "hunt_brain_all = pd.read_csv('../disease_methylation.txt', delimiter = '\\t', usecols=col_hunt, low_memory=False)\n",
    "hunt_brain_all=hunt_brain_all.set_index('sample_id')\n",
    "hunt_brain_all=hunt_brain_all.T\n"
   ]
  },
  {
   "cell_type": "code",
   "execution_count": null,
   "metadata": {},
   "outputs": [],
   "source": [
    "#Adding ages\n",
    "hunt_brain_all['AGE']=np.zeros(len(id_huntingtons_brain))\n",
    "cols = list(hunt_brain_all.columns.values)\n",
    "cols=cols[0:-1]\n",
    "hunt_brain_all = hunt_brain_all[['AGE']+cols]\n"
   ]
  },
  {
   "cell_type": "code",
   "execution_count": null,
   "metadata": {},
   "outputs": [],
   "source": [
    "# For each ID add age to datafram - if no age given, drop sample\n",
    "for i in id_huntingtons_brain:\n",
    "    try:\n",
    "        try:\n",
    "            hunt_brain_all.loc[i]['AGE']=float(df_ages.loc[i]['age'])\n",
    "        except ValueError:\n",
    "            hunt_brain_all=hunt_brain_all.drop([i])\n",
    "    except KeyError:\n",
    "        hunt_brain_all=hunt_brain_all.drop([i])"
   ]
  },
  {
   "cell_type": "code",
   "execution_count": null,
   "metadata": {},
   "outputs": [],
   "source": [
    "#Saving to hunt_brain_unhealthy_all.csv\n",
    "hunt_brain_all.to_csv('huntingtons/hunt_brain_unhealthy_all.csv', encoding='utf-8', index=True)"
   ]
  }
 ],
 "metadata": {
  "kernelspec": {
   "display_name": "Python 3",
   "language": "python",
   "name": "python3"
  },
  "language_info": {
   "codemirror_mode": {
    "name": "ipython",
    "version": 3
   },
   "file_extension": ".py",
   "mimetype": "text/x-python",
   "name": "python",
   "nbconvert_exporter": "python",
   "pygments_lexer": "ipython3",
   "version": "3.8.3"
  }
 },
 "nbformat": 4,
 "nbformat_minor": 5
}
