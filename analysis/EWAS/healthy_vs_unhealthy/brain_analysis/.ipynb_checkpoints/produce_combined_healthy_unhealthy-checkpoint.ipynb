{
 "cells": [
  {
   "cell_type": "markdown",
   "metadata": {},
   "source": [
    "# Combined healthy and unhealthy\n",
    "\n",
    "- This notebook produces a combined df of HC, Alzheimer's and Huntington's data for the CpG sites that are in the top 100 (from XGBoost ranking) for each of HC, Alzheimer's and Huntington's (but are also present in the dataframes for the other cohorts). There are 107 of these, saved in combined_cpgs file\n",
    "\n",
    "- This cut of the data is saved in classification/combined_healthy_unhealthy_107_cpgs.csv\n",
    "- This includes a column for the healthy status with 0: healthy, 1: Alzheimer's and 2: Huntington's\n",
    "\n",
    "- This notebook produces a combined lost of HC and Alzheimer's CpG sites that are in the top 100 (from XGBoost ranking) for either one or both of HC and Alzheimer's (but are also present in the dataframes for the other cohort). - - These are saved in combined_cpgs_healthy_and_alz"
   ]
  },
  {
   "cell_type": "code",
   "execution_count": 1,
   "metadata": {},
   "outputs": [],
   "source": [
    "import numpy as np\n",
    "import matplotlib.pyplot as plt\n",
    "import pandas as pd\n",
    "import _pickle as cPickle\n",
    "import csv\n"
   ]
  },
  {
   "cell_type": "code",
   "execution_count": 2,
   "metadata": {},
   "outputs": [],
   "source": [
    "#Getting XGBoost ranking\n",
    "with open(r\"alzheimers/xgb_alz_brain_cpgs\", \"rb\") as input_file:\n",
    "    alz_brain_top_cpgs = cPickle.load(input_file)\n",
    "xgb_alz_brain_top_cpgs=list(alz_brain_top_cpgs)\n",
    "\n",
    "with open(r\"huntingtons/xgb_hunt_brain_cpgs\", \"rb\") as input_file:\n",
    "    hunt_brain_top_cpgs = cPickle.load(input_file)\n",
    "xgb_hunt_brain_top_cpgs=list(hunt_brain_top_cpgs)\n",
    "\n",
    "with open(r\"healthy/cpgs_XGboost_brain_ranked\", \"rb\") as input_file:\n",
    "    xgb_hc_brain_cpgs = cPickle.load(input_file)\n",
    "xgb_hc_brain_cpgs=list(xgb_hc_brain_cpgs)"
   ]
  },
  {
   "cell_type": "code",
   "execution_count": 3,
   "metadata": {},
   "outputs": [
    {
     "name": "stdout",
     "output_type": "stream",
     "text": [
      "Features in top 100 for all 3\n",
      "| cg11236550  Healthy =  3  Alz =  4  Hunt =  16 |\n",
      "| cg17104258  Healthy =  18  Alz =  25  Hunt =  74 |\n",
      "| cg15393490  Healthy =  25  Alz =  6  Hunt =  41 |\n",
      "| cg13327545  Healthy =  26  Alz =  3  Hunt =  3 |\n"
     ]
    }
   ],
   "source": [
    "print('Features in top 100 for all 3')\n",
    "for i in xgb_hc_brain_cpgs[0:100]:    \n",
    "    if i in xgb_hunt_brain_top_cpgs[0:100] and i in xgb_alz_brain_top_cpgs[0:100]:       \n",
    "        print('|',i,' Healthy = ',xgb_hc_brain_cpgs.index(i),' Alz = ',xgb_alz_brain_top_cpgs.index(i),' Hunt = ',xgb_hunt_brain_top_cpgs.index(i),'|')\n"
   ]
  },
  {
   "cell_type": "code",
   "execution_count": 5,
   "metadata": {},
   "outputs": [
    {
     "name": "stdout",
     "output_type": "stream",
     "text": [
      "| cg01066472  Healthy =  0  Alz =  0  Hunt =  149780 |\n",
      "| cg18514820  Healthy =  1  Alz =  2  Hunt =  323 |\n",
      "| cg21182694  Healthy =  2  Alz =  59  Hunt =  104 |\n",
      "| cg11236550  Healthy =  3  Alz =  4  Hunt =  16 |\n",
      "| cg24369989  Healthy =  4  Alz =  3824  Hunt =  4 |\n",
      "| cg15731815  Healthy =  6  Alz =  64  Hunt =  929 |\n",
      "| cg04845871  Healthy =  8  Alz =  126  Hunt =  312 |\n",
      "| cg15341124  Healthy =  9  Alz =  974  Hunt =  5 |\n",
      "| cg16367511  Healthy =  11  Alz =  116  Hunt =  262 |\n",
      "| cg18008766  Healthy =  12  Alz =  105571  Hunt =  106514 |\n",
      "| cg11018337  Healthy =  15  Alz =  576  Hunt =  12 |\n",
      "| cg23352942  Healthy =  16  Alz =  1437  Hunt =  505 |\n",
      "| cg17104258  Healthy =  18  Alz =  25  Hunt =  74 |\n",
      "| cg06022942  Healthy =  19  Alz =  104  Hunt =  18 |\n",
      "| cg02746869  Healthy =  24  Alz =  350  Hunt =  2683 |\n",
      "| cg15393490  Healthy =  25  Alz =  6  Hunt =  41 |\n",
      "| cg13327545  Healthy =  26  Alz =  3  Hunt =  3 |\n",
      "| cg04739123  Healthy =  27  Alz =  524  Hunt =  158 |\n",
      "| cg26118408  Healthy =  29  Alz =  204620  Hunt =  141 |\n",
      "| cg13806070  Healthy =  30  Alz =  657  Hunt =  2099 |\n",
      "| cg19622662  Healthy =  32  Alz =  243  Hunt =  24 |\n",
      "| cg00807959  Healthy =  36  Alz =  9789  Hunt =  1357 |\n",
      "| cg04834794  Healthy =  37  Alz =  4096  Hunt =  13 |\n",
      "| cg17179314  Healthy =  38  Alz =  4260  Hunt =  59 |\n",
      "| cg12765028  Healthy =  39  Alz =  127795  Hunt =  63 |\n",
      "| cg07907745  Healthy =  40  Alz =  4373  Hunt =  51 |\n",
      "| cg04897644  Healthy =  41  Alz =  27  Hunt =  5441 |\n",
      "| cg10533159  Healthy =  42  Alz =  27526  Hunt =  29476 |\n",
      "| cg24079702  Healthy =  43  Alz =  567  Hunt =  21 |\n",
      "| cg23091758  Healthy =  44  Alz =  211576  Hunt =  64 |\n",
      "| cg00927231  Healthy =  45  Alz =  902  Hunt =  443 |\n",
      "| cg00303378  Healthy =  47  Alz =  458  Hunt =  87 |\n",
      "| cg08715791  Healthy =  48  Alz =  224314  Hunt =  4729 |\n",
      "| cg07303143  Healthy =  50  Alz =  64303  Hunt =  154 |\n",
      "| cg23606718  Healthy =  52  Alz =  1075  Hunt =  53 |\n",
      "| cg17117277  Healthy =  53  Alz =  8678  Hunt =  190 |\n",
      "| cg11823178  Healthy =  59  Alz =  210746  Hunt =  75 |\n",
      "| cg17801546  Healthy =  60  Alz =  57  Hunt =  119 |\n",
      "| cg19451698  Healthy =  62  Alz =  176  Hunt =  29 |\n",
      "| cg26102082  Healthy =  63  Alz =  42510  Hunt =  1127 |\n",
      "| cg15907146  Healthy =  65  Alz =  5418  Hunt =  141987 |\n",
      "| cg26830108  Healthy =  66  Alz =  6221  Hunt =  97 |\n",
      "| cg22454769  Healthy =  68  Alz =  1448  Hunt =  2564 |\n",
      "| cg24668570  Healthy =  71  Alz =  52  Hunt =  219654 |\n",
      "| cg04347477  Healthy =  75  Alz =  217262  Hunt =  328 |\n",
      "| cg06829968  Healthy =  76  Alz =  3601  Hunt =  173383 |\n",
      "| cg23595055  Healthy =  77  Alz =  101325  Hunt =  112 |\n",
      "| cg04098194  Healthy =  78  Alz =  741  Hunt =  5589 |\n",
      "| cg15463803  Healthy =  79  Alz =  2661  Hunt =  127269 |\n",
      "| cg24441324  Healthy =  80  Alz =  146804  Hunt =  146929 |\n",
      "| cg14911690  Healthy =  81  Alz =  36246  Hunt =  19 |\n",
      "| cg07227926  Healthy =  83  Alz =  217104  Hunt =  215509 |\n",
      "| cg25090514  Healthy =  85  Alz =  408  Hunt =  1206 |\n",
      "| cg23995914  Healthy =  86  Alz =  125544  Hunt =  17 |\n",
      "| ch.1.169608016R  Healthy =  89  Alz =  87882  Hunt =  86915 |\n",
      "| cg03169557  Healthy =  96  Alz =  130  Hunt =  196010 |\n",
      "| cg16875032  Healthy =  125  Alz =  1  Hunt =  208888 |\n",
      "| cg20144008  Healthy =  149  Alz =  7  Hunt =  157800 |\n",
      "| cg25139493  Healthy =  237  Alz =  9  Hunt =  98032 |\n",
      "| cg00760935  Healthy =  619  Alz =  11  Hunt =  78596 |\n",
      "| cg01812045  Healthy =  212  Alz =  13  Hunt =  92957 |\n",
      "| cg23901918  Healthy =  1296  Alz =  17  Hunt =  219449 |\n",
      "| cg01684881  Healthy =  1241  Alz =  19  Hunt =  4188 |\n",
      "| cg03664992  Healthy =  1283  Alz =  20  Hunt =  14785 |\n",
      "| cg14020846  Healthy =  1073  Alz =  24  Hunt =  156 |\n",
      "| cg13407463  Healthy =  366  Alz =  26  Hunt =  197952 |\n",
      "| cg13954457  Healthy =  1117  Alz =  30  Hunt =  119752 |\n",
      "| cg07544187  Healthy =  143  Alz =  35  Hunt =  0 |\n",
      "| cg23813012  Healthy =  150  Alz =  41  Hunt =  6 |\n",
      "| cg11705975  Healthy =  108  Alz =  45  Hunt =  22 |\n",
      "| cg02297043  Healthy =  470  Alz =  51  Hunt =  16636 |\n",
      "| cg11071401  Healthy =  154  Alz =  69  Hunt =  54 |\n",
      "| cg26600753  Healthy =  1187  Alz =  70  Hunt =  118487 |\n",
      "| cg03143886  Healthy =  151  Alz =  81  Hunt =  43502 |\n",
      "| cg27009691  Healthy =  1779  Alz =  87  Hunt =  157124 |\n",
      "| cg23368787  Healthy =  251  Alz =  95  Hunt =  49 |\n",
      "| cg06782035  Healthy =  1167  Alz =  96  Hunt =  2447 |\n",
      "| cg06645033  Healthy =  115  Alz =  155884  Hunt =  2 |\n",
      "| cg10177394  Healthy =  1699  Alz =  136436  Hunt =  7 |\n",
      "| cg16419235  Healthy =  135  Alz =  207856  Hunt =  8 |\n",
      "| cg10804656  Healthy =  181  Alz =  5484  Hunt =  9 |\n",
      "| cg00292135  Healthy =  489  Alz =  131988  Hunt =  15 |\n",
      "| cg12175729  Healthy =  907  Alz =  210650  Hunt =  20 |\n",
      "| cg05167251  Healthy =  1771  Alz =  165870  Hunt =  23 |\n",
      "| cg05213896  Healthy =  128  Alz =  46090  Hunt =  28 |\n",
      "| cg18875357  Healthy =  1546  Alz =  170026  Hunt =  33 |\n",
      "| cg03545227  Healthy =  720  Alz =  92824  Hunt =  34 |\n",
      "| cg02560186  Healthy =  120  Alz =  7360  Hunt =  36 |\n",
      "| cg23746497  Healthy =  239  Alz =  140123  Hunt =  37 |\n",
      "| cg07584066  Healthy =  580  Alz =  1411  Hunt =  38 |\n",
      "| cg12100751  Healthy =  111  Alz =  144865  Hunt =  39 |\n",
      "| cg08160331  Healthy =  130  Alz =  224368  Hunt =  42 |\n",
      "| cg16703882  Healthy =  110  Alz =  160339  Hunt =  44 |\n",
      "| cg19416570  Healthy =  102  Alz =  614  Hunt =  46 |\n",
      "| cg14674720  Healthy =  1721  Alz =  101841  Hunt =  48 |\n",
      "| cg14507337  Healthy =  290  Alz =  172838  Hunt =  52 |\n",
      "| cg02375320  Healthy =  104  Alz =  1095  Hunt =  66 |\n",
      "| cg13933080  Healthy =  225  Alz =  2633  Hunt =  67 |\n",
      "| cg18468088  Healthy =  929  Alz =  2699  Hunt =  70 |\n",
      "| cg14611683  Healthy =  437  Alz =  859  Hunt =  73 |\n",
      "| cg03422911  Healthy =  1032  Alz =  19216  Hunt =  81 |\n",
      "| cg16485682  Healthy =  201  Alz =  41505  Hunt =  83 |\n",
      "| cg18247055  Healthy =  1997  Alz =  220128  Hunt =  84 |\n",
      "| cg24851854  Healthy =  2031  Alz =  145987  Hunt =  85 |\n",
      "| cg02891686  Healthy =  176  Alz =  125023  Hunt =  93 |\n",
      "| cg18795809  Healthy =  2061  Alz =  128779  Hunt =  95 |\n",
      "| cg05318142  Healthy =  140  Alz =  111137  Hunt =  99 |\n"
     ]
    }
   ],
   "source": [
    "comb=[]\n",
    "for i in xgb_hc_brain_cpgs[0:100]:    \n",
    "    if i in xgb_alz_brain_top_cpgs and i in xgb_hunt_brain_top_cpgs and i not in comb:       \n",
    "        comb.append(i)\n",
    "\n",
    "for i in xgb_alz_brain_top_cpgs[0:100]:    \n",
    "    if i in xgb_hunt_brain_top_cpgs and i in xgb_hc_brain_cpgs and i not in comb:       \n",
    "        comb.append(i)\n",
    "for i in xgb_hunt_brain_top_cpgs[0:100]:    \n",
    "    if i in xgb_alz_brain_top_cpgs and i in xgb_hc_brain_cpgs and i not in comb:       \n",
    "        comb.append(i)\n",
    "        \n",
    "for i in comb:\n",
    "    print('|',i,' Healthy = ',xgb_hc_brain_cpgs.index(i),' Alz = ',xgb_alz_brain_top_cpgs.index(i),' Hunt = ',xgb_hunt_brain_top_cpgs.index(i),'|')"
   ]
  },
  {
   "cell_type": "code",
   "execution_count": 7,
   "metadata": {},
   "outputs": [
    {
     "name": "stdout",
     "output_type": "stream",
     "text": [
      "107\n"
     ]
    }
   ],
   "source": [
    "print(len(comb))\n",
    "with open('combined_cpgs', 'wb') as fp:\n",
    "        cPickle.dump(comb, fp)"
   ]
  },
  {
   "cell_type": "code",
   "execution_count": 8,
   "metadata": {},
   "outputs": [
    {
     "name": "stdout",
     "output_type": "stream",
     "text": [
      "| cg01066472  Healthy =  0  Alz =  0 |\n",
      "| cg18514820  Healthy =  1  Alz =  2 |\n",
      "| cg21182694  Healthy =  2  Alz =  59 |\n",
      "| cg11236550  Healthy =  3  Alz =  4 |\n",
      "| cg24369989  Healthy =  4  Alz =  3824 |\n",
      "| cg15731815  Healthy =  6  Alz =  64 |\n",
      "| cg04845871  Healthy =  8  Alz =  126 |\n",
      "| cg15341124  Healthy =  9  Alz =  974 |\n",
      "| cg16367511  Healthy =  11  Alz =  116 |\n",
      "| cg18008766  Healthy =  12  Alz =  105571 |\n",
      "| cg11018337  Healthy =  15  Alz =  576 |\n",
      "| cg23352942  Healthy =  16  Alz =  1437 |\n",
      "| cg17104258  Healthy =  18  Alz =  25 |\n",
      "| cg06022942  Healthy =  19  Alz =  104 |\n",
      "| cg02746869  Healthy =  24  Alz =  350 |\n",
      "| cg15393490  Healthy =  25  Alz =  6 |\n",
      "| cg13327545  Healthy =  26  Alz =  3 |\n",
      "| cg04739123  Healthy =  27  Alz =  524 |\n",
      "| cg26118408  Healthy =  29  Alz =  204620 |\n",
      "| cg13806070  Healthy =  30  Alz =  657 |\n",
      "| cg19622662  Healthy =  32  Alz =  243 |\n",
      "| cg00807959  Healthy =  36  Alz =  9789 |\n",
      "| cg04834794  Healthy =  37  Alz =  4096 |\n",
      "| cg17179314  Healthy =  38  Alz =  4260 |\n",
      "| cg12765028  Healthy =  39  Alz =  127795 |\n",
      "| cg07907745  Healthy =  40  Alz =  4373 |\n",
      "| cg04897644  Healthy =  41  Alz =  27 |\n",
      "| cg10533159  Healthy =  42  Alz =  27526 |\n",
      "| cg24079702  Healthy =  43  Alz =  567 |\n",
      "| cg23091758  Healthy =  44  Alz =  211576 |\n",
      "| cg00927231  Healthy =  45  Alz =  902 |\n",
      "| cg00303378  Healthy =  47  Alz =  458 |\n",
      "| cg08715791  Healthy =  48  Alz =  224314 |\n",
      "| cg07303143  Healthy =  50  Alz =  64303 |\n",
      "| cg23606718  Healthy =  52  Alz =  1075 |\n",
      "| cg17117277  Healthy =  53  Alz =  8678 |\n",
      "| cg11823178  Healthy =  59  Alz =  210746 |\n",
      "| cg17801546  Healthy =  60  Alz =  57 |\n",
      "| cg19451698  Healthy =  62  Alz =  176 |\n",
      "| cg26102082  Healthy =  63  Alz =  42510 |\n",
      "| cg15907146  Healthy =  65  Alz =  5418 |\n",
      "| cg26830108  Healthy =  66  Alz =  6221 |\n",
      "| cg22454769  Healthy =  68  Alz =  1448 |\n",
      "| cg24668570  Healthy =  71  Alz =  52 |\n",
      "| cg04347477  Healthy =  75  Alz =  217262 |\n",
      "| cg06829968  Healthy =  76  Alz =  3601 |\n",
      "| cg23595055  Healthy =  77  Alz =  101325 |\n",
      "| cg04098194  Healthy =  78  Alz =  741 |\n",
      "| cg15463803  Healthy =  79  Alz =  2661 |\n",
      "| cg24441324  Healthy =  80  Alz =  146804 |\n",
      "| cg14911690  Healthy =  81  Alz =  36246 |\n",
      "| cg07227926  Healthy =  83  Alz =  217104 |\n",
      "| cg25090514  Healthy =  85  Alz =  408 |\n",
      "| cg23995914  Healthy =  86  Alz =  125544 |\n",
      "| ch.1.169608016R  Healthy =  89  Alz =  87882 |\n",
      "| cg03169557  Healthy =  96  Alz =  130 |\n",
      "| cg16875032  Healthy =  125  Alz =  1 |\n",
      "| cg20144008  Healthy =  149  Alz =  7 |\n",
      "| cg25139493  Healthy =  237  Alz =  9 |\n",
      "| cg00760935  Healthy =  619  Alz =  11 |\n",
      "| cg01812045  Healthy =  212  Alz =  13 |\n",
      "| cg23901918  Healthy =  1296  Alz =  17 |\n",
      "| cg01684881  Healthy =  1241  Alz =  19 |\n",
      "| cg03664992  Healthy =  1283  Alz =  20 |\n",
      "| cg14020846  Healthy =  1073  Alz =  24 |\n",
      "| cg13407463  Healthy =  366  Alz =  26 |\n",
      "| cg13954457  Healthy =  1117  Alz =  30 |\n",
      "| cg07544187  Healthy =  143  Alz =  35 |\n",
      "| cg23813012  Healthy =  150  Alz =  41 |\n",
      "| cg11705975  Healthy =  108  Alz =  45 |\n",
      "| cg02297043  Healthy =  470  Alz =  51 |\n",
      "| cg11071401  Healthy =  154  Alz =  69 |\n",
      "| cg26600753  Healthy =  1187  Alz =  70 |\n",
      "| cg03143886  Healthy =  151  Alz =  81 |\n",
      "| cg27009691  Healthy =  1779  Alz =  87 |\n",
      "| cg23368787  Healthy =  251  Alz =  95 |\n",
      "| cg06782035  Healthy =  1167  Alz =  96 |\n"
     ]
    }
   ],
   "source": [
    "comb2=[]\n",
    "for i in xgb_hc_brain_cpgs[0:100]:    \n",
    "    if i in xgb_alz_brain_top_cpgs and i not in comb2:       \n",
    "        comb2.append(i)\n",
    "\n",
    "for i in xgb_alz_brain_top_cpgs[0:100]:    \n",
    "    if i in xgb_hc_brain_cpgs and i not in comb2:       \n",
    "        comb2.append(i)\n",
    "    \n",
    "        \n",
    "for i in comb2:\n",
    "    print('|',i,' Healthy = ',xgb_hc_brain_cpgs.index(i),' Alz = ',xgb_alz_brain_top_cpgs.index(i),'|')"
   ]
  },
  {
   "cell_type": "code",
   "execution_count": 9,
   "metadata": {},
   "outputs": [
    {
     "name": "stdout",
     "output_type": "stream",
     "text": [
      "77\n"
     ]
    }
   ],
   "source": [
    "print(len(comb2))\n",
    "with open('combined_cpgs_healthy_and_alz', 'wb') as fp:\n",
    "        cPickle.dump(comb2, fp)"
   ]
  },
  {
   "cell_type": "markdown",
   "metadata": {},
   "source": [
    "## Producing the combined DF\n",
    "\n",
    "### Reading in and processing data"
   ]
  },
  {
   "cell_type": "code",
   "execution_count": null,
   "metadata": {},
   "outputs": [],
   "source": [
    "path_to_brain_methylation_data=\"brain_methylation.txt\"\n",
    "#Get all CpG sites in brain_methylation HC data cut\n",
    "rows_hc=[]\n",
    "with sopen(data_location, 'r') as file_in:\n",
    "    for row in file_in:\n",
    "        rows_hc.append(row[0:10])"
   ]
  },
  {
   "cell_type": "code",
   "execution_count": null,
   "metadata": {},
   "outputs": [],
   "source": [
    "#Add row numbers for those not in combined list comb\n",
    "skipped = []\n",
    "for i in range(1,len(rows_hc)):\n",
    "    if rows_hc[i] not in comb:\n",
    "        skipped.append(i)"
   ]
  },
  {
   "cell_type": "code",
   "execution_count": null,
   "metadata": {},
   "outputs": [],
   "source": [
    "#Read in HC brain data for sites in comb\n",
    "cl = pd.read_csv(data_location, skiprows=skipped, low_memory=False)\n",
    "healthy_df=cl.set_index('sample_id').T"
   ]
  },
  {
   "cell_type": "code",
   "execution_count": null,
   "metadata": {},
   "outputs": [],
   "source": [
    "#Produce df of HC ages\n",
    "meta = []\n",
    "\n",
    "with open(r'sample_age.txt') as f:\n",
    "    for row in f:\n",
    "        meta.append(row[0:50])\n",
    "\n",
    "meta_2 =[]\n",
    "\n",
    "for i in meta:\n",
    "    meta_2.append(i.split())\n",
    "\n",
    "ages=[]\n",
    "df_id_ages=[]\n",
    "df_age=[]\n",
    "for i in range(1,len(meta_2)):\n",
    "    p=meta_2[i]\n",
    "    \n",
    "    v=[]\n",
    "    if p[0][1]=='G':\n",
    "        v.append(p[0][1:-1])\n",
    "        v.append(p[2])\n",
    "        df_id_ages.append(p[0][1:-1])\n",
    "        df_age.append(p[2])\n",
    "        ages.append(v)\n",
    "    \n",
    "    \n",
    "df_ages = pd.DataFrame({'id': df_id_ages,\n",
    "                   'age': df_age,})\n",
    "\n",
    "df_ages=df_ages.set_index('id')\n",
    "df_ages"
   ]
  },
  {
   "cell_type": "code",
   "execution_count": null,
   "metadata": {},
   "outputs": [],
   "source": [
    "#Adding ages to healthy DF\n",
    "healthy_df['AGE']=np.zeros(len(healthy_df.index))\n",
    "cols = list(healthy_df.columns.values)\n",
    "cols=cols[0:-1]\n",
    "healthy_df = healthy_df[['AGE']+cols]\n",
    "for i in healthy_df.index:\n",
    "    try:\n",
    "        healthy_df.loc[i,'AGE']=float(df_ages.loc[i]['age'])\n",
    "    except KeyError:\n",
    "        healthy_df.loc[i,'AGE']='NaN'\n",
    "healthy_df\n"
   ]
  },
  {
   "cell_type": "code",
   "execution_count": null,
   "metadata": {},
   "outputs": [],
   "source": [
    "alzheimers_df=pd.read_csv('alzheimers/alz_brain_unhealthy_all.csv', index_col=0,low_memory=False)\n",
    "huntingtons_df=pd.read_csv('alzheimers/alz_brain_unhealthy_all.csv', index_col=0,low_memory=False)"
   ]
  },
  {
   "cell_type": "markdown",
   "metadata": {},
   "source": [
    "### Adding in status column for classification"
   ]
  },
  {
   "cell_type": "code",
   "execution_count": null,
   "metadata": {},
   "outputs": [],
   "source": [
    "healthy_df['status']=[0]*len(healthy_df.index)\n",
    "cols = list(healthy_df.columns.values)\n",
    "cols=cols[0:-1]\n",
    "healthy_df = healthy_df[['status']+cols]"
   ]
  },
  {
   "cell_type": "code",
   "execution_count": null,
   "metadata": {},
   "outputs": [],
   "source": [
    "alzheimers_df['status']=[1]*len(alzheimers_df.index)\n",
    "cols = list(alzheimers_df.columns.values)\n",
    "cols=cols[1:-1]\n",
    "alzheimers_df = alzheimers_df[['status']+['AGE']+cols]"
   ]
  },
  {
   "cell_type": "code",
   "execution_count": null,
   "metadata": {},
   "outputs": [],
   "source": [
    "huntingtons_df['status']=[2]*len(huntingtons_df.index)\n",
    "colsh = list(huntingtons_df.columns.values)\n",
    "colsh=colsh[1:-1]\n",
    "huntingtons_df = huntingtons_df[['status']+['AGE']+colsh]"
   ]
  },
  {
   "cell_type": "markdown",
   "metadata": {},
   "source": [
    "### Combining the dataframes"
   ]
  },
  {
   "cell_type": "code",
   "execution_count": null,
   "metadata": {},
   "outputs": [],
   "source": [
    "frames=[healthy_df,alzheimers_df,huntingtons_df]\n",
    "#key=healthy_df.columns\n",
    "result = pd.concat(frames)\n",
    "result.to_csv('classification/combined_healthy_unhealthy_107_cpgs.csv', encoding='utf-8', index=True)"
   ]
  }
 ],
 "metadata": {
  "kernelspec": {
   "display_name": "Python 3",
   "language": "python",
   "name": "python3"
  },
  "language_info": {
   "codemirror_mode": {
    "name": "ipython",
    "version": 3
   },
   "file_extension": ".py",
   "mimetype": "text/x-python",
   "name": "python",
   "nbconvert_exporter": "python",
   "pygments_lexer": "ipython3",
   "version": "3.8.3"
  }
 },
 "nbformat": 4,
 "nbformat_minor": 4
}
