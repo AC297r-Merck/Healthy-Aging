{
 "cells": [
  {
   "cell_type": "markdown",
   "metadata": {},
   "source": [
    "# Reducing features by stats modeling\n",
    "DC \n",
    "\n",
    "## Procedure\n",
    "\n",
    "* Regress each cpg with age\n",
    "* get p-values for each cpg for slope  not equal to 0\n",
    "* Adjust pvalues for multiple testing, FDR = 0.01 (BH)\n",
    "* Select 100 cpgs with lowest adjusted p values\n",
    "* Make models with these \n",
    "* Compare to the XGboost crossvalidation method\n",
    "\n",
    "\n",
    "## Conclusions:\n",
    "* Works about as wll as XGboost method slightly worse.\n",
    "* After adjusting for multiple testing 177,993 cpgs significant of 406,628 were found significant (44%). \n",
    "* the two methods share 48 top100 cpgs in common"
   ]
  },
  {
   "cell_type": "markdown",
   "metadata": {},
   "source": [
    "#### Imports"
   ]
  },
  {
   "cell_type": "code",
   "execution_count": 1,
   "metadata": {},
   "outputs": [],
   "source": [
    "%matplotlib inline\n",
    "import numpy as np\n",
    "import scipy as sp\n",
    "import matplotlib as mpl\n",
    "import matplotlib.cm as cm\n",
    "import matplotlib.pyplot as plt\n",
    "import pandas as pd\n",
    "import time\n",
    "pd.set_option('display.width', 500)\n",
    "pd.set_option('display.max_columns', 100)\n",
    "pd.set_option('display.notebook_repr_html', True)\n",
    "import seaborn as sns\n",
    "sns.set_style('whitegrid')\n",
    "sns.set_context('poster')\n",
    "import os"
   ]
  },
  {
   "cell_type": "markdown",
   "metadata": {},
   "source": [
    "#### Import our modules"
   ]
  },
  {
   "cell_type": "code",
   "execution_count": 2,
   "metadata": {},
   "outputs": [],
   "source": [
    "from age_predict.Loading_EWAS_Aging_Data import *\n",
    "from age_predict.Regression import *\n",
    "from age_predict.pickle_unpickle import *"
   ]
  },
  {
   "cell_type": "code",
   "execution_count": 3,
   "metadata": {},
   "outputs": [],
   "source": [
    "# Set working directory\n",
    "os.chdir('/Users/dcox/Desktop/EWAS-organized')"
   ]
  },
  {
   "cell_type": "markdown",
   "metadata": {},
   "source": [
    "#### set tissue of interest"
   ]
  },
  {
   "cell_type": "code",
   "execution_count": 4,
   "metadata": {},
   "outputs": [],
   "source": [
    "tissue_of_interest = 'whole blood'"
   ]
  },
  {
   "cell_type": "markdown",
   "metadata": {},
   "source": [
    "#### Load data"
   ]
  },
  {
   "cell_type": "code",
   "execution_count": 5,
   "metadata": {},
   "outputs": [
    {
     "name": "stdout",
     "output_type": "stream",
     "text": [
      "finished line 10000\n",
      "finished line 20000\n",
      "finished line 30000\n",
      "finished line 40000\n",
      "finished line 50000\n",
      "finished line 60000\n",
      "finished line 70000\n",
      "finished line 80000\n",
      "finished line 90000\n",
      "finished line 100000\n",
      "finished line 110000\n",
      "finished line 120000\n",
      "finished line 130000\n",
      "finished line 140000\n",
      "finished line 150000\n",
      "finished line 160000\n",
      "finished line 170000\n",
      "finished line 180000\n",
      "finished line 190000\n",
      "finished line 200000\n",
      "finished line 210000\n",
      "finished line 220000\n",
      "finished line 230000\n",
      "finished line 240000\n",
      "finished line 250000\n",
      "finished line 260000\n",
      "finished line 270000\n",
      "finished line 280000\n",
      "finished line 290000\n",
      "finished line 300000\n",
      "finished line 310000\n",
      "finished line 320000\n",
      "finished line 330000\n",
      "finished line 340000\n",
      "finished line 350000\n",
      "finished line 360000\n",
      "finished line 370000\n",
      "finished line 380000\n",
      "finished line 390000\n",
      "finished line 400000\n",
      "finished line 410000\n",
      "finished line 420000\n",
      "finished line 430000\n",
      "finished line 440000\n",
      "finished line 450000\n",
      "finished line 460000\n",
      "finished line 470000\n",
      "finished line 480000\n",
      "\n",
      "485512 lines sent to file ./data/age_methylation_v1/whole blood_age_methylation_v1.txt with the tissue field containing whole blood\n",
      "CPU times: user 8min 40s, sys: 27.5 s, total: 9min 8s\n",
      "Wall time: 41min 46s\n"
     ]
    }
   ],
   "source": [
    "%%time\n",
    "file_in = './data/age_methylation_v1/age_methylation_v1.txt'\n",
    "file_out = './data/age_methylation_v1/'+ tissue_of_interest + '_age_methylation_v1.txt'\n",
    "\n",
    "df_t = load_EWAS_aging_by_tissue(file_in, file_out, search_term=tissue_of_interest,\n",
    "                          num_rows='all', verbose=True)"
   ]
  },
  {
   "cell_type": "markdown",
   "metadata": {},
   "source": [
    "#### Select age 20 and older"
   ]
  },
  {
   "cell_type": "code",
   "execution_count": 6,
   "metadata": {},
   "outputs": [],
   "source": [
    "df_t_over20 = df_t[df_t.age >=20]"
   ]
  },
  {
   "cell_type": "markdown",
   "metadata": {},
   "source": [
    "#### Split and impute data"
   ]
  },
  {
   "cell_type": "code",
   "execution_count": 9,
   "metadata": {},
   "outputs": [
    {
     "name": "stdout",
     "output_type": "stream",
     "text": [
      "CPU times: user 3min 55s, sys: 1min 5s, total: 5min 1s\n",
      "Wall time: 6min 5s\n"
     ]
    }
   ],
   "source": [
    "%%time\n",
    "df_p_working, df_p_saved = splitting_and_imputing(df_t_over20, input_percent=10, \n",
    "                                           fraction_test=0.25, seed=2021)"
   ]
  },
  {
   "cell_type": "markdown",
   "metadata": {},
   "source": []
  },
  {
   "cell_type": "markdown",
   "metadata": {},
   "source": [
    "## HERE STARTS THE STATS ANALYSIS"
   ]
  },
  {
   "cell_type": "code",
   "execution_count": 14,
   "metadata": {},
   "outputs": [],
   "source": [
    "df_processed_imp_over20 = df_p_working"
   ]
  },
  {
   "cell_type": "markdown",
   "metadata": {},
   "source": [
    "### Regressing each cpg on age"
   ]
  },
  {
   "cell_type": "code",
   "execution_count": null,
   "metadata": {},
   "outputs": [
    {
     "name": "stdout",
     "output_type": "stream",
     "text": [
      "0 cg02494853 3.7694711013825014e-05 109.1102451144472\n",
      "10000 cg18395233 2.5347216034277503e-05 -80.8727102275237\n",
      "20000 cg22475904 0.5722415010614574 -56.08104271607084\n",
      "30000 cg17378483 0.008523204061234543 -284.5575574787013\n",
      "40000 cg09295542 0.06922861451114537 -25.45126344779563\n",
      "50000 cg17495792 0.039582205592826596 -93.16145792532843\n",
      "60000 cg03943218 9.126767073561638e-24 147.82120116102618\n",
      "70000 cg18519694 0.00020673880674197142 40.47922122864131\n",
      "80000 cg15988970 0.8185538849982108 1.3735697689378803\n",
      "90000 cg03622875 0.6153501846111435 33.50495235777683\n",
      "100000 cg19500275 0.6782779291948458 -21.14645466451135\n",
      "110000 cg22598669 0.032182775862453356 -31.78830169271285\n",
      "120000 cg09413198 0.008646430611345512 -23.159485353854855\n",
      "130000 cg06840154 7.862391350796803e-29 -147.72077712489377\n",
      "140000 cg17493193 0.25648836511167517 -31.642837546017603\n",
      "150000 cg01479187 8.27942108389442e-16 -52.53628102782083\n",
      "160000 cg16450590 0.03525714752596321 24.941430341570424\n"
     ]
    }
   ],
   "source": [
    "%%time\n",
    "import statsmodels.api as sm\n",
    "\n",
    "p_values = []\n",
    "slopes = []\n",
    "cpgs = []\n",
    "y = df_processed_imp_over20['age']\n",
    "for i, cpg in enumerate(df_processed_imp_over20.columns[2:]):\n",
    "    X = df_processed_imp_over20[cpg]\n",
    "    X = sm.add_constant(X)\n",
    "    fit = sm.OLS(y, X).fit()\n",
    "    p_values.append(fit.pvalues[1])\n",
    "    slopes.append(fit.params[1])\n",
    "    if i % 10000 == 0:\n",
    "        print(i, cpg, fit.pvalues[1], fit.params[1])"
   ]
  },
  {
   "cell_type": "markdown",
   "metadata": {},
   "source": [
    "### Geting pvalues into a dataframe"
   ]
  },
  {
   "cell_type": "code",
   "execution_count": null,
   "metadata": {},
   "outputs": [],
   "source": [
    "df_pvals = pd.DataFrame({'cpgs': df_processed_imp_over20.columns[2:], 'slopes': slopes, 'p_values': p_values})"
   ]
  },
  {
   "cell_type": "code",
   "execution_count": null,
   "metadata": {},
   "outputs": [],
   "source": [
    "df_pvals"
   ]
  },
  {
   "cell_type": "code",
   "execution_count": null,
   "metadata": {},
   "outputs": [],
   "source": [
    "# sorting \n",
    "df_pvals_sorted = df_pvals.sort_values('p_values', ascending=True)\n",
    "df_pvals_sorted"
   ]
  },
  {
   "cell_type": "markdown",
   "metadata": {},
   "source": [
    "### Getting adjusted p_values for Multiple testing FDR = 0.01 Benjamini Hochberg method"
   ]
  },
  {
   "cell_type": "code",
   "execution_count": null,
   "metadata": {},
   "outputs": [],
   "source": [
    "from statsmodels.stats.multitest import fdrcorrection\n",
    "rejected, q_values = fdrcorrection(df_pvals_sorted.p_values, alpha = 0.01, is_sorted=True)"
   ]
  },
  {
   "cell_type": "code",
   "execution_count": null,
   "metadata": {},
   "outputs": [],
   "source": [
    "df_pvals_sorted['q_values_fdr1%'] = q_values\n",
    "df_pvals_sorted['rejected'] = rejected"
   ]
  },
  {
   "cell_type": "code",
   "execution_count": null,
   "metadata": {},
   "outputs": [],
   "source": [
    "df_pvals_sorted"
   ]
  },
  {
   "cell_type": "code",
   "execution_count": null,
   "metadata": {},
   "outputs": [],
   "source": [
    "df_qvals_sorted = df_pvals_sorted.sort_values('q_values_fdr1%')"
   ]
  },
  {
   "cell_type": "code",
   "execution_count": null,
   "metadata": {},
   "outputs": [],
   "source": [
    "df_qvals_sorted "
   ]
  },
  {
   "cell_type": "markdown",
   "metadata": {},
   "source": [
    "### How many cpgs significant?"
   ]
  },
  {
   "cell_type": "code",
   "execution_count": null,
   "metadata": {},
   "outputs": [],
   "source": [
    "df_qvals_sorted.rejected.sum()"
   ]
  },
  {
   "cell_type": "code",
   "execution_count": null,
   "metadata": {},
   "outputs": [],
   "source": [
    "cpgs_statsmod_blood_ranked = df_qvals_sorted.cpgs"
   ]
  },
  {
   "cell_type": "code",
   "execution_count": null,
   "metadata": {},
   "outputs": [],
   "source": [
    "# Saving ramkings\n",
    "import pickle\n",
    "with open('./cpgs_ranked/cpgs_statsmod_blood_ranked', 'wb') as fp:\n",
    "    pickle.dump(cpgs_statsmod_blood_ranked, fp)"
   ]
  },
  {
   "cell_type": "code",
   "execution_count": null,
   "metadata": {},
   "outputs": [],
   "source": [
    "with open('./cpgs_ranked/cpgs_XGboost_whole_blood_ranked', 'rb') as fp:\n",
    "    cpgs_XGboost_blood_ranked = pickle.load(fp)"
   ]
  },
  {
   "cell_type": "code",
   "execution_count": null,
   "metadata": {},
   "outputs": [],
   "source": [
    "Top100_cpg_XGboost_blood = cpgs_XGboost_blood_ranked[:100]"
   ]
  },
  {
   "cell_type": "markdown",
   "metadata": {},
   "source": [
    "### Count number of top 100 cpgs in common with the XGBoost cross val method"
   ]
  },
  {
   "cell_type": "code",
   "execution_count": null,
   "metadata": {},
   "outputs": [],
   "source": [
    "count=0\n",
    "cpgs_common = []\n",
    "for i, cpg in enumerate(cpgs_statsmod_blood_ranked[:100]):\n",
    "    if cpg in cpgs_XGboost_blood_ranked[:100]:\n",
    "        print(i, cpg)\n",
    "        cpgs_common.append(cpg)\n",
    "        count+=1\n",
    "print(count)"
   ]
  },
  {
   "cell_type": "code",
   "execution_count": null,
   "metadata": {},
   "outputs": [],
   "source": [
    "Top100_cpgs_statsmodel_blood = cpgs_statsmod_blood_ranked[:100]\n",
    "plt.rcdefaults()"
   ]
  },
  {
   "cell_type": "markdown",
   "metadata": {},
   "source": [
    "### Modeling with the top 100 cpgs via stats modeling"
   ]
  },
  {
   "cell_type": "code",
   "execution_count": null,
   "metadata": {},
   "outputs": [],
   "source": [
    "from sklearn.model_selection import train_test_split\n",
    "X = df_p_working[Top100_cpgs_statsmodel_blood]\n",
    "y = df_p_working.age\n",
    "X_train, X_test, y_train, y_test = train_test_split(X, y, test_size=0.30, random_state = 2021)"
   ]
  },
  {
   "cell_type": "code",
   "execution_count": null,
   "metadata": {},
   "outputs": [],
   "source": [
    "plt.rcdefaults()\n",
    "mod_100, rms_train, rms_test, r2_train, r2_test = linear_regress(X_train, y_train, X_test, y_test, plot=True)"
   ]
  },
  {
   "cell_type": "code",
   "execution_count": null,
   "metadata": {},
   "outputs": [],
   "source": [
    "XG_100, rms_train, rms_test, r2_train, r2_test, feature_importances_ = xgboost_regress(X_train, y_train, X_test, y_test, early_stopping_rounds=10, plot=True)"
   ]
  },
  {
   "cell_type": "code",
   "execution_count": null,
   "metadata": {},
   "outputs": [],
   "source": [
    " mod_lasso_100, rms_train, rms_test, r2_train, r2_test = lassoCV_regress(X_train, y_train, X_test, y_test, plot=True, alphas=[1e-5, 1e-4, 1e-3, 1e-2, 1e-1, 1, 1e1, 1e2, 1e3, 1e4, 1e5],cv=5)"
   ]
  },
  {
   "cell_type": "code",
   "execution_count": null,
   "metadata": {},
   "outputs": [],
   "source": [
    "mod_ridge_100, rms_train, rms_test, r2_train, r2_test = ridgeCV_regress(X_train, y_train, X_test, y_test, plot=True, alphas=[1e-5, 1e-4, 1e-3, 1e-2, 1e-1, 1, 1e1, 1e2, 1e3, 1e4, 1e5],cv=5)"
   ]
  },
  {
   "cell_type": "code",
   "execution_count": null,
   "metadata": {},
   "outputs": [],
   "source": [
    "# Save models\n",
    "import pickle\n",
    "\n",
    "with open('./models/mod_100_blood_stats', 'wb') as fp:\n",
    "    pickle.dump(mod_100, fp)\n",
    "    \n",
    "with open('./models/XG_100_blood_stats', 'wb') as fp:\n",
    "    pickle.dump(XG_100, fp)\n",
    "    \n",
    "with open('./models/mod_lasso_100_blood_stats', 'wb') as fp:\n",
    "    pickle.dump(mod_lasso_100, fp)\n",
    "    \n",
    "with open('./models/mod_ridge_100_blood_stats', 'wb') as fp:\n",
    "    pickle.dump(mod_ridge_100, fp)"
   ]
  },
  {
   "cell_type": "markdown",
   "metadata": {},
   "source": [
    "### Model Perfomance on Heldout Data"
   ]
  },
  {
   "cell_type": "code",
   "execution_count": null,
   "metadata": {},
   "outputs": [],
   "source": [
    "X_saved = df_p_saved[Top100_cpgs_statsmodel_blood]\n",
    "y_saved = df_p_saved.age"
   ]
  },
  {
   "cell_type": "code",
   "execution_count": null,
   "metadata": {},
   "outputs": [],
   "source": [
    "plt.rcdefaults()"
   ]
  },
  {
   "cell_type": "code",
   "execution_count": null,
   "metadata": {},
   "outputs": [],
   "source": [
    "preds, MSE, rms, r2, MAE, r_corr = test_model_on_heldout_data(X_saved, y_saved, mod_100, mtype='Linear Regression', figsize=(8,4), xlim=None)"
   ]
  },
  {
   "cell_type": "code",
   "execution_count": null,
   "metadata": {},
   "outputs": [],
   "source": [
    "preds, MSE, rms, r2, MAE, r_corr = test_model_on_heldout_data(X_saved, y_saved, XG_100, mtype='XGboost Regression', figsize=(8,4), xlim=None)"
   ]
  },
  {
   "cell_type": "code",
   "execution_count": null,
   "metadata": {},
   "outputs": [],
   "source": [
    "preds, MSE, rms, r2, MAE, r_corr = test_model_on_heldout_data(X_saved, y_saved, mod_ridge_100, mtype='Ridge Regression', figsize=(8,4), xlim=None)"
   ]
  },
  {
   "cell_type": "code",
   "execution_count": null,
   "metadata": {},
   "outputs": [],
   "source": [
    "preds, MSE, rms, r2, MAE, r_corr = test_model_on_heldout_data(X_saved, y_saved, mod_lasso_100, mtype='Lasso Regression', figsize=(8,4), xlim=None)"
   ]
  }
 ],
 "metadata": {
  "kernelspec": {
   "display_name": "Python 3",
   "language": "python",
   "name": "python3"
  },
  "language_info": {
   "codemirror_mode": {
    "name": "ipython",
    "version": 3
   },
   "file_extension": ".py",
   "mimetype": "text/x-python",
   "name": "python",
   "nbconvert_exporter": "python",
   "pygments_lexer": "ipython3",
   "version": "3.8.3"
  }
 },
 "nbformat": 4,
 "nbformat_minor": 2
}
