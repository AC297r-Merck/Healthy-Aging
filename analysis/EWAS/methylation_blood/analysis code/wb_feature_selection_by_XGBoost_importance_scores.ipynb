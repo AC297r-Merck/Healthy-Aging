{
 "cells": [
  {
   "cell_type": "markdown",
   "metadata": {},
   "source": [
    "# wb_feature_selection_by_XGB_importance_scores\n",
    "DC\n",
    "\n",
    "#### This notebook:\n",
    "* Load the EWAS aging data selecting for whole blood data\n",
    "* Split data train/test 75/25\n",
    "* Impute with mean of each train column\n",
    "* Run XGboost 50 time on working data (took 4hrs)\n",
    "* Rank cpgs by frequency in top 100 importance scores\n",
    "* Save rankings as pickled 'cpgs_XGboost_blood_ranked'"
   ]
  },
  {
   "cell_type": "markdown",
   "metadata": {},
   "source": [
    "#### Imports"
   ]
  },
  {
   "cell_type": "code",
   "execution_count": 1,
   "metadata": {},
   "outputs": [],
   "source": [
    "%matplotlib inline\n",
    "import numpy as np\n",
    "import scipy as sp\n",
    "import matplotlib as mpl\n",
    "import matplotlib.cm as cm\n",
    "import matplotlib.pyplot as plt\n",
    "import pandas as pd\n",
    "import time\n",
    "pd.set_option('display.width', 500)\n",
    "pd.set_option('display.max_columns', 100)\n",
    "pd.set_option('display.notebook_repr_html', True)\n",
    "import seaborn as sns\n",
    "sns.set_style('whitegrid')\n",
    "sns.set_context('poster')\n",
    "import os"
   ]
  },
  {
   "cell_type": "markdown",
   "metadata": {},
   "source": [
    "#### Import our modules"
   ]
  },
  {
   "cell_type": "code",
   "execution_count": 2,
   "metadata": {},
   "outputs": [],
   "source": [
    "import age_predict.Loading_EWAS_Aging_Data as le\n",
    "import age_predict.Regression as rg\n",
    "import age_predict.Pickle_unpickle as pu"
   ]
  },
  {
   "cell_type": "code",
   "execution_count": 3,
   "metadata": {},
   "outputs": [
    {
     "data": {
      "text/plain": [
       "'/Users/dcox/Desktop/EWAS-organized/blood/feature_selection'"
      ]
     },
     "execution_count": 3,
     "metadata": {},
     "output_type": "execute_result"
    }
   ],
   "source": [
    "import os\n",
    "# Get\n",
    "os.getcwd()\n",
    "#os.chdir('/Users/dcox/Dropbox')"
   ]
  },
  {
   "cell_type": "code",
   "execution_count": 4,
   "metadata": {},
   "outputs": [],
   "source": [
    "# Paths\n",
    "path_to_data = '../data/age_methylation_v1/'"
   ]
  },
  {
   "cell_type": "markdown",
   "metadata": {},
   "source": [
    "#### set tissue of interest"
   ]
  },
  {
   "cell_type": "code",
   "execution_count": 5,
   "metadata": {},
   "outputs": [],
   "source": [
    "tissue_of_interest = 'whole blood'"
   ]
  },
  {
   "cell_type": "markdown",
   "metadata": {},
   "source": [
    "#### Load data"
   ]
  },
  {
   "cell_type": "code",
   "execution_count": 6,
   "metadata": {},
   "outputs": [
    {
     "name": "stdout",
     "output_type": "stream",
     "text": [
      "finished line 10000\n",
      "finished line 20000\n",
      "finished line 30000\n",
      "finished line 40000\n",
      "finished line 50000\n",
      "finished line 60000\n",
      "finished line 70000\n",
      "finished line 80000\n",
      "finished line 90000\n",
      "finished line 100000\n",
      "finished line 110000\n",
      "finished line 120000\n",
      "finished line 130000\n",
      "finished line 140000\n",
      "finished line 150000\n",
      "finished line 160000\n",
      "finished line 170000\n",
      "finished line 180000\n",
      "finished line 190000\n",
      "finished line 200000\n",
      "finished line 210000\n",
      "finished line 220000\n",
      "finished line 230000\n",
      "finished line 240000\n",
      "finished line 250000\n",
      "finished line 260000\n",
      "finished line 270000\n",
      "finished line 280000\n",
      "finished line 290000\n",
      "finished line 300000\n",
      "finished line 310000\n",
      "finished line 320000\n",
      "finished line 330000\n",
      "finished line 340000\n",
      "finished line 350000\n",
      "finished line 360000\n",
      "finished line 370000\n",
      "finished line 380000\n",
      "finished line 390000\n",
      "finished line 400000\n",
      "finished line 410000\n",
      "finished line 420000\n",
      "finished line 430000\n",
      "finished line 440000\n",
      "finished line 450000\n",
      "finished line 460000\n",
      "finished line 470000\n",
      "finished line 480000\n",
      "\n",
      "485512 lines sent to file ../data/age_methylation_v1/whole blood_age_methylation_v1.txt with the tissue field containing whole blood\n",
      "CPU times: user 8min 24s, sys: 19.7 s, total: 8min 43s\n",
      "Wall time: 9min 1s\n"
     ]
    }
   ],
   "source": [
    "%%time\n",
    "file_in = path_to_data + 'age_methylation_v1.txt'\n",
    "file_out = path_to_data + tissue_of_interest + '_age_methylation_v1.txt'\n",
    "\n",
    "df_t = le.load_EWAS_aging_by_tissue(file_in, file_out, search_term=tissue_of_interest,\n",
    "                          num_rows='all', verbose=True)"
   ]
  },
  {
   "cell_type": "markdown",
   "metadata": {},
   "source": [
    "#### Select age 20 and older"
   ]
  },
  {
   "cell_type": "code",
   "execution_count": 7,
   "metadata": {},
   "outputs": [],
   "source": [
    "df_t_over20 = df_t[df_t.age >=20]"
   ]
  },
  {
   "cell_type": "markdown",
   "metadata": {},
   "source": [
    "#### Split and impute data"
   ]
  },
  {
   "cell_type": "code",
   "execution_count": 8,
   "metadata": {},
   "outputs": [
    {
     "name": "stdout",
     "output_type": "stream",
     "text": [
      "CPU times: user 3min 49s, sys: 35.5 s, total: 4min 24s\n",
      "Wall time: 4min 36s\n"
     ]
    }
   ],
   "source": [
    "%%time\n",
    "df_p_working, df_p_saved = le.splitting_and_imputing(df_t_over20, input_percent=10, \n",
    "                                           fraction_test=0.25, seed=2021)"
   ]
  },
  {
   "cell_type": "markdown",
   "metadata": {},
   "source": [
    "#### Save dataframes with columns from just ranked cpgs"
   ]
  },
  {
   "cell_type": "code",
   "execution_count": 10,
   "metadata": {},
   "outputs": [],
   "source": [
    "# df_p_working_ranked = df_p_working[cpgs_XGboost_blood_ranked]\n",
    "# df_p_working_ranked.insert(0, 'age', df_p_working.age)\n",
    "# df_p_working_ranked.insert(0, 'tissue', df_p_working.tissue)\n",
    "# df_p_saved_ranked = df_p_saved[cpgs_XGboost_blood_ranked]\n",
    "# df_p_saved_ranked.insert(0, 'age', df_p_saved.age)\n",
    "# df_p_saved_ranked.insert(0, 'tissue', df_p_saved.tissue)\n",
    "# df_p_saved_ranked.to_csv('df_p_saved_ranked.csv')\n",
    "# df_p_working_ranked.to_csv('df_p_working_ranked.csv')"
   ]
  },
  {
   "cell_type": "markdown",
   "metadata": {},
   "source": [
    "#### Running XGboost 50 times to identify top 100 cpgs"
   ]
  },
  {
   "cell_type": "code",
   "execution_count": 11,
   "metadata": {},
   "outputs": [
    {
     "ename": "TypeError",
     "evalue": "repeat_XGBoost() got an unexpected keyword argument 'test_size'",
     "output_type": "error",
     "traceback": [
      "\u001b[0;31m---------------------------------------------------------------------------\u001b[0m",
      "\u001b[0;31mTypeError\u001b[0m                                 Traceback (most recent call last)",
      "\u001b[0;32m<timed exec>\u001b[0m in \u001b[0;36m<module>\u001b[0;34m\u001b[0m\n",
      "\u001b[0;31mTypeError\u001b[0m: repeat_XGBoost() got an unexpected keyword argument 'test_size'"
     ]
    }
   ],
   "source": [
    "%%time\n",
    "# Runnin XGboost on working dataset 50 times with 50 different train/test splits\n",
    "# This can take hours \n",
    "df_imp, rms_train, rms_test, r2_train, r2_test = rg.repeat_XGBoost(df_p_working, 50, test_size=0.20)"
   ]
  },
  {
   "cell_type": "code",
   "execution_count": null,
   "metadata": {},
   "outputs": [],
   "source": [
    "# write 50 trials results to a file, so don't have to rerun the 50 XGboost trials with the whole dataset again\n",
    "file = 'df_importance_EWAS_age_' + tissue_of_interest + '_50_trials.csv'\n",
    "#df_imp.to_csv(file)\n",
    "#df_imp = pd.read_csv('./blood/df_importance_EWAS_age_whole_blood_50_trials.csv' , index_col=0)"
   ]
  },
  {
   "cell_type": "code",
   "execution_count": null,
   "metadata": {},
   "outputs": [],
   "source": [
    "# Finding cpgs with on average the highest importance scores, see mean columnn in df below\n",
    "df_imp_sorted = rg.importances_sorted_by_mean(df_imp)"
   ]
  },
  {
   "cell_type": "code",
   "execution_count": null,
   "metadata": {},
   "outputs": [],
   "source": [
    "# This function makes a histogram of the frequency of cgs in the top 100 in the 50 trials above\n",
    "inds, vs, h = rg.histogram_of_top_CpGs_by_importance(df_imp, 100)"
   ]
  },
  {
   "cell_type": "code",
   "execution_count": null,
   "metadata": {},
   "outputs": [],
   "source": [
    "cpgs_XGboost_ranked_blood = h.index.values"
   ]
  },
  {
   "cell_type": "code",
   "execution_count": null,
   "metadata": {},
   "outputs": [],
   "source": [
    "# Saving Rankings\n",
    "# pu.pickle_object(cpgs_XGboost_ranked_blood, 'cpgs_XGboost_blood_ranked')"
   ]
  },
  {
   "cell_type": "code",
   "execution_count": null,
   "metadata": {},
   "outputs": [],
   "source": []
  }
 ],
 "metadata": {
  "kernelspec": {
   "display_name": "Python 3",
   "language": "python",
   "name": "python3"
  },
  "language_info": {
   "codemirror_mode": {
    "name": "ipython",
    "version": 3
   },
   "file_extension": ".py",
   "mimetype": "text/x-python",
   "name": "python",
   "nbconvert_exporter": "python",
   "pygments_lexer": "ipython3",
   "version": "3.8.3"
  }
 },
 "nbformat": 4,
 "nbformat_minor": 2
}
