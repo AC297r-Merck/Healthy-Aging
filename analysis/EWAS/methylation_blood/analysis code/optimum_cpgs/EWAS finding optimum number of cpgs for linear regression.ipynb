{
 "cells": [
  {
   "cell_type": "markdown",
   "metadata": {},
   "source": [
    "# EWAS finding optimum number of cpgs for linear regression\n",
    "DC"
   ]
  },
  {
   "cell_type": "code",
   "execution_count": 1,
   "metadata": {},
   "outputs": [],
   "source": [
    "%matplotlib inline\n",
    "import numpy as np\n",
    "import matplotlib.pyplot as plt\n",
    "import pandas as pd\n",
    "import time\n",
    "import json\n",
    "from sklearn.model_selection import train_test_split\n",
    "from xgboost import XGBRegressor\n",
    "from sklearn.linear_model import LinearRegression\n",
    "from sklearn.metrics import mean_squared_error\n",
    "from sklearn.metrics import r2_score\n",
    "from sklearn.metrics import mean_absolute_error\n",
    "from sklearn.model_selection import GridSearchCV\n",
    "plt.rcdefaults()"
   ]
  },
  {
   "cell_type": "code",
   "execution_count": 2,
   "metadata": {},
   "outputs": [],
   "source": [
    "import csv\n",
    "pd.set_option('display.width', 500)\n",
    "pd.set_option('display.max_columns', 100)\n",
    "pd.set_option('display.notebook_repr_html', True)\n",
    "import seaborn as sns\n",
    "sns.set_style('whitegrid')\n",
    "sns.set_context('poster')"
   ]
  },
  {
   "cell_type": "code",
   "execution_count": 3,
   "metadata": {},
   "outputs": [],
   "source": [
    "import os\n",
    "# Get\n",
    "os.getcwd()\n",
    "# Change\n",
    "os.chdir('/Users/dcox/EWAS age premade')"
   ]
  },
  {
   "cell_type": "markdown",
   "metadata": {},
   "source": [
    "## Must Set Tissue of Interest"
   ]
  },
  {
   "cell_type": "code",
   "execution_count": 4,
   "metadata": {},
   "outputs": [],
   "source": [
    "tissue_of_interest = 'whole blood'"
   ]
  },
  {
   "cell_type": "markdown",
   "metadata": {},
   "source": [
    "## Load other models of cpg lists (optional)"
   ]
  },
  {
   "cell_type": "code",
   "execution_count": 5,
   "metadata": {},
   "outputs": [],
   "source": [
    "# import pickle\n",
    "\n",
    "# with open('mod_lg_best_dropNA_XGboost50', 'rb') as fp:\n",
    "#     mod_lg_best_dropNA_XGboost50 = pickle.load(fp)\n",
    "    \n",
    "# with open('Top100cpgs_dropNA_XGboost50', 'rb') as fp:\n",
    "#     Top100cpgs_dropNA_XGboost50 = pickle.load(fp)\n",
    "       \n",
    "# with open('Top42_common_dropNA_corr1000_XGboost50', 'rb') as fp:\n",
    "#     Top42_common_dropNA_corr1000_XGboost50 = pickle.load(fp) \n",
    "\n",
    "# with open('mod_lg_best_dropNA_42common', 'rb') as fp:\n",
    "#     mod_lg_best_dropNA_42common = pickle.load(fp)"
   ]
  },
  {
   "cell_type": "markdown",
   "metadata": {},
   "source": [
    "## Functions for Modeling"
   ]
  },
  {
   "cell_type": "code",
   "execution_count": 6,
   "metadata": {},
   "outputs": [],
   "source": [
    "def test_model_on_heldout_data(X_saved, y_saved, model, mtype='Linear Regression', figsize=(8,4), xlim=None):\n",
    "    \n",
    "    # Using  model to make predictions on saved data\n",
    "    preds_on_saved = model.predict(X_saved)\n",
    "    MSE_test = mean_squared_error(y_saved, preds_on_saved)\n",
    "    rms_test = (mean_squared_error(y_saved, preds_on_saved))**0.5\n",
    "    r2_test = r2_score(y_saved, preds_on_saved)\n",
    "    MAE_test = mean_absolute_error(y_saved, preds_on_saved)\n",
    "    r_test_corr = np.corrcoef(y_saved, preds_on_saved)[0,1] # preds_on_saved\n",
    "    \n",
    "    # Plotting results\n",
    "    model_type = mtype\n",
    "\n",
    "    fig, ax = plt.subplots(1,1, figsize=figsize)\n",
    "    ax.scatter(y_saved, preds_on_saved, alpha=0.5)\n",
    "    ax.plot(range(20,100), range(20,100), c='red')\n",
    "    ax.set_xlabel('True Age')\n",
    "    if xlim !=None:\n",
    "        ax.set_xlim(xlim[0], xlim[1])\n",
    "    ax.set_ylabel('Predicted Age')\n",
    "    ax.grid(True, lw=1.5, ls='--', alpha=0.75)\n",
    "    ax.set_title(f'{model_type} on Held Out Data')\n",
    "    plt.show()\n",
    "\n",
    "    # print metric\n",
    "    print(f'The MSE on the saved data is {MSE_test:.3f} years')\n",
    "    print(f'The rms on the saved data is {rms_test:.3f} years')\n",
    "    print(f'The r^2 on the saved data is {r2_test:.3f}')\n",
    "    print(f'The mae on the saved data is {MAE_test:.3f} years')\n",
    "    print(f'The correlation on the held out data true-predicted is {r_test_corr:.3f}')\n",
    "    \n",
    "    return preds_on_saved, MSE_test, rms_test, r2_test, MAE_test, r_test_corr"
   ]
  },
  {
   "cell_type": "code",
   "execution_count": 7,
   "metadata": {},
   "outputs": [],
   "source": [
    "# Run Linear Regression model and plot and print results\n",
    "from sklearn.linear_model import LinearRegression\n",
    "def linear_regress(X_train, y_train, X_test, y_test, plot=True):\n",
    "    \n",
    "    #Build fit model\n",
    "    mod = LinearRegression(fit_intercept=True, normalize=False, copy_X=True, n_jobs='None')\n",
    "    mod.fit(X_train, y_train)\n",
    "    \n",
    "    # Make predictions and evaluate\n",
    "    preds_train = mod.predict(X_train)\n",
    "    preds_test = mod.predict(X_test)\n",
    "    rms_train = (mean_squared_error(y_train, preds_train))**0.5\n",
    "    rms_test = (mean_squared_error(y_test, preds_test))**0.5\n",
    "    r2_train = r2_score(y_train, preds_train)\n",
    "    r2_test = r2_score(y_test, preds_test)\n",
    "    mae_train = mean_absolute_error(y_train, preds_train)\n",
    "    mae_test = mean_absolute_error(y_test, preds_test)\n",
    "    \n",
    "    # Plot progress over epochs and final true vs predicted age\n",
    "    if plot:\n",
    "        fig, ax = plt.subplots(1,2, figsize=(16,4))\n",
    "        ax[0].scatter(y_train, preds_train, alpha=0.5)\n",
    "        ax[0].plot(range(20,100), range(20,100), c='red')\n",
    "        ax[0].set_xlabel('True Age')\n",
    "        ax[0].set_ylabel('Predicted Age')\n",
    "        ax[0].grid(True, lw=1.5, ls='--', alpha=0.75)\n",
    "        ax[0].set_title('Linear Regression on training data')\n",
    "\n",
    "        ax[1].scatter(y_test, preds_test, alpha=0.5)\n",
    "        ax[1].plot(range(20,100), range(20,100), c='red')\n",
    "        ax[1].set_xlabel('True Age')\n",
    "        ax[1].set_ylabel('Predicted Age')\n",
    "        ax[1].grid(True, lw=1.5, ls='--', alpha=0.75)\n",
    "        ax[1].set_title('Linear Regression')\n",
    "        ax[1].set_xlim(10, 110)\n",
    "        ax[1].set_ylim(10, 110)\n",
    "        plt.show()\n",
    "    \n",
    "    # print metric\n",
    "    print(f'The rms on the training data is {rms_train:.3f} years')\n",
    "    print(f'The rms on the testing data is {rms_test:.3f} years')\n",
    "    print(f'The r^2 on the training data is {r2_train:.3f}')\n",
    "    print(f'The r^2 on the testing data is {r2_test:.3f}')\n",
    "    print(f'The MAe on the training data is {mae_train:.3f} years')\n",
    "    print(f'The MAE on the testing data is {mae_test:.3f}')\n",
    "    \n",
    "    \n",
    "    return mod, rms_train, rms_test, r2_train, r2_test"
   ]
  },
  {
   "cell_type": "code",
   "execution_count": 8,
   "metadata": {},
   "outputs": [],
   "source": [
    "# Function for running XGboost regression and print results\n",
    "from xgboost import XGBRegressor\n",
    "def xgboost_regress(X_train, y_train, X_test, y_test, early_stopping_rounds=None, plot=True):\n",
    "    \n",
    "    #Build fit model\n",
    "    XG = XGBRegressor(objective='reg:squarederror',\n",
    "                    n_estimators=200,\n",
    "                    min_child_weight=1,\n",
    "                    max_depth=3,\n",
    "                    subsample=0.7,\n",
    "                    colsample_bytree=0.5,\n",
    "                    learning_rate=0.1)\n",
    "    \n",
    "    eval_set = [(X_train, y_train),(X_test, y_test)]\n",
    "    XG.fit(X_train, y_train, eval_metric=\"rmse\", early_stopping_rounds = early_stopping_rounds, eval_set=eval_set, verbose=False)\n",
    "    \n",
    "    \n",
    "    # Make predictions and evaluate\n",
    "    preds_train = XG.predict(X_train)\n",
    "    preds_test = XG.predict(X_test)\n",
    "    rms_train = (mean_squared_error(y_train, preds_train))**0.5\n",
    "    rms_test = (mean_squared_error(y_test, preds_test))**0.5\n",
    "    r2_train = r2_score(y_train, preds_train)\n",
    "    r2_test = r2_score(y_test, preds_test)\n",
    "    mae_train = mean_absolute_error(y_train, preds_train)\n",
    "    mae_test = mean_absolute_error(y_test, preds_test)\n",
    "    results = XG.evals_result()\n",
    "    epochs = len(results['validation_0']['rmse'])\n",
    "    \n",
    "    # Plot progress over epochs and final true vs predicted age\n",
    "    if plot:\n",
    "#         fig, ax = plt.subplots(1,3, figsize=(16,3.5))\n",
    "#         ax[0].scatter(y_train, preds_train, alpha=0.5)\n",
    "#         ax[0].plot(range(20,100), range(20,100), c='red')\n",
    "#         ax[0].set_xlabel('True Age')\n",
    "#         ax[0].set_ylabel('Predicted Age')\n",
    "#         ax[0].grid(True, lw=1.5, ls='--', alpha=0.75)\n",
    "#         ax[0].set_title('XGboost on training data')\n",
    "\n",
    "#         ax[1].scatter(y_test, preds_test, alpha=0.5)\n",
    "#         ax[1].plot(range(20,100), range(20,100), c='red')\n",
    "#         ax[1].set_xlabel('True Age')\n",
    "#         ax[1].set_ylabel('Predicted Age')\n",
    "#         ax[1].grid(True, lw=1.5, ls='--', alpha=0.75)\n",
    "#         ax[1].set_title('XGboost')\n",
    "\n",
    "#         x_axis = range(0, epochs)\n",
    "#         ax[2].plot(x_axis, results['validation_0']['rmse'], label='Train')\n",
    "#         ax[2].plot(x_axis, results['validation_1']['rmse'], label='Test')\n",
    "#         ax[2].legend()\n",
    "#         ax[2].set_ylabel('rms')\n",
    "#         ax[2].set_xlabel('epoch')\n",
    "#         ax[2].set_title('XGBoost rms')\n",
    "#         plt.show()\n",
    "        \n",
    "        fig, ax = plt.subplots(1,2, figsize=(15,4))\n",
    "        ax[0].scatter(y_train, preds_train, alpha=0.5)\n",
    "        ax[0].plot(range(20,100), range(20,100), c='red')\n",
    "        ax[0].set_xlabel('True Age')\n",
    "        ax[0].set_ylabel('Predicted Age')\n",
    "        ax[0].grid(True, lw=1.5, ls='--', alpha=0.75)\n",
    "        ax[0].set_title('XGboost on training data')\n",
    "\n",
    "        ax[1].scatter(y_test, preds_test, alpha=0.5)\n",
    "        ax[1].plot(range(20,100), range(20,100), c='red')\n",
    "        ax[1].set_xlabel('True Age')\n",
    "        ax[1].set_ylabel('Predicted Age')\n",
    "        ax[1].grid(True, lw=1.5, ls='--', alpha=0.75)\n",
    "        ax[1].set_title('XGboost')\n",
    "        ax[1].set_xlim(10, 110)\n",
    "        ax[1].set_ylim(10, 110)\n",
    "\n",
    "        plt.show()\n",
    "    \n",
    "    # print metric\n",
    "    print(f'The number of training epochs was {epochs}')\n",
    "    print(f'The rms on the training data is {rms_train:.3f} years')\n",
    "    print(f'The rms on the testing data is {rms_test:.3f} years')\n",
    "    print(f'The r^2 on the training data is {r2_train:.3f}')\n",
    "    print(f'The r^2 on the testing data is {r2_test:.3f}')\n",
    "    print(f'The MAE on the training data is {mae_train:.3f} years')\n",
    "    print(f'The MAE on the testing data is {mae_test:.3f} years')\n",
    "    \n",
    "    \n",
    "    return preds_train, preds_test, XG, rms_train, rms_test, r2_train, r2_test, XG.feature_importances_"
   ]
  },
  {
   "cell_type": "code",
   "execution_count": 9,
   "metadata": {},
   "outputs": [],
   "source": [
    "# Function for running a ridge Regression model with CV on alpha\n",
    "# and plot and print results\n",
    "from sklearn.linear_model import RidgeCV\n",
    "def ridgeCV_regress(X_train, y_train, X_test, y_test, plot=True, alphas=[1e-5, 1e-4, 1e-3, 1e-2, 1e-1, 1, 1e1, 1e2, 1e3, 1e4, 1e5],cv=5):\n",
    "\n",
    "    #Build fit model\n",
    "    mod = mod = RidgeCV(alphas=alphas,cv=cv)\n",
    "    mod.fit(X_train, y_train)\n",
    "    \n",
    "    # Make predictions and evaluate\n",
    "    preds_train = mod.predict(X_train)\n",
    "    preds_test = mod.predict(X_test)\n",
    "    rms_train = (mean_squared_error(y_train, preds_train))**0.5\n",
    "    rms_test = (mean_squared_error(y_test, preds_test))**0.5\n",
    "    r2_train = r2_score(y_train, preds_train)\n",
    "    r2_test = r2_score(y_test, preds_test)\n",
    "    mae_train = mean_absolute_error(y_train, preds_train)\n",
    "    mae_test = mean_absolute_error(y_test, preds_test)\n",
    "    \n",
    "    # Plot final true vs predicted age\n",
    "    if plot:\n",
    "        fig, ax = plt.subplots(1,2, figsize=(15,4))\n",
    "        ax[0].scatter(y_train, preds_train, alpha=0.5)\n",
    "        ax[0].plot(range(20,100), range(20,100), c='red')\n",
    "        ax[0].set_xlabel('True Age')\n",
    "        ax[0].set_ylabel('Predicted Age')\n",
    "        ax[0].grid(True, lw=1.5, ls='--', alpha=0.75)\n",
    "        ax[0].set_title('Ridge Regression on training data')\n",
    "\n",
    "        ax[1].scatter(y_test, preds_test, alpha=0.5)\n",
    "        ax[1].plot(range(20,100), range(20,100), c='red')\n",
    "        ax[1].set_xlabel('True Age')\n",
    "        ax[1].set_ylabel('Predicted Age')\n",
    "        ax[1].grid(True, lw=1.5, ls='--', alpha=0.75)\n",
    "        ax[1].set_title('Ridge Regression')\n",
    "        plt.show()\n",
    "    \n",
    "    # print metric\n",
    "    print(f'The rms on the training data is {rms_train:.3f} years')\n",
    "    print(f'The rms on the testing data is {rms_test:.3f} years')\n",
    "    print(f'The r^2 on the training data is {r2_train:.3f}')\n",
    "    print(f'The r^2 on the testing data is {r2_test:.3f}')\n",
    "    print(f'The MAE on the training data is {mae_train:.3f} years')\n",
    "    print(f'The MAE on the testing data is {mae_test:.3f} years')\n",
    "    print(f'Optimal alpha from CV = {mod.alpha_}')\n",
    "    \n",
    "    return mod, rms_train, rms_test, r2_train, r2_test"
   ]
  },
  {
   "cell_type": "code",
   "execution_count": 10,
   "metadata": {},
   "outputs": [],
   "source": [
    "# Function for running a lasso Regression model with CV on alpha\n",
    "# and plot and print results\n",
    "from sklearn.linear_model import LassoCV\n",
    "def lassoCV_regress(X_train, y_train, X_test, y_test, plot=True, alphas=[1e-5, 1e-4, 1e-3, 1e-2, 1e-1, 1, 1e1, 1e2, 1e3, 1e4, 1e5],cv=5):\n",
    "\n",
    "    #Build fit model\n",
    "    mod = mod = LassoCV(alphas=alphas,cv=cv)\n",
    "    mod.fit(X_train, y_train)\n",
    "    \n",
    "    # Make predictions and evaluate\n",
    "    preds_train = mod.predict(X_train)\n",
    "    preds_test = mod.predict(X_test)\n",
    "    rms_train = (mean_squared_error(y_train, preds_train))**0.5\n",
    "    rms_test = (mean_squared_error(y_test, preds_test))**0.5\n",
    "    r2_train = r2_score(y_train, preds_train)\n",
    "    r2_test = r2_score(y_test, preds_test)\n",
    "    mae_train = mean_absolute_error(y_train, preds_train)\n",
    "    mae_test = mean_absolute_error(y_test, preds_test)\n",
    "    \n",
    "    # Plot final true vs predicted age\n",
    "    if plot:\n",
    "        fig, ax = plt.subplots(1,2, figsize=(15,4))\n",
    "        ax[0].scatter(y_train, preds_train, alpha=0.5)\n",
    "        ax[0].plot(range(20,100), range(20,100), c='red')\n",
    "        ax[0].set_xlabel('True Age')\n",
    "        ax[0].set_ylabel('Predicted Age')\n",
    "        ax[0].grid(True, lw=1.5, ls='--', alpha=0.75)\n",
    "        ax[0].set_title('Lasso Regression on training data')\n",
    "\n",
    "        ax[1].scatter(y_test, preds_test, alpha=0.5)\n",
    "        ax[1].plot(range(20,100), range(20,100), c='red')\n",
    "        ax[1].set_xlabel('True Age')\n",
    "        ax[1].set_ylabel('Predicted Age')\n",
    "        ax[1].grid(True, lw=1.5, ls='--', alpha=0.75)\n",
    "        ax[1].set_title('Lasso Regression')\n",
    "        plt.show()\n",
    "    \n",
    "    # print metric\n",
    "    print(f'The rms on the training data is {rms_train:.3f} years')\n",
    "    print(f'The rms on the testing data is {rms_test:.3f} years')\n",
    "    print(f'The r^2 on the training data is {r2_train:.3f}')\n",
    "    print(f'The r^2 on the testing data is {r2_test:.3f}')\n",
    "    print(f'The MAE on the training data is {mae_train:.3f} years')\n",
    "    print(f'The MAE on the testing data is {mae_test:.3f} years')\n",
    "    print(f'Optimal alpha from CV = {mod.alpha_}')\n",
    "    \n",
    "    return mod, rms_train, rms_test, r2_train, r2_test"
   ]
  },
  {
   "cell_type": "code",
   "execution_count": 11,
   "metadata": {},
   "outputs": [],
   "source": [
    "# repeat_XGBoost numtrials times using a different split each time \n",
    "# returns importance scores for each run in a df \n",
    "def repeat_XGBoost(df_processed, numtrials, early_stopping_rounds = 10, test_size=0.20):\n",
    "    X = df_processed.iloc[:,5:]\n",
    "    y = df_processed.age\n",
    "    importances = []\n",
    "    rms_train = []\n",
    "    rms_test = []\n",
    "    r2_train = []\n",
    "    r2_test = []\n",
    "    for i in range(numtrials): \n",
    "        X_train, X_test, y_train, y_test = train_test_split(X, y, test_size=test_size)\n",
    "        \n",
    "        XG = XGBRegressor(objective='reg:squarederror',\n",
    "                    n_estimators=200,\n",
    "                    min_child_weight=1,\n",
    "                    max_depth=3,\n",
    "                    subsample=0.7,\n",
    "                    colsample_bytree=0.5,\n",
    "                    learning_rate=0.1)\n",
    "    \n",
    "        eval_set = [(X_train, y_train),(X_test, y_test)]\n",
    "        XG.fit(X_train, y_train, eval_metric=\"rmse\", early_stopping_rounds = early_stopping_rounds, eval_set=eval_set, verbose=False)\n",
    "        \n",
    "        preds_train = XG.predict(X_train)\n",
    "        preds_test = XG.predict(X_test)\n",
    "        rms_train.append((mean_squared_error(y_train, preds_train))**0.5)\n",
    "        rms_test.append((mean_squared_error(y_test, preds_test))**0.5)\n",
    "        r2_train.append(r2_score(y_train, preds_train))\n",
    "        r2_test.append(r2_score(y_test, preds_test))\n",
    "        print(i+1, f'r^2 test = {r2_score(y_test, preds_test)}')\n",
    "        importances.append(XG.feature_importances_)\n",
    "    df_imp = pd.DataFrame(importances, columns = df_processed.columns[5:])\n",
    "    df_imp = df_imp.transpose()\n",
    "    cols = []\n",
    "    for i in range(1,numtrials+1):\n",
    "        cols.append('trial_'+str(i))\n",
    "    df_imp.columns = cols\n",
    "    df_imp['Mean'] = df_imp.mean(axis=1)\n",
    "    df_imp['Std'] = df_imp.std(axis=1)\n",
    "    return df_imp, rms_train, rms_test, r2_train, r2_test\n",
    "\n",
    "# Takes df of importance scores produced by repeat_XGBoost and sorts by mean imp score\n",
    "def importances_sorted_by_mean(df_imp):\n",
    "    df_imp_sorted = df_imp.sort_values('Mean', ascending=False)\n",
    "    return df_imp_sorted\n",
    "\n",
    "# Makes a histogram of the frequecy of cgs in the top (top_num) importance scores\n",
    "def histogram_of_top_CpGs_by_importance(df_imp, top_num=20):\n",
    "    vs = []\n",
    "    inds = []\n",
    "    for col in df_imp.columns[:-2]:\n",
    "        c = df_imp[col].sort_values(ascending=False)\n",
    "        vs.append(c[:top_num])\n",
    "        inds  = inds + list(c.index[:top_num])\n",
    "    h = pd.Series(inds).value_counts()\n",
    "    # Plotting the first 100 importance scores\n",
    "    plt.figure(figsize = (30, 12))\n",
    "    plt.bar(h.index[:100],h[:100])\n",
    "    plt.title('Frequency of CpGs in the top 100 importances')\n",
    "    plt.ylabel('Frequency')\n",
    "    plt.xlabel('CpG')\n",
    "    plt.xticks(fontsize = 16, rotation=90)\n",
    "    plt.show()\n",
    "    return inds, vs, h"
   ]
  },
  {
   "cell_type": "markdown",
   "metadata": {},
   "source": [
    "### Function for loading data file and writing subset file by tissue, uses csv package for speed, not pandas"
   ]
  },
  {
   "cell_type": "code",
   "execution_count": 12,
   "metadata": {},
   "outputs": [],
   "source": [
    "import math\n",
    "import csv\n",
    "import re\n",
    "\n",
    "def findElements(lst1, lst2):\n",
    "    '''\n",
    "    returns a list of those elements in list1 that are at the position indices given in list2\n",
    "    '''\n",
    "    return [lst1[i] for i in lst2] \n",
    "\n",
    "def read_write_age_data_by_tissue(file_in, file_out, search_term, num_rows='all'):\n",
    "    '''\n",
    "    Built to operate on the EWAS aging dataset text file named 'age_methylation_v1.txt'\n",
    "    \n",
    "    Takes an input csv file, a file name to write to, and a search term which should equal a type of tissue \n",
    "    in the tissue row of the data (3rd row).\n",
    "    \n",
    "    Writes to a csv file the input data but containingg only the columns with tissue containing any where in it\n",
    "    the search term\n",
    "    \n",
    "    params: \n",
    "        file_in (string) (file.csv) path to some existing csv file to read\n",
    "        file_out (string) name of csv file to write \n",
    "        search_term (string) term to search for in tissue row\n",
    "        \n",
    "    returns:\n",
    "        None\n",
    "    '''\n",
    "    with open(file_in, 'r') as file_in:\n",
    "\n",
    "        csv_in = csv.reader(file_in,delimiter= '\\t')\n",
    "\n",
    "        header = next(csv_in)\n",
    "        age = next(csv_in)\n",
    "        tissue = next(csv_in)\n",
    "       \n",
    "        indices = [0]\n",
    "        for i, element in enumerate(tissue):\n",
    "            if re.search(search_term, element):\n",
    "                indices.append(i)\n",
    "            \n",
    "        if len(indices) == 0:\n",
    "            print('Tissue not found')\n",
    "            return None \n",
    "        \n",
    "        with open(file_out, 'w') as f_out:\n",
    "            line_list = []\n",
    "            csv_out = csv.writer(f_out)\n",
    "\n",
    "            new_header =  findElements(header, indices)\n",
    "            new_age =  findElements(age, indices)\n",
    "            new_tissue =  findElements(tissue, indices)\n",
    "\n",
    "            csv_out.writerow(new_header)\n",
    "            #csv_out.writerow(new_age)\n",
    "            #csv_out.writerow(new_tissue)\n",
    "\n",
    "            count = 0\n",
    "            if num_rows=='all':\n",
    "                for line in csv_in:\n",
    "                    save = findElements(line, indices)\n",
    "                    csv_out.writerow(save)\n",
    "                    count +=1\n",
    "                    if count%10000 == 0:\n",
    "                        print(f'finished line {count}')\n",
    "            else:\n",
    "                for line in csv_in:\n",
    "                    if count >= num_rows:\n",
    "                        break\n",
    "                    else:\n",
    "                        save = findElements(line, indices)\n",
    "                        csv_out.writerow(save)\n",
    "                        count +=1\n",
    "                        if count%10000 == 0:\n",
    "                            print(f'finished line {count}')\n",
    "        return new_header, new_age, new_tissue\n",
    "\n",
    "        print(f'\\n{count} lines sent to file {file_out} with the tissue field containing {search_term}')"
   ]
  },
  {
   "cell_type": "markdown",
   "metadata": {},
   "source": [
    "## Loading Data to dataframe"
   ]
  },
  {
   "cell_type": "markdown",
   "metadata": {},
   "source": [
    "### Read data file and write new file with data from the selected tissue"
   ]
  },
  {
   "cell_type": "code",
   "execution_count": 13,
   "metadata": {},
   "outputs": [
    {
     "data": {
      "text/plain": [
       "'./age_methylation_v1/whole blood_age_methylation_v1.txt'"
      ]
     },
     "execution_count": 13,
     "metadata": {},
     "output_type": "execute_result"
    }
   ],
   "source": [
    "'./age_methylation_v1/'+ tissue_of_interest + '_age_methylation_v1.txt'"
   ]
  },
  {
   "cell_type": "code",
   "execution_count": 14,
   "metadata": {},
   "outputs": [
    {
     "name": "stdout",
     "output_type": "stream",
     "text": [
      "finished line 10000\n",
      "finished line 20000\n",
      "finished line 30000\n",
      "finished line 40000\n",
      "finished line 50000\n",
      "finished line 60000\n",
      "finished line 70000\n",
      "finished line 80000\n",
      "finished line 90000\n",
      "finished line 100000\n",
      "finished line 110000\n",
      "finished line 120000\n",
      "finished line 130000\n",
      "finished line 140000\n",
      "finished line 150000\n",
      "finished line 160000\n",
      "finished line 170000\n",
      "finished line 180000\n",
      "finished line 190000\n",
      "finished line 200000\n",
      "finished line 210000\n",
      "finished line 220000\n",
      "finished line 230000\n",
      "finished line 240000\n",
      "finished line 250000\n",
      "finished line 260000\n",
      "finished line 270000\n",
      "finished line 280000\n",
      "finished line 290000\n",
      "finished line 300000\n",
      "finished line 310000\n",
      "finished line 320000\n",
      "finished line 330000\n",
      "finished line 340000\n",
      "finished line 350000\n",
      "finished line 360000\n",
      "finished line 370000\n",
      "finished line 380000\n",
      "finished line 390000\n",
      "finished line 400000\n",
      "finished line 410000\n",
      "finished line 420000\n",
      "finished line 430000\n",
      "finished line 440000\n",
      "finished line 450000\n",
      "finished line 460000\n",
      "finished line 470000\n",
      "finished line 480000\n",
      "CPU times: user 7min 27s, sys: 11.3 s, total: 7min 39s\n",
      "Wall time: 10min 15s\n"
     ]
    }
   ],
   "source": [
    "%%time\n",
    "# Writing data to a file with the above function selecting out a certain tissue\n",
    "file_out = './age_methylation_v1/'+ tissue_of_interest + '_age_methylation_v1.txt'\n",
    "new_header, new_age, new_tissue = read_write_age_data_by_tissue('./age_methylation_v1/age_methylation_v1.txt', file_out, tissue_of_interest, num_rows='all')"
   ]
  },
  {
   "cell_type": "markdown",
   "metadata": {},
   "source": [
    "### Read back in data in chunks and combine to new dataframe"
   ]
  },
  {
   "cell_type": "code",
   "execution_count": null,
   "metadata": {},
   "outputs": [],
   "source": [
    "%%time\n",
    "# Reading data back in in chunks\n",
    "import warnings\n",
    "warnings.simplefilter(action='ignore', category=Warning)\n",
    "\n",
    "chunksize = 10000\n",
    "dfs = []\n",
    "df_chunk = pd.read_csv(file_out, header=0, chunksize=chunksize)\n",
    "for chunk in df_chunk:\n",
    "    dfs.append(chunk)"
   ]
  },
  {
   "cell_type": "code",
   "execution_count": null,
   "metadata": {},
   "outputs": [],
   "source": [
    "%%time\n",
    "# Combining chunks into 1 dataframe\n",
    "df = pd.concat(dfs).set_index('sample_id') "
   ]
  },
  {
   "cell_type": "code",
   "execution_count": null,
   "metadata": {},
   "outputs": [],
   "source": [
    "df.shape"
   ]
  },
  {
   "cell_type": "markdown",
   "metadata": {},
   "source": [
    "### Transpose dataframe so cpgs are columns, and add columns for age and tissue saved from the write operation"
   ]
  },
  {
   "cell_type": "code",
   "execution_count": null,
   "metadata": {},
   "outputs": [],
   "source": [
    "%%time\n",
    "# transposing dataframe\n",
    "df_t = df.transpose()"
   ]
  },
  {
   "cell_type": "code",
   "execution_count": null,
   "metadata": {},
   "outputs": [],
   "source": [
    "# Inserting columns for tissue and age and setting age dtype to float and then rounding to int\n",
    "df_t.insert(0, 'age', new_age[1:])\n",
    "df_t.insert(0, 'tissue', new_tissue[1:])\n",
    "df_t.age = df_t.age.astype('float')\n",
    "df_t.age = df_t.age.apply(np.rint)\n",
    "df_t.age = df_t.age.astype('int64')"
   ]
  },
  {
   "cell_type": "code",
   "execution_count": null,
   "metadata": {},
   "outputs": [],
   "source": [
    "df_t.shape"
   ]
  },
  {
   "cell_type": "code",
   "execution_count": null,
   "metadata": {},
   "outputs": [],
   "source": [
    "df_t.tissue.value_counts()"
   ]
  },
  {
   "cell_type": "markdown",
   "metadata": {},
   "source": [
    "### Dealing with NAs, remove columns with more than 25% NAs, Impute the rest with mean of columns"
   ]
  },
  {
   "cell_type": "code",
   "execution_count": null,
   "metadata": {},
   "outputs": [],
   "source": [
    "%%time\n",
    "#looking at a histogram of the percent NAs for the columns\n",
    "num_nans_hist = 100 * df_t.isna().sum(axis=0)/df_t.shape[0]\n",
    "num_nans_hist.hist(bins=100)\n",
    "plt.xlabel('% NA')\n",
    "plt.ylabel('count')\n",
    "#plt.ylim(0,50000)"
   ]
  },
  {
   "cell_type": "markdown",
   "metadata": {},
   "source": [
    "#### Drop all columns with  NAs > 25% of values , then imput with mean of column"
   ]
  },
  {
   "cell_type": "code",
   "execution_count": null,
   "metadata": {},
   "outputs": [],
   "source": [
    "# remove columns with more than 25% NAs\n",
    "df_processed_imp = df_t.dropna(thresh = 0.75*df_t.shape[0], axis=1)"
   ]
  },
  {
   "cell_type": "code",
   "execution_count": null,
   "metadata": {},
   "outputs": [],
   "source": [
    "df_processed_imp.shape"
   ]
  },
  {
   "cell_type": "code",
   "execution_count": null,
   "metadata": {},
   "outputs": [],
   "source": [
    "%%time\n",
    "# Impute all values with column mean\n",
    "df_processed_imp = df_processed_imp.fillna(df_processed_imp.mean())"
   ]
  },
  {
   "cell_type": "code",
   "execution_count": null,
   "metadata": {},
   "outputs": [],
   "source": [
    "%%time\n",
    "# df_processed_imp.to_csv('df_EWAS_aging_whole_blood_Imputated_with_mean')"
   ]
  },
  {
   "cell_type": "markdown",
   "metadata": {},
   "source": [
    "### Selecting out samples with ages over 20 years old"
   ]
  },
  {
   "cell_type": "code",
   "execution_count": null,
   "metadata": {},
   "outputs": [],
   "source": [
    "# Selecting out samples with age > 20\n",
    "df_processed_imp_over20 = df_processed_imp[df_processed_imp.age >=20]"
   ]
  },
  {
   "cell_type": "markdown",
   "metadata": {},
   "source": [
    "### Histogram of ages in data"
   ]
  },
  {
   "cell_type": "code",
   "execution_count": null,
   "metadata": {},
   "outputs": [],
   "source": [
    "# Histogram of ages in data\n",
    "plt.figure(figsize = (6,4))\n",
    "df_processed_imp_over20.age.hist(bins=20)\n",
    "plt.xlabel('Age')\n",
    "plt.ylabel('Frequency')\n",
    "plt.title('Histogram of Ages')\n",
    "plt.show()"
   ]
  },
  {
   "cell_type": "markdown",
   "metadata": {},
   "source": [
    "### Dividing data into working and saved parts (75/25 split)"
   ]
  },
  {
   "cell_type": "code",
   "execution_count": null,
   "metadata": {},
   "outputs": [],
   "source": [
    "df_processed_imp_over20.shape"
   ]
  },
  {
   "cell_type": "code",
   "execution_count": null,
   "metadata": {},
   "outputs": [],
   "source": [
    "# Splitting data into Working and Saved by random selection of rows\n",
    "\n",
    "import random\n",
    "\n",
    "num_samples = df_processed_imp_over20.shape[0]\n",
    "num_for_saving = int(round(df_processed_imp_over20.shape[0]*.25))\n",
    "\n",
    "np.random.seed(2021)\n",
    "\n",
    "saved_index = np.random.choice(np.arange(num_samples), size=num_for_saving, replace=False)\n",
    "keep_index = []\n",
    "for num in range(num_samples):\n",
    "    if num not in saved_index:\n",
    "        keep_index.append(num)\n",
    "\n",
    "df_p_saved = df_processed_imp_over20.iloc[saved_index, :]\n",
    "df_p_working = df_processed_imp_over20.iloc[keep_index, :]"
   ]
  },
  {
   "cell_type": "code",
   "execution_count": null,
   "metadata": {},
   "outputs": [],
   "source": [
    "# Histogram of ages in saved data\n",
    "plt.figure(figsize=(6,4))\n",
    "df_p_working.age.hist(bins=20)\n",
    "plt.xlabel('Age')\n",
    "plt.ylabel('Count')\n",
    "plt.title('Histogram of Ages')\n",
    "plt.show()"
   ]
  },
  {
   "cell_type": "code",
   "execution_count": null,
   "metadata": {},
   "outputs": [],
   "source": [
    "# Histogram of ages in working data\n",
    "plt.figure(figsize=(6,4))\n",
    "df_p_saved.age.hist(bins=20)\n",
    "plt.xlabel('Age')\n",
    "plt.ylabel('Count')\n",
    "plt.title('Histogram of Ages')\n",
    "plt.show()"
   ]
  },
  {
   "cell_type": "code",
   "execution_count": null,
   "metadata": {},
   "outputs": [],
   "source": [
    "df_p_working"
   ]
  },
  {
   "cell_type": "code",
   "execution_count": null,
   "metadata": {},
   "outputs": [],
   "source": [
    "df_p_working = df_p_working.iloc[:500, :]"
   ]
  },
  {
   "cell_type": "markdown",
   "metadata": {},
   "source": [
    "### Running XGboost 50 times to identify top 100 cpgs"
   ]
  },
  {
   "cell_type": "code",
   "execution_count": null,
   "metadata": {},
   "outputs": [],
   "source": [
    "%%time\n",
    "# # Runnin XGboost on working dataset 50 times with 50 different train/test splits\n",
    "# # This can take many hours (on whole blood 10 hrs)\n",
    "# df_imp, rms_train, rms_test, r2_train, r2_test = repeat_XGBoost(df_p_working, 50, test_size=0.20)"
   ]
  },
  {
   "cell_type": "code",
   "execution_count": null,
   "metadata": {},
   "outputs": [],
   "source": [
    "# df_imp"
   ]
  },
  {
   "cell_type": "code",
   "execution_count": null,
   "metadata": {},
   "outputs": [],
   "source": [
    "# write 50 trials results to a file, so don't have to rerun the 50 XGboost trials with the whole dataset again\n",
    "# file = 'df_importance_EWAS_age_' + tissue_of_interest + '_50_trials.csv'\n",
    "#df_imp.to_csv(file)\n",
    "df_imp = pd.read_csv('./blood/df_importance_EWAS_age_whole_blood_50_trials.csv' , index_col=0)"
   ]
  },
  {
   "cell_type": "code",
   "execution_count": null,
   "metadata": {},
   "outputs": [],
   "source": [
    "# Finding cpgs with on average the highest importance scores, see mean columnn in df below\n",
    "df_imp_sorted = importances_sorted_by_mean(df_imp)"
   ]
  },
  {
   "cell_type": "code",
   "execution_count": null,
   "metadata": {},
   "outputs": [],
   "source": [
    "# This function makes a histogram of the frequency of cgs in the top 100 in the 50 trials above\n",
    "inds, vs, h = histogram_of_top_CpGs_by_importance(df_imp, 100)"
   ]
  },
  {
   "cell_type": "code",
   "execution_count": null,
   "metadata": {},
   "outputs": [],
   "source": [
    "cpgs_XGboost_ranked = h.index.values\n",
    "\n",
    "top100 = cpgs_XGboost_ranked[:100]"
   ]
  },
  {
   "cell_type": "markdown",
   "metadata": {},
   "source": [
    "### Finding Optimium number of cpgs for linear regression"
   ]
  },
  {
   "cell_type": "code",
   "execution_count": null,
   "metadata": {},
   "outputs": [],
   "source": [
    "from sklearn.model_selection import cross_val_score\n",
    "\n",
    "mod = LinearRegression(fit_intercept=True, normalize=False, copy_X=True, n_jobs=6)\n",
    "num_cpgs = [10, 20, 30, 50, 100,200,500,1000,2000]\n",
    "\n",
    "mean_scores = []\n",
    "for num in num_cpgs:\n",
    "    X = df_p_working[h.index[:num]]\n",
    "    y = df_p_working.age\n",
    "    ten_scores = cross_val_score(mod, X, y, scoring='neg_mean_squared_error', cv=10)\n",
    "    #print(ten_scores)\n",
    "    mean_scores.append(ten_scores.mean())\n",
    "    print(f'\\nThe top {num} cpgs where used, CV=10')\n",
    "    print(f'mean MSE = {-1*ten_scores.mean():.3f} ± {ten_scores.std():.3f}')\n",
    "    print(f'mean rMSE = {(-1*ten_scores.mean())**0.5:.3f}')"
   ]
  },
  {
   "cell_type": "code",
   "execution_count": null,
   "metadata": {},
   "outputs": [],
   "source": [
    "# printing  values and mean scores from 10-fold CV \n",
    "print('cpgs', 'rMSE')\n",
    "for num, score in zip(num_cpgs, mean_scores):\n",
    "    print(num, f'{(-1*score)**0.5:.3f}')\n",
    "\n",
    "print(f'For linear regression the optimum number of cpgs was found to be {num_cpgs[np.array(mean_scores).argmax()]}')"
   ]
  },
  {
   "cell_type": "markdown",
   "metadata": {},
   "source": [
    "### Better method does not relay on cross-val_score whose splits I don't understand"
   ]
  },
  {
   "cell_type": "code",
   "execution_count": null,
   "metadata": {},
   "outputs": [],
   "source": [
    "# Run linear regression CV=100  nukmber of times for each number of cpgs in the num_cpgs list\n",
    "# and record metrics.\n",
    "\n",
    "from sklearn.metrics import mean_squared_error\n",
    "from sklearn.metrics import mean_absolute_error\n",
    "from sklearn.metrics import r2_score\n",
    "\n",
    "CV=100\n",
    "mod = LinearRegression(fit_intercept=True, normalize=False, copy_X=True, n_jobs=6)\n",
    "num_cpgs = [10, 20, 30, 50, 100,200,500,1000,2000]\n",
    "y = df_p_working.age\n",
    "mean_mses = []\n",
    "mean_rmses = []\n",
    "mean_maes = []\n",
    "mean_r2s = []\n",
    "mean_rsquaes = []\n",
    "std_mses = []\n",
    "std_rmses = []\n",
    "std_maes = []\n",
    "std_r2s = []\n",
    "std_rsquaes = []\n",
    "for num in num_cpgs:\n",
    "    X = df_p_working[h.index[:num]]\n",
    "    mses = []\n",
    "    rmses = []\n",
    "    maes = []\n",
    "    r2s = []\n",
    "    rsquaes = []\n",
    "    for i in range(CV):\n",
    "        X_train, X_test, y_train, y_test = train_test_split(X, y, test_size=0.30)\n",
    "        mod.fit(X_train, y_train)\n",
    "        y_pred = mod.predict(X_test)\n",
    "        MSE = mean_squared_error(y_test, y_pred)\n",
    "        rMSE = mean_squared_error(y_test, y_pred, squared=False)\n",
    "        MAE = mean_absolute_error(y_test, y_pred)\n",
    "        r2 = r2_score(y_test, y_pred)\n",
    "        mses.append(MSE)\n",
    "        rmses.append(rMSE)\n",
    "        maes.append(MAE)\n",
    "        r2s.append(r2)\n",
    "    mean_mses.append(np.array(mses).mean())\n",
    "    mean_rmses.append(np.array(rmses).mean())\n",
    "    mean_maes.append(np.array(maes).mean())\n",
    "    mean_r2s.append(np.array(r2s).mean())\n",
    "    std_mses.append(np.array(mses).std())\n",
    "    std_rmses.append(np.array(rmses).std())\n",
    "    std_maes.append(np.array(maes).std())\n",
    "    std_r2s.append(np.array(r2s).std())\n",
    "    print(f'\\nThe top {num} cpgs where used, CV={CV}')\n",
    "    print(f'mean MSE = {np.array(mses).mean():.3f} ± {np.array(mses).std()/(CV**0.5):.3f} ste')\n",
    "    print(f'mean rMSE = {np.array(rmses).mean():.3f} ± {np.array(rmses).std()/(CV**0.5):.3f} ste')\n",
    "    print(f'mean MAE = {np.array(maes).mean():.3f} ± {np.array(maes).std()/(CV**0.5):.3f} ste')\n",
    "    print(f'mean r2 = {np.array(r2s).mean():.3f} ± {np.array(r2s).std()/(CV**0.5):.3f} ste')"
   ]
  },
  {
   "cell_type": "code",
   "execution_count": null,
   "metadata": {},
   "outputs": [],
   "source": [
    "for num_cpg, rmse in zip(num_cpgs, mean_rmses):\n",
    "    print(f'{num_cpg} , {rmse:.3f}')"
   ]
  },
  {
   "cell_type": "markdown",
   "metadata": {},
   "source": [
    "### Bar plots of results"
   ]
  },
  {
   "cell_type": "code",
   "execution_count": null,
   "metadata": {},
   "outputs": [],
   "source": [
    "num_s = ['10', '20', '30', '50', '100','200','500','1000','2000']"
   ]
  },
  {
   "cell_type": "code",
   "execution_count": null,
   "metadata": {},
   "outputs": [],
   "source": [
    "fz = 12\n",
    "plt.rcdefaults()\n",
    "plt.figure(figsize=(12, 4))\n",
    "ystes = np.array(std_rmses)/CV**0.5\n",
    "plt.bar(num_s, mean_rmses, yerr = ystes)\n",
    "plt.xlabel('Number of Top cpgs by XGboost Cross-validation', fontsize = fz)\n",
    "plt.ylabel('rMSE ± ste', fontsize = fz)\n",
    "plt.title('Linear Regression rMSE as a Function of cpg Number, 100 trials', fontsize = fz)\n",
    "plt.grid(True, lw=1.5, ls='--', alpha=0.75)\n",
    "plt.annotate('eror bars = standard error of mean', (0, 8), fontsize=10)\n"
   ]
  },
  {
   "cell_type": "code",
   "execution_count": null,
   "metadata": {},
   "outputs": [],
   "source": [
    "fz = 12\n",
    "plt.rcdefaults()\n",
    "plt.figure(figsize=(12, 4))\n",
    "ystes = np.array(std_mses)/CV**0.5\n",
    "plt.bar(num_s, mean_mses, yerr = ystes)\n",
    "plt.xlabel('Number of Top cpgs by XGboost Cross-validation', fontsize = fz)\n",
    "plt.ylabel('MSE ± ste', fontsize = fz)\n",
    "plt.title('Linear Regression MSE as a Function of cpg Number, 100 trials', fontsize = fz)\n",
    "plt.grid(True, lw=1.5, ls='--', alpha=0.75)\n",
    "plt.annotate('eror bars = standard error of mean', (0, 70), fontsize=10)"
   ]
  },
  {
   "cell_type": "code",
   "execution_count": null,
   "metadata": {},
   "outputs": [],
   "source": [
    "fz = 12\n",
    "plt.rcdefaults()\n",
    "plt.figure(figsize=(12, 4))\n",
    "ystes = np.array(std_maes)/CV**0.5\n",
    "plt.bar(num_s, mean_maes, yerr = ystes)\n",
    "plt.xlabel('Number of Top cpgs by XGboost Cross-validation', fontsize = fz)\n",
    "plt.ylabel('MAE ± ste', fontsize = fz)\n",
    "plt.title('Linear Regression MAE as a Function of cpg Number, 100 trials', fontsize = fz)\n",
    "plt.grid(True, lw=1.5, ls='--', alpha=0.75)\n",
    "plt.annotate('eror bars = standard error of mean', (0, 6), fontsize=10)"
   ]
  },
  {
   "cell_type": "code",
   "execution_count": null,
   "metadata": {},
   "outputs": [],
   "source": [
    "fz = 12\n",
    "plt.rcdefaults()\n",
    "plt.figure(figsize=(12, 4))\n",
    "ystes = np.array(std_r2s)/CV**0.5\n",
    "plt.bar(num_s, mean_r2s, yerr = ystes)\n",
    "plt.xlabel('Number of Top cpgs by XGboost Cross-validation', fontsize = fz)\n",
    "plt.ylabel('r2 ± ste', fontsize = fz)\n",
    "plt.title('Linear Regression r^2 as a Function of cpg Number, 100 trials', fontsize = fz)\n",
    "plt.grid(True, lw=1.5, ls='--', alpha=0.75)\n",
    "plt.annotate('eror bars = standard error of mean', (0, 0.7), fontsize=10)"
   ]
  },
  {
   "cell_type": "code",
   "execution_count": null,
   "metadata": {},
   "outputs": [],
   "source": [
    "z = 12\n",
    "plt.rcdefaults()\n",
    "plt.figure(figsize=(12, 4))\n",
    "ystes = np.array(std_mses)\n",
    "plt.bar(num_s, mean_mses, yerr = ystes)\n",
    "plt.xlabel('Number of Top cpgs by XGboost Cross-validation', fontsize = fz)\n",
    "plt.ylabel('MSE ± std', fontsize = fz)\n",
    "plt.title('Linear Regression MSE as a Function of cpg Number, 100 trials', fontsize = fz)\n",
    "plt.grid(True, lw=1.5, ls='--', alpha=0.75)\n",
    "plt.annotate('eror bars = standard deviation of mean', (0, 70), fontsize=10)"
   ]
  },
  {
   "cell_type": "code",
   "execution_count": null,
   "metadata": {},
   "outputs": [],
   "source": [
    "z = 12\n",
    "plt.rcdefaults()\n",
    "plt.figure(figsize=(12, 4))\n",
    "ystes = np.array(std_mses)/CV**0.5\n",
    "plt.errorbar(num_cpgs, mean_mses, marker='s', ecolor='r', yerr = ystes,capsize=5)\n",
    "plt.xlabel('Number of Top cpgs by XGboost Cross-validation', fontsize = fz)\n",
    "plt.xticks(range(0,2100,100))\n",
    "plt.ylabel('MSE ± std', fontsize = fz)\n",
    "plt.title('Linear Regression MSE as a Function of cpg Number, 100 trials', fontsize = fz)\n",
    "plt.grid(True, lw=1.5, ls='--', alpha=0.75)\n",
    "plt.annotate('eror bars = standard error', (250, 34), fontsize=10)\n",
    "plt.show()"
   ]
  },
  {
   "cell_type": "code",
   "execution_count": null,
   "metadata": {},
   "outputs": [],
   "source": [
    "z = 12\n",
    "plt.rcdefaults()\n",
    "plt.figure(figsize=(12, 4))\n",
    "ystes = np.array(std_rmses)/CV**0.5\n",
    "plt.errorbar(num_cpgs, mean_rmses, marker='s', ecolor='r', yerr = ystes,capsize=5)\n",
    "plt.xlabel('Number of Top cpgs by XGboost Cross-validation', fontsize = fz)\n",
    "plt.xticks(range(0,2100,100))\n",
    "plt.ylabel('rMSE ± std', fontsize = fz)\n",
    "plt.title('Linear Regression rMSE as a Function of cpg Number, 100 trials', fontsize = fz)\n",
    "plt.grid(True, lw=1.5, ls='--', alpha=0.75)\n",
    "plt.annotate('eror bars = standard error', (700, 7), fontsize=10)\n",
    "plt.show()"
   ]
  },
  {
   "cell_type": "code",
   "execution_count": null,
   "metadata": {},
   "outputs": [],
   "source": [
    "z = 12\n",
    "plt.rcdefaults()\n",
    "plt.figure(figsize=(12, 4))\n",
    "ystes = np.array(std_maes)/CV**0.5\n",
    "plt.errorbar(num_cpgs, mean_maes, marker='s', ecolor='r', yerr = ystes,capsize=5)\n",
    "plt.xlabel('Number of Top cpgs by XGboost Cross-validation', fontsize = fz)\n",
    "plt.xticks(range(0,2100,100))\n",
    "plt.ylabel('MAE ± std', fontsize = fz)\n",
    "plt.title('Linear Regression MAE as a Function of cpg Number, 100 trials', fontsize = fz)\n",
    "plt.grid(True, lw=1.5, ls='--', alpha=0.75)\n",
    "plt.annotate('eror bars = standard error', (700, 7), fontsize=10)\n",
    "plt.show()"
   ]
  },
  {
   "cell_type": "code",
   "execution_count": null,
   "metadata": {},
   "outputs": [],
   "source": [
    "z = 12\n",
    "plt.rcdefaults()\n",
    "plt.figure(figsize=(12, 4))\n",
    "ystes = np.array(std_r2s)/CV**0.5\n",
    "plt.errorbar(num_cpgs, mean_r2s, marker='s', ecolor='r', yerr = ystes,capsize=5)\n",
    "plt.xlabel('Number of Top cpgs by XGboost Cross-validation', fontsize = fz)\n",
    "plt.xticks(range(0,2100,100))\n",
    "plt.ylabel('r^2 ± std', fontsize = fz)\n",
    "plt.title('Linear Regression r^2 as a Function of cpg Number, 100 trials', fontsize = fz)\n",
    "plt.grid(True, lw=1.5, ls='--', alpha=0.75)\n",
    "plt.annotate('eror bars = standard error', (700, 0.90), fontsize=10)\n",
    "plt.show()"
   ]
  },
  {
   "cell_type": "code",
   "execution_count": null,
   "metadata": {},
   "outputs": [],
   "source": []
  }
 ],
 "metadata": {
  "kernelspec": {
   "display_name": "Python 3",
   "language": "python",
   "name": "python3"
  },
  "language_info": {
   "codemirror_mode": {
    "name": "ipython",
    "version": 3
   },
   "file_extension": ".py",
   "mimetype": "text/x-python",
   "name": "python",
   "nbconvert_exporter": "python",
   "pygments_lexer": "ipython3",
   "version": "3.8.3"
  }
 },
 "nbformat": 4,
 "nbformat_minor": 2
}
