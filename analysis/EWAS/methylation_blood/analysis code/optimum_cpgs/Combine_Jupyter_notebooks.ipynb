{
 "cells": [
  {
   "cell_type": "code",
   "execution_count": 1,
   "metadata": {},
   "outputs": [],
   "source": [
    "import os\n",
    "# Get\n",
    "os.getcwd()\n",
    "# Change\n",
    "#os.chdir('/Users/dcox/Dropbox/LDS/Courses/CS_229R/project')"
   ]
  },
  {
   "cell_type": "code",
   "execution_count": 2,
   "metadata": {},
   "outputs": [],
   "source": [
    "import json\n",
    "\n",
    "def combine_ipynb_files(notebooks_to_merge, combined_file_name):\n",
    "    '''\n",
    "    Combines multiple jupyter notebooks into one\n",
    "    \n",
    "    parameters:\n",
    "    notebooks_to_merge (list): an ordered list of your .ipynb files to merge\n",
    "    combined_file_name (string): name of the combined .ipynb file which will be generated.\n",
    "    \n",
    "    '''\n",
    "    with open(notebooks_to_merge[0], mode='r', encoding='utf-8') as f:\n",
    "        a = json.load(f)\n",
    "    \n",
    "        for notebook in notebooks_to_merge[1:]:\n",
    "            with open(notebook, mode='r', encoding='utf-8') as f:\n",
    "                b = json.load(f)\n",
    "                a['cells'].extend(b['cells'])\n",
    "                    # extend here not append so that each dictionary in b['cells']\n",
    "                    # is added to new dictionary in a['cells']\n",
    "                    \n",
    "    with open(combined_file_name, mode='w', encoding='utf-8') as f:\n",
    "        json.dump(a, f)\n"
   ]
  },
  {
   "cell_type": "code",
   "execution_count": 3,
   "metadata": {},
   "outputs": [],
   "source": [
    "combine_ipynb_files(['Project_CS299-D1.ipynb', 'g2-bottom.ipynb'], 'Project_CS299-D1_full.ipynb')"
   ]
  },
  {
   "cell_type": "code",
   "execution_count": null,
   "metadata": {},
   "outputs": [],
   "source": []
  }
 ],
 "metadata": {
  "kernelspec": {
   "display_name": "Python 3",
   "language": "python",
   "name": "python3"
  },
  "language_info": {
   "codemirror_mode": {
    "name": "ipython",
    "version": 3
   },
   "file_extension": ".py",
   "mimetype": "text/x-python",
   "name": "python",
   "nbconvert_exporter": "python",
   "pygments_lexer": "ipython3",
   "version": "3.8.3"
  }
 },
 "nbformat": 4,
 "nbformat_minor": 4
}
