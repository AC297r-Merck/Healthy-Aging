{
 "cells": [
  {
   "cell_type": "markdown",
   "metadata": {},
   "source": [
    "# blood_mapping_top_cpgs_to_genes"
   ]
  },
  {
   "cell_type": "markdown",
   "metadata": {},
   "source": [
    "### This notebook requires a file from illumnia that relates cpgs on their Human 450K microarray to other information. The file's name is: 'HumanMethylation450_15017482_v1-2 2.csv' The file is too large to put on git hub, however it can be downloaded from here: \n",
    "\n",
    "\n",
    "https://support.illumina.com/downloads/humanmethylation450_15017482_v1-2_product_files.html"
   ]
  },
  {
   "cell_type": "markdown",
   "metadata": {},
   "source": [
    "### In this notebook\n",
    "* Load info on cpgs from illumina\n",
    "* Create a dictionary that maps each of oiur top cpgs to its corresponding gene\n",
    "* Create histogram of frequency of genes assocaited with top 100 cpgs"
   ]
  },
  {
   "cell_type": "code",
   "execution_count": 1,
   "metadata": {},
   "outputs": [],
   "source": [
    "%matplotlib inline\n",
    "import numpy as np\n",
    "import scipy as sp\n",
    "import matplotlib as mpl\n",
    "import matplotlib.cm as cm\n",
    "import matplotlib.pyplot as plt\n",
    "import pandas as pd\n",
    "import time\n",
    "pd.set_option('display.width', 500)\n",
    "pd.set_option('display.max_columns', 100)\n",
    "pd.set_option('display.notebook_repr_html', True)\n",
    "import seaborn as sns\n",
    "sns.set_style('whitegrid')\n",
    "sns.set_context('poster')"
   ]
  },
  {
   "cell_type": "markdown",
   "metadata": {},
   "source": [
    "#### Get Ilummina cpg table"
   ]
  },
  {
   "cell_type": "code",
   "execution_count": 2,
   "metadata": {},
   "outputs": [
    {
     "name": "stderr",
     "output_type": "stream",
     "text": [
      "/Users/dcox/opt/anaconda3/lib/python3.8/site-packages/IPython/core/interactiveshell.py:3071: DtypeWarning: Columns (2,4,11,14,15) have mixed types.Specify dtype option on import or set low_memory=False.\n",
      "  has_raised = await self.run_ast_nodes(code_ast.body, cell_name,\n"
     ]
    }
   ],
   "source": [
    "df = pd.read_csv('./illumina_Methylation_Array_info/HumanMethylation450_15017482_v1-2 2.csv', header=7, skipinitialspace=True)"
   ]
  },
  {
   "cell_type": "code",
   "execution_count": 3,
   "metadata": {},
   "outputs": [
    {
     "data": {
      "text/html": [
       "<div>\n",
       "<style scoped>\n",
       "    .dataframe tbody tr th:only-of-type {\n",
       "        vertical-align: middle;\n",
       "    }\n",
       "\n",
       "    .dataframe tbody tr th {\n",
       "        vertical-align: top;\n",
       "    }\n",
       "\n",
       "    .dataframe thead th {\n",
       "        text-align: right;\n",
       "    }\n",
       "</style>\n",
       "<table border=\"1\" class=\"dataframe\">\n",
       "  <thead>\n",
       "    <tr style=\"text-align: right;\">\n",
       "      <th></th>\n",
       "      <th>IlmnID</th>\n",
       "      <th>Name</th>\n",
       "      <th>AddressA_ID</th>\n",
       "      <th>AlleleA_ProbeSeq</th>\n",
       "      <th>AddressB_ID</th>\n",
       "      <th>AlleleB_ProbeSeq</th>\n",
       "      <th>Infinium_Design_Type</th>\n",
       "      <th>Next_Base</th>\n",
       "      <th>Color_Channel</th>\n",
       "      <th>Forward_Sequence</th>\n",
       "      <th>Genome_Build</th>\n",
       "      <th>CHR</th>\n",
       "      <th>MAPINFO</th>\n",
       "      <th>SourceSeq</th>\n",
       "      <th>Chromosome_36</th>\n",
       "      <th>Coordinate_36</th>\n",
       "      <th>Strand</th>\n",
       "      <th>Probe_SNPs</th>\n",
       "      <th>Probe_SNPs_10</th>\n",
       "      <th>Random_Loci</th>\n",
       "      <th>Methyl27_Loci</th>\n",
       "      <th>UCSC_RefGene_Name</th>\n",
       "      <th>UCSC_RefGene_Accession</th>\n",
       "      <th>UCSC_RefGene_Group</th>\n",
       "      <th>UCSC_CpG_Islands_Name</th>\n",
       "      <th>Relation_to_UCSC_CpG_Island</th>\n",
       "      <th>Phantom</th>\n",
       "      <th>DMR</th>\n",
       "      <th>Enhancer</th>\n",
       "      <th>HMM_Island</th>\n",
       "      <th>Regulatory_Feature_Name</th>\n",
       "      <th>Regulatory_Feature_Group</th>\n",
       "      <th>DHS</th>\n",
       "    </tr>\n",
       "  </thead>\n",
       "  <tbody>\n",
       "    <tr>\n",
       "      <th>0</th>\n",
       "      <td>cg00035864</td>\n",
       "      <td>cg00035864</td>\n",
       "      <td>31729416</td>\n",
       "      <td>AAAACACTAACAATCTTATCCACATAAACCCTTAAATTTATCTCAA...</td>\n",
       "      <td>NaN</td>\n",
       "      <td>NaN</td>\n",
       "      <td>II</td>\n",
       "      <td>NaN</td>\n",
       "      <td>NaN</td>\n",
       "      <td>AATCCAAAGATGATGGAGGAGTGCCCGCTCATGATGTGAAGTACCT...</td>\n",
       "      <td>37.0</td>\n",
       "      <td>Y</td>\n",
       "      <td>8553009.0</td>\n",
       "      <td>AGACACTAGCAGTCTTGTCCACATAGACCCTTGAATTTATCTCAAA...</td>\n",
       "      <td>Y</td>\n",
       "      <td>8613009</td>\n",
       "      <td>F</td>\n",
       "      <td>NaN</td>\n",
       "      <td>NaN</td>\n",
       "      <td>NaN</td>\n",
       "      <td>NaN</td>\n",
       "      <td>TTTY18</td>\n",
       "      <td>NR_001550</td>\n",
       "      <td>TSS1500</td>\n",
       "      <td>NaN</td>\n",
       "      <td>NaN</td>\n",
       "      <td>NaN</td>\n",
       "      <td>NaN</td>\n",
       "      <td>NaN</td>\n",
       "      <td>NaN</td>\n",
       "      <td>NaN</td>\n",
       "      <td>NaN</td>\n",
       "      <td>NaN</td>\n",
       "    </tr>\n",
       "    <tr>\n",
       "      <th>1</th>\n",
       "      <td>cg00050873</td>\n",
       "      <td>cg00050873</td>\n",
       "      <td>32735311</td>\n",
       "      <td>ACAAAAAAACAACACACAACTATAATAATTTTTAAAATAAATAAAC...</td>\n",
       "      <td>3.17174e+07</td>\n",
       "      <td>ACGAAAAAACAACGCACAACTATAATAATTTTTAAAATAAATAAAC...</td>\n",
       "      <td>I</td>\n",
       "      <td>A</td>\n",
       "      <td>Red</td>\n",
       "      <td>TATCTCTGTCTGGCGAGGAGGCAACGCACAACTGTGGTGGTTTTTG...</td>\n",
       "      <td>37.0</td>\n",
       "      <td>Y</td>\n",
       "      <td>9363356.0</td>\n",
       "      <td>CGGGGTCCACCCACTCCAAAAACCACCACAGTTGTGCGTTGCCTCC...</td>\n",
       "      <td>Y</td>\n",
       "      <td>9973356</td>\n",
       "      <td>R</td>\n",
       "      <td>NaN</td>\n",
       "      <td>NaN</td>\n",
       "      <td>NaN</td>\n",
       "      <td>NaN</td>\n",
       "      <td>TSPY4;FAM197Y2</td>\n",
       "      <td>NM_001164471;NR_001553</td>\n",
       "      <td>Body;TSS1500</td>\n",
       "      <td>chrY:9363680-9363943</td>\n",
       "      <td>N_Shore</td>\n",
       "      <td>NaN</td>\n",
       "      <td>NaN</td>\n",
       "      <td>NaN</td>\n",
       "      <td>Y:9973136-9976273</td>\n",
       "      <td>NaN</td>\n",
       "      <td>NaN</td>\n",
       "      <td>NaN</td>\n",
       "    </tr>\n",
       "    <tr>\n",
       "      <th>2</th>\n",
       "      <td>cg00061679</td>\n",
       "      <td>cg00061679</td>\n",
       "      <td>28780415</td>\n",
       "      <td>AAAACATTAAAAAACTAATTCACTACTATTTAATTACTTTATTTTC...</td>\n",
       "      <td>NaN</td>\n",
       "      <td>NaN</td>\n",
       "      <td>II</td>\n",
       "      <td>NaN</td>\n",
       "      <td>NaN</td>\n",
       "      <td>TCAACAAATGAGAGACATTGAAGAACTAATTCACTACTATTTGGTT...</td>\n",
       "      <td>37.0</td>\n",
       "      <td>Y</td>\n",
       "      <td>25314171.0</td>\n",
       "      <td>CGATGGAAAATAAAGTAACCAAATAGTAGTGAATTAGTTCTTCAAT...</td>\n",
       "      <td>Y</td>\n",
       "      <td>23723559</td>\n",
       "      <td>R</td>\n",
       "      <td>NaN</td>\n",
       "      <td>NaN</td>\n",
       "      <td>NaN</td>\n",
       "      <td>NaN</td>\n",
       "      <td>DAZ1;DAZ4;DAZ4</td>\n",
       "      <td>NM_004081;NM_020420;NM_001005375</td>\n",
       "      <td>Body;Body;Body</td>\n",
       "      <td>NaN</td>\n",
       "      <td>NaN</td>\n",
       "      <td>NaN</td>\n",
       "      <td>NaN</td>\n",
       "      <td>NaN</td>\n",
       "      <td>NaN</td>\n",
       "      <td>NaN</td>\n",
       "      <td>NaN</td>\n",
       "      <td>NaN</td>\n",
       "    </tr>\n",
       "    <tr>\n",
       "      <th>3</th>\n",
       "      <td>cg00063477</td>\n",
       "      <td>cg00063477</td>\n",
       "      <td>16712347</td>\n",
       "      <td>TATTCTTCCACACAAAATACTAAACRTATATTTACAAAAATACTTC...</td>\n",
       "      <td>NaN</td>\n",
       "      <td>NaN</td>\n",
       "      <td>II</td>\n",
       "      <td>NaN</td>\n",
       "      <td>NaN</td>\n",
       "      <td>CTCCTGTACTTGTTCATTAAATAATGATTCCTTGGATATACCAAGT...</td>\n",
       "      <td>37.0</td>\n",
       "      <td>Y</td>\n",
       "      <td>22741795.0</td>\n",
       "      <td>CGATGGAAGCATTTTTGTAAATATACGTTCAGTATTTTGTGTGGAA...</td>\n",
       "      <td>Y</td>\n",
       "      <td>21151183</td>\n",
       "      <td>F</td>\n",
       "      <td>rs9341313</td>\n",
       "      <td>rs13447379</td>\n",
       "      <td>NaN</td>\n",
       "      <td>NaN</td>\n",
       "      <td>EIF1AY</td>\n",
       "      <td>NM_004681</td>\n",
       "      <td>Body</td>\n",
       "      <td>chrY:22737825-22738052</td>\n",
       "      <td>S_Shelf</td>\n",
       "      <td>NaN</td>\n",
       "      <td>NaN</td>\n",
       "      <td>NaN</td>\n",
       "      <td>NaN</td>\n",
       "      <td>NaN</td>\n",
       "      <td>NaN</td>\n",
       "      <td>NaN</td>\n",
       "    </tr>\n",
       "    <tr>\n",
       "      <th>4</th>\n",
       "      <td>cg00121626</td>\n",
       "      <td>cg00121626</td>\n",
       "      <td>19779393</td>\n",
       "      <td>AAAACTAATAAAAATAACTTACAAACCAAATACTATACCCTACAAC...</td>\n",
       "      <td>NaN</td>\n",
       "      <td>NaN</td>\n",
       "      <td>II</td>\n",
       "      <td>NaN</td>\n",
       "      <td>NaN</td>\n",
       "      <td>AGGTGAATGAAGAGACTAATGGGAGTGGCTTGCAAGCCAGGTACTG...</td>\n",
       "      <td>37.0</td>\n",
       "      <td>Y</td>\n",
       "      <td>21664296.0</td>\n",
       "      <td>AGACTAATGGGAGTGGCTTGCAAGCCAGGTACTGTGCCCTACAACT...</td>\n",
       "      <td>Y</td>\n",
       "      <td>20123684</td>\n",
       "      <td>R</td>\n",
       "      <td>NaN</td>\n",
       "      <td>NaN</td>\n",
       "      <td>NaN</td>\n",
       "      <td>NaN</td>\n",
       "      <td>BCORL2</td>\n",
       "      <td>NR_002923</td>\n",
       "      <td>Body</td>\n",
       "      <td>chrY:21664481-21665063</td>\n",
       "      <td>N_Shore</td>\n",
       "      <td>NaN</td>\n",
       "      <td>NaN</td>\n",
       "      <td>NaN</td>\n",
       "      <td>NaN</td>\n",
       "      <td>NaN</td>\n",
       "      <td>NaN</td>\n",
       "      <td>NaN</td>\n",
       "    </tr>\n",
       "    <tr>\n",
       "      <th>...</th>\n",
       "      <td>...</td>\n",
       "      <td>...</td>\n",
       "      <td>...</td>\n",
       "      <td>...</td>\n",
       "      <td>...</td>\n",
       "      <td>...</td>\n",
       "      <td>...</td>\n",
       "      <td>...</td>\n",
       "      <td>...</td>\n",
       "      <td>...</td>\n",
       "      <td>...</td>\n",
       "      <td>...</td>\n",
       "      <td>...</td>\n",
       "      <td>...</td>\n",
       "      <td>...</td>\n",
       "      <td>...</td>\n",
       "      <td>...</td>\n",
       "      <td>...</td>\n",
       "      <td>...</td>\n",
       "      <td>...</td>\n",
       "      <td>...</td>\n",
       "      <td>...</td>\n",
       "      <td>...</td>\n",
       "      <td>...</td>\n",
       "      <td>...</td>\n",
       "      <td>...</td>\n",
       "      <td>...</td>\n",
       "      <td>...</td>\n",
       "      <td>...</td>\n",
       "      <td>...</td>\n",
       "      <td>...</td>\n",
       "      <td>...</td>\n",
       "      <td>...</td>\n",
       "    </tr>\n",
       "    <tr>\n",
       "      <th>486423</th>\n",
       "      <td>65622344</td>\n",
       "      <td>NORM_T</td>\n",
       "      <td>Purple</td>\n",
       "      <td>Norm_T59</td>\n",
       "      <td>NaN</td>\n",
       "      <td>NaN</td>\n",
       "      <td>NaN</td>\n",
       "      <td>NaN</td>\n",
       "      <td>NaN</td>\n",
       "      <td>NaN</td>\n",
       "      <td>NaN</td>\n",
       "      <td>NaN</td>\n",
       "      <td>NaN</td>\n",
       "      <td>NaN</td>\n",
       "      <td>NaN</td>\n",
       "      <td>NaN</td>\n",
       "      <td>NaN</td>\n",
       "      <td>NaN</td>\n",
       "      <td>NaN</td>\n",
       "      <td>NaN</td>\n",
       "      <td>NaN</td>\n",
       "      <td>NaN</td>\n",
       "      <td>NaN</td>\n",
       "      <td>NaN</td>\n",
       "      <td>NaN</td>\n",
       "      <td>NaN</td>\n",
       "      <td>NaN</td>\n",
       "      <td>NaN</td>\n",
       "      <td>NaN</td>\n",
       "      <td>NaN</td>\n",
       "      <td>NaN</td>\n",
       "      <td>NaN</td>\n",
       "      <td>NaN</td>\n",
       "    </tr>\n",
       "    <tr>\n",
       "      <th>486424</th>\n",
       "      <td>57640346</td>\n",
       "      <td>NORM_C</td>\n",
       "      <td>Green</td>\n",
       "      <td>Norm_C60</td>\n",
       "      <td>NaN</td>\n",
       "      <td>NaN</td>\n",
       "      <td>NaN</td>\n",
       "      <td>NaN</td>\n",
       "      <td>NaN</td>\n",
       "      <td>NaN</td>\n",
       "      <td>NaN</td>\n",
       "      <td>NaN</td>\n",
       "      <td>NaN</td>\n",
       "      <td>NaN</td>\n",
       "      <td>NaN</td>\n",
       "      <td>NaN</td>\n",
       "      <td>NaN</td>\n",
       "      <td>NaN</td>\n",
       "      <td>NaN</td>\n",
       "      <td>NaN</td>\n",
       "      <td>NaN</td>\n",
       "      <td>NaN</td>\n",
       "      <td>NaN</td>\n",
       "      <td>NaN</td>\n",
       "      <td>NaN</td>\n",
       "      <td>NaN</td>\n",
       "      <td>NaN</td>\n",
       "      <td>NaN</td>\n",
       "      <td>NaN</td>\n",
       "      <td>NaN</td>\n",
       "      <td>NaN</td>\n",
       "      <td>NaN</td>\n",
       "      <td>NaN</td>\n",
       "    </tr>\n",
       "    <tr>\n",
       "      <th>486425</th>\n",
       "      <td>47715450</td>\n",
       "      <td>NORM_T</td>\n",
       "      <td>Purple</td>\n",
       "      <td>Norm_T60</td>\n",
       "      <td>NaN</td>\n",
       "      <td>NaN</td>\n",
       "      <td>NaN</td>\n",
       "      <td>NaN</td>\n",
       "      <td>NaN</td>\n",
       "      <td>NaN</td>\n",
       "      <td>NaN</td>\n",
       "      <td>NaN</td>\n",
       "      <td>NaN</td>\n",
       "      <td>NaN</td>\n",
       "      <td>NaN</td>\n",
       "      <td>NaN</td>\n",
       "      <td>NaN</td>\n",
       "      <td>NaN</td>\n",
       "      <td>NaN</td>\n",
       "      <td>NaN</td>\n",
       "      <td>NaN</td>\n",
       "      <td>NaN</td>\n",
       "      <td>NaN</td>\n",
       "      <td>NaN</td>\n",
       "      <td>NaN</td>\n",
       "      <td>NaN</td>\n",
       "      <td>NaN</td>\n",
       "      <td>NaN</td>\n",
       "      <td>NaN</td>\n",
       "      <td>NaN</td>\n",
       "      <td>NaN</td>\n",
       "      <td>NaN</td>\n",
       "      <td>NaN</td>\n",
       "    </tr>\n",
       "    <tr>\n",
       "      <th>486426</th>\n",
       "      <td>28673402</td>\n",
       "      <td>NORM_C</td>\n",
       "      <td>Green</td>\n",
       "      <td>Norm_C61</td>\n",
       "      <td>NaN</td>\n",
       "      <td>NaN</td>\n",
       "      <td>NaN</td>\n",
       "      <td>NaN</td>\n",
       "      <td>NaN</td>\n",
       "      <td>NaN</td>\n",
       "      <td>NaN</td>\n",
       "      <td>NaN</td>\n",
       "      <td>NaN</td>\n",
       "      <td>NaN</td>\n",
       "      <td>NaN</td>\n",
       "      <td>NaN</td>\n",
       "      <td>NaN</td>\n",
       "      <td>NaN</td>\n",
       "      <td>NaN</td>\n",
       "      <td>NaN</td>\n",
       "      <td>NaN</td>\n",
       "      <td>NaN</td>\n",
       "      <td>NaN</td>\n",
       "      <td>NaN</td>\n",
       "      <td>NaN</td>\n",
       "      <td>NaN</td>\n",
       "      <td>NaN</td>\n",
       "      <td>NaN</td>\n",
       "      <td>NaN</td>\n",
       "      <td>NaN</td>\n",
       "      <td>NaN</td>\n",
       "      <td>NaN</td>\n",
       "      <td>NaN</td>\n",
       "    </tr>\n",
       "    <tr>\n",
       "      <th>486427</th>\n",
       "      <td>13742412</td>\n",
       "      <td>NORM_T</td>\n",
       "      <td>Purple</td>\n",
       "      <td>Norm_T61</td>\n",
       "      <td>NaN</td>\n",
       "      <td>NaN</td>\n",
       "      <td>NaN</td>\n",
       "      <td>NaN</td>\n",
       "      <td>NaN</td>\n",
       "      <td>NaN</td>\n",
       "      <td>NaN</td>\n",
       "      <td>NaN</td>\n",
       "      <td>NaN</td>\n",
       "      <td>NaN</td>\n",
       "      <td>NaN</td>\n",
       "      <td>NaN</td>\n",
       "      <td>NaN</td>\n",
       "      <td>NaN</td>\n",
       "      <td>NaN</td>\n",
       "      <td>NaN</td>\n",
       "      <td>NaN</td>\n",
       "      <td>NaN</td>\n",
       "      <td>NaN</td>\n",
       "      <td>NaN</td>\n",
       "      <td>NaN</td>\n",
       "      <td>NaN</td>\n",
       "      <td>NaN</td>\n",
       "      <td>NaN</td>\n",
       "      <td>NaN</td>\n",
       "      <td>NaN</td>\n",
       "      <td>NaN</td>\n",
       "      <td>NaN</td>\n",
       "      <td>NaN</td>\n",
       "    </tr>\n",
       "  </tbody>\n",
       "</table>\n",
       "<p>486428 rows × 33 columns</p>\n",
       "</div>"
      ],
      "text/plain": [
       "            IlmnID        Name AddressA_ID                                   AlleleA_ProbeSeq  AddressB_ID                                   AlleleB_ProbeSeq Infinium_Design_Type Next_Base Color_Channel                                   Forward_Sequence  Genome_Build  CHR     MAPINFO                                          SourceSeq Chromosome_36 Coordinate_36 Strand Probe_SNPs Probe_SNPs_10 Random_Loci Methyl27_Loci UCSC_RefGene_Name            UCSC_RefGene_Accession UCSC_RefGene_Group  \\\n",
       "0       cg00035864  cg00035864    31729416  AAAACACTAACAATCTTATCCACATAAACCCTTAAATTTATCTCAA...          NaN                                                NaN                   II       NaN           NaN  AATCCAAAGATGATGGAGGAGTGCCCGCTCATGATGTGAAGTACCT...          37.0    Y   8553009.0  AGACACTAGCAGTCTTGTCCACATAGACCCTTGAATTTATCTCAAA...             Y       8613009      F        NaN           NaN         NaN           NaN            TTTY18                         NR_001550            TSS1500   \n",
       "1       cg00050873  cg00050873    32735311  ACAAAAAAACAACACACAACTATAATAATTTTTAAAATAAATAAAC...  3.17174e+07  ACGAAAAAACAACGCACAACTATAATAATTTTTAAAATAAATAAAC...                    I         A           Red  TATCTCTGTCTGGCGAGGAGGCAACGCACAACTGTGGTGGTTTTTG...          37.0    Y   9363356.0  CGGGGTCCACCCACTCCAAAAACCACCACAGTTGTGCGTTGCCTCC...             Y       9973356      R        NaN           NaN         NaN           NaN    TSPY4;FAM197Y2            NM_001164471;NR_001553       Body;TSS1500   \n",
       "2       cg00061679  cg00061679    28780415  AAAACATTAAAAAACTAATTCACTACTATTTAATTACTTTATTTTC...          NaN                                                NaN                   II       NaN           NaN  TCAACAAATGAGAGACATTGAAGAACTAATTCACTACTATTTGGTT...          37.0    Y  25314171.0  CGATGGAAAATAAAGTAACCAAATAGTAGTGAATTAGTTCTTCAAT...             Y      23723559      R        NaN           NaN         NaN           NaN    DAZ1;DAZ4;DAZ4  NM_004081;NM_020420;NM_001005375     Body;Body;Body   \n",
       "3       cg00063477  cg00063477    16712347  TATTCTTCCACACAAAATACTAAACRTATATTTACAAAAATACTTC...          NaN                                                NaN                   II       NaN           NaN  CTCCTGTACTTGTTCATTAAATAATGATTCCTTGGATATACCAAGT...          37.0    Y  22741795.0  CGATGGAAGCATTTTTGTAAATATACGTTCAGTATTTTGTGTGGAA...             Y      21151183      F  rs9341313    rs13447379         NaN           NaN            EIF1AY                         NM_004681               Body   \n",
       "4       cg00121626  cg00121626    19779393  AAAACTAATAAAAATAACTTACAAACCAAATACTATACCCTACAAC...          NaN                                                NaN                   II       NaN           NaN  AGGTGAATGAAGAGACTAATGGGAGTGGCTTGCAAGCCAGGTACTG...          37.0    Y  21664296.0  AGACTAATGGGAGTGGCTTGCAAGCCAGGTACTGTGCCCTACAACT...             Y      20123684      R        NaN           NaN         NaN           NaN            BCORL2                         NR_002923               Body   \n",
       "...            ...         ...         ...                                                ...          ...                                                ...                  ...       ...           ...                                                ...           ...  ...         ...                                                ...           ...           ...    ...        ...           ...         ...           ...               ...                               ...                ...   \n",
       "486423    65622344      NORM_T      Purple                                           Norm_T59          NaN                                                NaN                  NaN       NaN           NaN                                                NaN           NaN  NaN         NaN                                                NaN           NaN           NaN    NaN        NaN           NaN         NaN           NaN               NaN                               NaN                NaN   \n",
       "486424    57640346      NORM_C       Green                                           Norm_C60          NaN                                                NaN                  NaN       NaN           NaN                                                NaN           NaN  NaN         NaN                                                NaN           NaN           NaN    NaN        NaN           NaN         NaN           NaN               NaN                               NaN                NaN   \n",
       "486425    47715450      NORM_T      Purple                                           Norm_T60          NaN                                                NaN                  NaN       NaN           NaN                                                NaN           NaN  NaN         NaN                                                NaN           NaN           NaN    NaN        NaN           NaN         NaN           NaN               NaN                               NaN                NaN   \n",
       "486426    28673402      NORM_C       Green                                           Norm_C61          NaN                                                NaN                  NaN       NaN           NaN                                                NaN           NaN  NaN         NaN                                                NaN           NaN           NaN    NaN        NaN           NaN         NaN           NaN               NaN                               NaN                NaN   \n",
       "486427    13742412      NORM_T      Purple                                           Norm_T61          NaN                                                NaN                  NaN       NaN           NaN                                                NaN           NaN  NaN         NaN                                                NaN           NaN           NaN    NaN        NaN           NaN         NaN           NaN               NaN                               NaN                NaN   \n",
       "\n",
       "         UCSC_CpG_Islands_Name Relation_to_UCSC_CpG_Island Phantom  DMR Enhancer         HMM_Island Regulatory_Feature_Name Regulatory_Feature_Group  DHS  \n",
       "0                          NaN                         NaN     NaN  NaN      NaN                NaN                     NaN                      NaN  NaN  \n",
       "1         chrY:9363680-9363943                     N_Shore     NaN  NaN      NaN  Y:9973136-9976273                     NaN                      NaN  NaN  \n",
       "2                          NaN                         NaN     NaN  NaN      NaN                NaN                     NaN                      NaN  NaN  \n",
       "3       chrY:22737825-22738052                     S_Shelf     NaN  NaN      NaN                NaN                     NaN                      NaN  NaN  \n",
       "4       chrY:21664481-21665063                     N_Shore     NaN  NaN      NaN                NaN                     NaN                      NaN  NaN  \n",
       "...                        ...                         ...     ...  ...      ...                ...                     ...                      ...  ...  \n",
       "486423                     NaN                         NaN     NaN  NaN      NaN                NaN                     NaN                      NaN  NaN  \n",
       "486424                     NaN                         NaN     NaN  NaN      NaN                NaN                     NaN                      NaN  NaN  \n",
       "486425                     NaN                         NaN     NaN  NaN      NaN                NaN                     NaN                      NaN  NaN  \n",
       "486426                     NaN                         NaN     NaN  NaN      NaN                NaN                     NaN                      NaN  NaN  \n",
       "486427                     NaN                         NaN     NaN  NaN      NaN                NaN                     NaN                      NaN  NaN  \n",
       "\n",
       "[486428 rows x 33 columns]"
      ]
     },
     "execution_count": 3,
     "metadata": {},
     "output_type": "execute_result"
    }
   ],
   "source": [
    "df"
   ]
  },
  {
   "cell_type": "markdown",
   "metadata": {},
   "source": [
    "#### Look at the cpg and gene name columns"
   ]
  },
  {
   "cell_type": "code",
   "execution_count": 4,
   "metadata": {},
   "outputs": [
    {
     "data": {
      "text/html": [
       "<div>\n",
       "<style scoped>\n",
       "    .dataframe tbody tr th:only-of-type {\n",
       "        vertical-align: middle;\n",
       "    }\n",
       "\n",
       "    .dataframe tbody tr th {\n",
       "        vertical-align: top;\n",
       "    }\n",
       "\n",
       "    .dataframe thead th {\n",
       "        text-align: right;\n",
       "    }\n",
       "</style>\n",
       "<table border=\"1\" class=\"dataframe\">\n",
       "  <thead>\n",
       "    <tr style=\"text-align: right;\">\n",
       "      <th></th>\n",
       "      <th>IlmnID</th>\n",
       "      <th>UCSC_RefGene_Name</th>\n",
       "    </tr>\n",
       "  </thead>\n",
       "  <tbody>\n",
       "    <tr>\n",
       "      <th>0</th>\n",
       "      <td>cg00035864</td>\n",
       "      <td>TTTY18</td>\n",
       "    </tr>\n",
       "    <tr>\n",
       "      <th>1</th>\n",
       "      <td>cg00050873</td>\n",
       "      <td>TSPY4;FAM197Y2</td>\n",
       "    </tr>\n",
       "    <tr>\n",
       "      <th>2</th>\n",
       "      <td>cg00061679</td>\n",
       "      <td>DAZ1;DAZ4;DAZ4</td>\n",
       "    </tr>\n",
       "    <tr>\n",
       "      <th>3</th>\n",
       "      <td>cg00063477</td>\n",
       "      <td>EIF1AY</td>\n",
       "    </tr>\n",
       "    <tr>\n",
       "      <th>4</th>\n",
       "      <td>cg00121626</td>\n",
       "      <td>BCORL2</td>\n",
       "    </tr>\n",
       "    <tr>\n",
       "      <th>...</th>\n",
       "      <td>...</td>\n",
       "      <td>...</td>\n",
       "    </tr>\n",
       "    <tr>\n",
       "      <th>95</th>\n",
       "      <td>cg03515816</td>\n",
       "      <td>NaN</td>\n",
       "    </tr>\n",
       "    <tr>\n",
       "      <th>96</th>\n",
       "      <td>cg03515901</td>\n",
       "      <td>TGIF2LY;TGIF2LY</td>\n",
       "    </tr>\n",
       "    <tr>\n",
       "      <th>97</th>\n",
       "      <td>cg03533500</td>\n",
       "      <td>NaN</td>\n",
       "    </tr>\n",
       "    <tr>\n",
       "      <th>98</th>\n",
       "      <td>cg03535417</td>\n",
       "      <td>TSPY4;FAM197Y2</td>\n",
       "    </tr>\n",
       "    <tr>\n",
       "      <th>99</th>\n",
       "      <td>cg03601053</td>\n",
       "      <td>DDX3Y;DDX3Y;DDX3Y</td>\n",
       "    </tr>\n",
       "  </tbody>\n",
       "</table>\n",
       "<p>100 rows × 2 columns</p>\n",
       "</div>"
      ],
      "text/plain": [
       "        IlmnID  UCSC_RefGene_Name\n",
       "0   cg00035864             TTTY18\n",
       "1   cg00050873     TSPY4;FAM197Y2\n",
       "2   cg00061679     DAZ1;DAZ4;DAZ4\n",
       "3   cg00063477             EIF1AY\n",
       "4   cg00121626             BCORL2\n",
       "..         ...                ...\n",
       "95  cg03515816                NaN\n",
       "96  cg03515901    TGIF2LY;TGIF2LY\n",
       "97  cg03533500                NaN\n",
       "98  cg03535417     TSPY4;FAM197Y2\n",
       "99  cg03601053  DDX3Y;DDX3Y;DDX3Y\n",
       "\n",
       "[100 rows x 2 columns]"
      ]
     },
     "execution_count": 4,
     "metadata": {},
     "output_type": "execute_result"
    }
   ],
   "source": [
    "df[['IlmnID','UCSC_RefGene_Name']].head(100)"
   ]
  },
  {
   "cell_type": "markdown",
   "metadata": {},
   "source": [
    "#### List column names in illumina's table"
   ]
  },
  {
   "cell_type": "code",
   "execution_count": 5,
   "metadata": {},
   "outputs": [
    {
     "name": "stdout",
     "output_type": "stream",
     "text": [
      "IlmnID\n",
      "Name\n",
      "AddressA_ID\n",
      "AlleleA_ProbeSeq\n",
      "AddressB_ID\n",
      "AlleleB_ProbeSeq\n",
      "Infinium_Design_Type\n",
      "Next_Base\n",
      "Color_Channel\n",
      "Forward_Sequence\n",
      "Genome_Build\n",
      "CHR\n",
      "MAPINFO\n",
      "SourceSeq\n",
      "Chromosome_36\n",
      "Coordinate_36\n",
      "Strand\n",
      "Probe_SNPs\n",
      "Probe_SNPs_10\n",
      "Random_Loci\n",
      "Methyl27_Loci\n",
      "UCSC_RefGene_Name\n",
      "UCSC_RefGene_Accession\n",
      "UCSC_RefGene_Group\n",
      "UCSC_CpG_Islands_Name\n",
      "Relation_to_UCSC_CpG_Island\n",
      "Phantom\n",
      "DMR\n",
      "Enhancer\n",
      "HMM_Island\n",
      "Regulatory_Feature_Name\n",
      "Regulatory_Feature_Group\n",
      "DHS\n"
     ]
    }
   ],
   "source": [
    "for col in df.columns:\n",
    "    print(col)"
   ]
  },
  {
   "cell_type": "markdown",
   "metadata": {},
   "source": [
    "#### Make cpg to gene dictionary, keep first gene name"
   ]
  },
  {
   "cell_type": "code",
   "execution_count": 6,
   "metadata": {},
   "outputs": [],
   "source": [
    "cpg_to_gene ={}"
   ]
  },
  {
   "cell_type": "code",
   "execution_count": 7,
   "metadata": {},
   "outputs": [],
   "source": [
    "for Ilid, gene in zip(df.IlmnID.values, df.UCSC_RefGene_Name):\n",
    "    cpg_to_gene[Ilid] = gene"
   ]
  },
  {
   "cell_type": "code",
   "execution_count": 8,
   "metadata": {},
   "outputs": [],
   "source": [
    "for key, value in cpg_to_gene.items():\n",
    "    if type(value) != str:\n",
    "        continue\n",
    "    else:\n",
    "        v = value.split(';')[0]\n",
    "        cpg_to_gene[key] = v"
   ]
  },
  {
   "cell_type": "code",
   "execution_count": 9,
   "metadata": {},
   "outputs": [
    {
     "data": {
      "text/plain": [
       "'KLF14'"
      ]
     },
     "execution_count": 9,
     "metadata": {},
     "output_type": "execute_result"
    }
   ],
   "source": [
    "cpg_to_gene['cg14361627']"
   ]
  },
  {
   "cell_type": "code",
   "execution_count": 10,
   "metadata": {},
   "outputs": [
    {
     "data": {
      "text/plain": [
       "486428"
      ]
     },
     "execution_count": 10,
     "metadata": {},
     "output_type": "execute_result"
    }
   ],
   "source": [
    "len(cpg_to_gene)"
   ]
  },
  {
   "cell_type": "markdown",
   "metadata": {},
   "source": [
    "#### Save cpg to gene mapping dictionary"
   ]
  },
  {
   "cell_type": "code",
   "execution_count": 11,
   "metadata": {},
   "outputs": [
    {
     "name": "stdout",
     "output_type": "stream",
     "text": [
      "pickled as cpg_to_gene\n"
     ]
    }
   ],
   "source": [
    "import age_predict.Pickle_unpickle as pu\n",
    "pu.pickle_object(cpg_to_gene,'cpg_to_gene')"
   ]
  },
  {
   "cell_type": "markdown",
   "metadata": {},
   "source": [
    "#### Save illumina's table as a pandas dataframe"
   ]
  },
  {
   "cell_type": "code",
   "execution_count": 12,
   "metadata": {},
   "outputs": [],
   "source": [
    "df.to_csv('df_IlluminaCpgMap')"
   ]
  },
  {
   "cell_type": "markdown",
   "metadata": {},
   "source": [
    "### Get top ranked cpgs and map to genes"
   ]
  },
  {
   "cell_type": "code",
   "execution_count": 13,
   "metadata": {},
   "outputs": [],
   "source": [
    "cpgs_XGboost_blood_ranked = pu.get_pickled_object('../blood/saved_features/cpgs_XGboost_blood_ranked')"
   ]
  },
  {
   "cell_type": "code",
   "execution_count": 14,
   "metadata": {},
   "outputs": [],
   "source": [
    "# Mapping genes to cpgs\n",
    "genes_XGboost_blood_ranked = []\n",
    "for cpg in cpgs_XGboost_blood_ranked:\n",
    "    gene = cpg_to_gene[cpg]\n",
    "    genes_XGboost_blood_ranked.append(gene)"
   ]
  },
  {
   "cell_type": "code",
   "execution_count": 15,
   "metadata": {},
   "outputs": [],
   "source": [
    "df_top_ranked_cpgs_genes = pd.DataFrame({'cpg':cpgs_XGboost_blood_ranked , 'gene': genes_XGboost_blood_ranked})"
   ]
  },
  {
   "cell_type": "code",
   "execution_count": 16,
   "metadata": {},
   "outputs": [
    {
     "data": {
      "text/html": [
       "<div>\n",
       "<style scoped>\n",
       "    .dataframe tbody tr th:only-of-type {\n",
       "        vertical-align: middle;\n",
       "    }\n",
       "\n",
       "    .dataframe tbody tr th {\n",
       "        vertical-align: top;\n",
       "    }\n",
       "\n",
       "    .dataframe thead th {\n",
       "        text-align: right;\n",
       "    }\n",
       "</style>\n",
       "<table border=\"1\" class=\"dataframe\">\n",
       "  <thead>\n",
       "    <tr style=\"text-align: right;\">\n",
       "      <th></th>\n",
       "      <th>cpg</th>\n",
       "      <th>gene</th>\n",
       "    </tr>\n",
       "  </thead>\n",
       "  <tbody>\n",
       "    <tr>\n",
       "      <th>0</th>\n",
       "      <td>cg04875128</td>\n",
       "      <td>OTUD7A</td>\n",
       "    </tr>\n",
       "    <tr>\n",
       "      <th>1</th>\n",
       "      <td>cg16867657</td>\n",
       "      <td>ELOVL2</td>\n",
       "    </tr>\n",
       "    <tr>\n",
       "      <th>2</th>\n",
       "      <td>cg14361627</td>\n",
       "      <td>KLF14</td>\n",
       "    </tr>\n",
       "    <tr>\n",
       "      <th>3</th>\n",
       "      <td>cg24724428</td>\n",
       "      <td>ELOVL2</td>\n",
       "    </tr>\n",
       "    <tr>\n",
       "      <th>4</th>\n",
       "      <td>cg00292135</td>\n",
       "      <td>C7orf13</td>\n",
       "    </tr>\n",
       "    <tr>\n",
       "      <th>...</th>\n",
       "      <td>...</td>\n",
       "      <td>...</td>\n",
       "    </tr>\n",
       "    <tr>\n",
       "      <th>2254</th>\n",
       "      <td>cg00473462</td>\n",
       "      <td>LOC25845</td>\n",
       "    </tr>\n",
       "    <tr>\n",
       "      <th>2255</th>\n",
       "      <td>cg22580512</td>\n",
       "      <td>NCOR2</td>\n",
       "    </tr>\n",
       "    <tr>\n",
       "      <th>2256</th>\n",
       "      <td>cg20965017</td>\n",
       "      <td>SDHA</td>\n",
       "    </tr>\n",
       "    <tr>\n",
       "      <th>2257</th>\n",
       "      <td>cg06373816</td>\n",
       "      <td>RIMBP2</td>\n",
       "    </tr>\n",
       "    <tr>\n",
       "      <th>2258</th>\n",
       "      <td>cg24167372</td>\n",
       "      <td>NaN</td>\n",
       "    </tr>\n",
       "  </tbody>\n",
       "</table>\n",
       "<p>2259 rows × 2 columns</p>\n",
       "</div>"
      ],
      "text/plain": [
       "             cpg      gene\n",
       "0     cg04875128    OTUD7A\n",
       "1     cg16867657    ELOVL2\n",
       "2     cg14361627     KLF14\n",
       "3     cg24724428    ELOVL2\n",
       "4     cg00292135   C7orf13\n",
       "...          ...       ...\n",
       "2254  cg00473462  LOC25845\n",
       "2255  cg22580512     NCOR2\n",
       "2256  cg20965017      SDHA\n",
       "2257  cg06373816    RIMBP2\n",
       "2258  cg24167372       NaN\n",
       "\n",
       "[2259 rows x 2 columns]"
      ]
     },
     "execution_count": 16,
     "metadata": {},
     "output_type": "execute_result"
    }
   ],
   "source": [
    "df_top_ranked_cpgs_genes"
   ]
  },
  {
   "cell_type": "markdown",
   "metadata": {},
   "source": [
    "#### Save table mapping genes to cpgs as a pandas dataframe"
   ]
  },
  {
   "cell_type": "code",
   "execution_count": 23,
   "metadata": {},
   "outputs": [],
   "source": [
    "df_top_ranked_cpgs_genes.to_csv('df_top_ranked_cpgs_genes.csv')"
   ]
  },
  {
   "cell_type": "markdown",
   "metadata": {},
   "source": [
    "#### Look at how many genes in top 100 cpgs"
   ]
  },
  {
   "cell_type": "code",
   "execution_count": 18,
   "metadata": {},
   "outputs": [],
   "source": [
    "gene_set_100 = set(df_top_ranked_cpgs_genes.gene[:100].values)"
   ]
  },
  {
   "cell_type": "code",
   "execution_count": 19,
   "metadata": {},
   "outputs": [
    {
     "data": {
      "text/plain": [
       "62"
      ]
     },
     "execution_count": 19,
     "metadata": {},
     "output_type": "execute_result"
    }
   ],
   "source": [
    "len(gene_set_100)"
   ]
  },
  {
   "cell_type": "markdown",
   "metadata": {},
   "source": [
    "#### Make histogram of frequemcy of genes in top 100 cpgs"
   ]
  },
  {
   "cell_type": "code",
   "execution_count": 20,
   "metadata": {
    "scrolled": true
   },
   "outputs": [
    {
     "data": {
      "text/plain": [
       "KLF14      5\n",
       "HSD3B7     3\n",
       "FHL2       3\n",
       "ELOVL2     3\n",
       "OTUD7A     2\n",
       "          ..\n",
       "VGF        1\n",
       "EDARADD    1\n",
       "SRC        1\n",
       "RAB34      1\n",
       "TRIM59     1\n",
       "Name: gene, Length: 61, dtype: int64"
      ]
     },
     "execution_count": 20,
     "metadata": {},
     "output_type": "execute_result"
    }
   ],
   "source": [
    "dv  = df_top_ranked_cpgs_genes.gene[:100].value_counts()\n",
    "dv"
   ]
  },
  {
   "cell_type": "code",
   "execution_count": 21,
   "metadata": {
    "scrolled": true
   },
   "outputs": [
    {
     "data": {
      "image/png": "[encoded data removed]",
      "text/plain": [
       "<Figure size 1152x288 with 1 Axes>"
      ]
     },
     "metadata": {},
     "output_type": "display_data"
    }
   ],
   "source": [
    "plt.figure(figsize=(16, 4))\n",
    "plt.bar(dv.index, dv.values)\n",
    "plt.title('Frequency of Genes in top 100 cpgs', fontsize=16)\n",
    "plt.ylabel('Frequency', fontsize=16)\n",
    "plt.xlabel('Gene', fontsize=16)\n",
    "plt.xticks(fontsize=12, rotation=90)\n",
    "plt.show()"
   ]
  },
  {
   "cell_type": "code",
   "execution_count": null,
   "metadata": {},
   "outputs": [],
   "source": []
  }
 ],
 "metadata": {
  "kernelspec": {
   "display_name": "Python 3",
   "language": "python",
   "name": "python3"
  },
  "language_info": {
   "codemirror_mode": {
    "name": "ipython",
    "version": 3
   },
   "file_extension": ".py",
   "mimetype": "text/x-python",
   "name": "python",
   "nbconvert_exporter": "python",
   "pygments_lexer": "ipython3",
   "version": "3.8.3"
  }
 },
 "nbformat": 4,
 "nbformat_minor": 4
}
