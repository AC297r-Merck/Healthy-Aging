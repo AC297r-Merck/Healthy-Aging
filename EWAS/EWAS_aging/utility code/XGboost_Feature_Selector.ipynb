{
 "cells": [
  {
   "cell_type": "markdown",
   "metadata": {},
   "source": [
    "## Functions and Demo for XGboost Cross-validation to get importance scores\n",
    "DC"
   ]
  },
  {
   "cell_type": "markdown",
   "metadata": {},
   "source": [
    "Procedure:\n",
    "* Run XGboost on dataset with a 80/20 split 50 times, new split each time\n",
    "* After each run record the importance scores\n",
    "* After all 50 runs make a dataframe of importance scores\n",
    "*"
   ]
  },
  {
   "cell_type": "code",
   "execution_count": null,
   "metadata": {},
   "outputs": [],
   "source": [
    "# repeat_XGBoost numtrials times using a different split each time \n",
    "# returns importance scores for each run in a df \n",
    "def repeat_XGBoost(df_processed, numtrials, early_stopping_rounds = 10, test_size=0.20):\n",
    "    X = df_processed.iloc[:,2:]\n",
    "    y = df_processed.age\n",
    "    importances = []\n",
    "    rms_train = []\n",
    "    rms_test = []\n",
    "    r2_train = []\n",
    "    r2_test = []\n",
    "    for i in range(numtrials): \n",
    "        X_train, X_test, y_train, y_test = train_test_split(X, y, test_size=test_size)\n",
    "        \n",
    "        XG = XGBRegressor(objective='reg:squarederror',\n",
    "                    n_estimators=200,\n",
    "                    min_child_weight=1,\n",
    "                    max_depth=3,\n",
    "                    subsample=0.7,\n",
    "                    colsample_bytree=0.5,\n",
    "                    learning_rate=0.1)\n",
    "    \n",
    "        eval_set = [(X_train, y_train),(X_test, y_test)]\n",
    "        XG.fit(X_train, y_train, eval_metric=\"rmse\", early_stopping_rounds = early_stopping_rounds, eval_set=eval_set, verbose=False)\n",
    "        \n",
    "        preds_train = XG.predict(X_train)\n",
    "        preds_test = XG.predict(X_test)\n",
    "        rms_train.append((mean_squared_error(y_train, preds_train))**0.5)\n",
    "        rms_test.append((mean_squared_error(y_test, preds_test))**0.5)\n",
    "        r2_train.append(r2_score(y_train, preds_train))\n",
    "        r2_test.append(r2_score(y_test, preds_test))\n",
    "        print(i+1, f'r^2 test = {r2_score(y_test, preds_test)}')\n",
    "        importances.append(XG.feature_importances_)\n",
    "    df_imp = pd.DataFrame(importances, columns = df_processed.columns[5:])\n",
    "    df_imp = df_imp.transpose()\n",
    "    cols = []\n",
    "    for i in range(1,numtrials+1):\n",
    "        cols.append('trial_'+str(i))\n",
    "    df_imp.columns = cols\n",
    "    df_imp['Mean'] = df_imp.mean(axis=1)\n",
    "    df_imp['Std'] = df_imp.std(axis=1)\n",
    "    return df_imp, rms_train, rms_test, r2_train, r2_test\n",
    "\n",
    "# Takes df of importance scores produced by repeat_XGBoost and sorts by mean imp score\n",
    "def importances_sorted_by_mean(df_imp):\n",
    "    df_imp_sorted = df_imp.sort_values('Mean', ascending=False)\n",
    "    return df_imp_sorted\n",
    "\n",
    "# Makes a histogram of the frequecy of cgs in the top (top_num) importance scores\n",
    "def histogram_of_top_CpGs_by_importance(df_imp, top_num=20):\n",
    "    vs = []\n",
    "    inds = []\n",
    "    for col in df_imp.columns[:-2]:\n",
    "        c = df_imp[col].sort_values(ascending=False)\n",
    "        vs.append(c[:top_num])\n",
    "        inds  = inds + list(c.index[:top_num])\n",
    "    h = pd.Series(inds).value_counts()\n",
    "    # Plotting the first 100 importance scores\n",
    "    plt.figure(figsize = (30, 12))\n",
    "    plt.bar(h.index[:100],h[:100])\n",
    "    plt.title('Frequency of CpGs in the top 100 importances')\n",
    "    plt.ylabel('Frequency')\n",
    "    plt.xlabel('CpG')\n",
    "    plt.xticks(fontsize = 16, rotation=90)\n",
    "    plt.show()\n",
    "    return inds, vs, h"
   ]
  },
  {
   "cell_type": "code",
   "execution_count": null,
   "metadata": {},
   "outputs": [],
   "source": [
    "%%time\n",
    "# Running XGboost on working dataset 50 times with 50 different train/test splits\n",
    "# Assumes all columns in df_p_working numbered 2 or higher are cpg columns.\n",
    "# This can take many hours\n",
    "df_imp, rms_train, rms_test, r2_train, r2_test = repeat_XGBoost(df_p_working, 50, test_size=0.20)"
   ]
  },
  {
   "cell_type": "code",
   "execution_count": null,
   "metadata": {},
   "outputs": [],
   "source": [
    "# write 50 trials results to a file, so don't have to rerun the 50 XGboost trials with the whole dataset again\n",
    "\n",
    "# file = 'df_importance_EWAS_age_' + tissue_of_interest + '_50_trials.csv'\n",
    "# df_imp.to_csv(file)\n",
    "\n",
    "# Reading df_imp from a file \n",
    "\n",
    "# df_imp = pd.read_csv('./blood/df_importance_EWAS_age_whole_blood_50_trials.csv' , index_col=0)"
   ]
  },
  {
   "cell_type": "code",
   "execution_count": null,
   "metadata": {},
   "outputs": [],
   "source": [
    "# Finding cpgs with on average the highest importance scores, see mean columnn in df below\n",
    "# df_imp_sorted = importances_sorted_by_mean(df_imp)"
   ]
  },
  {
   "cell_type": "code",
   "execution_count": null,
   "metadata": {},
   "outputs": [],
   "source": [
    "# This function makes a histogram of the frequency of cpgs in the top 100 in the 50 trials above\n",
    "inds, vs, h = histogram_of_top_CpGs_by_importance(df_imp, 100)"
   ]
  },
  {
   "cell_type": "code",
   "execution_count": null,
   "metadata": {},
   "outputs": [],
   "source": []
  },
  {
   "cell_type": "code",
   "execution_count": null,
   "metadata": {},
   "outputs": [],
   "source": []
  }
 ],
 "metadata": {
  "kernelspec": {
   "display_name": "Python 3",
   "language": "python",
   "name": "python3"
  },
  "language_info": {
   "codemirror_mode": {
    "name": "ipython",
    "version": 3
   },
   "file_extension": ".py",
   "mimetype": "text/x-python",
   "name": "python",
   "nbconvert_exporter": "python",
   "pygments_lexer": "ipython3",
   "version": "3.8.3"
  }
 },
 "nbformat": 4,
 "nbformat_minor": 4
}
